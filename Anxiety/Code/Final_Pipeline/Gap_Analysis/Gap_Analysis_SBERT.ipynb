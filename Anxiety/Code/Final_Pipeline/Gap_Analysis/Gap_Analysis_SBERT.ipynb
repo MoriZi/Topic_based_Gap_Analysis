{
 "cells": [
  {
   "cell_type": "code",
   "execution_count": 1,
   "metadata": {},
   "outputs": [],
   "source": [
    "import pandas as pd\n",
    "import numpy as np"
   ]
  },
  {
   "cell_type": "code",
   "execution_count": 2,
   "metadata": {},
   "outputs": [],
   "source": [
    "#Load dataset\n",
    "df=pd.read_csv(\"GA_JvM.csv\")"
   ]
  },
  {
   "cell_type": "code",
   "execution_count": 3,
   "metadata": {},
   "outputs": [],
   "source": [
    "df=df.loc[:, ~df.columns.str.contains('^Unnamed')]"
   ]
  },
  {
   "cell_type": "code",
   "execution_count": 4,
   "metadata": {
    "scrolled": true
   },
   "outputs": [
    {
     "data": {
      "text/html": [
       "<div>\n",
       "<style scoped>\n",
       "    .dataframe tbody tr th:only-of-type {\n",
       "        vertical-align: middle;\n",
       "    }\n",
       "\n",
       "    .dataframe tbody tr th {\n",
       "        vertical-align: top;\n",
       "    }\n",
       "\n",
       "    .dataframe thead th {\n",
       "        text-align: right;\n",
       "    }\n",
       "</style>\n",
       "<table border=\"1\" class=\"dataframe\">\n",
       "  <thead>\n",
       "    <tr style=\"text-align: right;\">\n",
       "      <th></th>\n",
       "      <th>corpus</th>\n",
       "      <th>corpus_year</th>\n",
       "      <th>query_source</th>\n",
       "      <th>query_year</th>\n",
       "      <th>query</th>\n",
       "      <th>query_topicID</th>\n",
       "      <th>best_match</th>\n",
       "      <th>best_match_score</th>\n",
       "      <th>best_match_topicID</th>\n",
       "    </tr>\n",
       "  </thead>\n",
       "  <tbody>\n",
       "    <tr>\n",
       "      <th>0</th>\n",
       "      <td>Academic</td>\n",
       "      <td>2012</td>\n",
       "      <td>Medium</td>\n",
       "      <td>2012</td>\n",
       "      <td>['blog', 'spend', 'black', 'suffer', 'stigma',...</td>\n",
       "      <td>0</td>\n",
       "      <td>['symptom', 'patient', 'depression', 'somatic'...</td>\n",
       "      <td>0.587137</td>\n",
       "      <td>37</td>\n",
       "    </tr>\n",
       "    <tr>\n",
       "      <th>1</th>\n",
       "      <td>Academic</td>\n",
       "      <td>2012</td>\n",
       "      <td>Medium</td>\n",
       "      <td>2012</td>\n",
       "      <td>['blog', 'twin', 'baseball', 'game', 'spend', ...</td>\n",
       "      <td>1</td>\n",
       "      <td>['fear', 'sad', 'memory', 'social', 'previous'...</td>\n",
       "      <td>0.542189</td>\n",
       "      <td>18</td>\n",
       "    </tr>\n",
       "    <tr>\n",
       "      <th>2</th>\n",
       "      <td>Academic</td>\n",
       "      <td>2012</td>\n",
       "      <td>Medium</td>\n",
       "      <td>2012</td>\n",
       "      <td>['symptom', 'physical', 'emotional', 'aqui', '...</td>\n",
       "      <td>2</td>\n",
       "      <td>['threat', 'bias', 'attention', 'reactivity', ...</td>\n",
       "      <td>0.703528</td>\n",
       "      <td>9</td>\n",
       "    </tr>\n",
       "    <tr>\n",
       "      <th>3</th>\n",
       "      <td>Academic</td>\n",
       "      <td>2012</td>\n",
       "      <td>Medium</td>\n",
       "      <td>2012</td>\n",
       "      <td>['faith', 'pull', 'action', 'strong', 'spend',...</td>\n",
       "      <td>3</td>\n",
       "      <td>['fear', 'sad', 'memory', 'social', 'previous'...</td>\n",
       "      <td>0.646149</td>\n",
       "      <td>18</td>\n",
       "    </tr>\n",
       "    <tr>\n",
       "      <th>4</th>\n",
       "      <td>Academic</td>\n",
       "      <td>2012</td>\n",
       "      <td>Medium</td>\n",
       "      <td>2012</td>\n",
       "      <td>['emotional', 'symptom', 'physical', 'controla...</td>\n",
       "      <td>4</td>\n",
       "      <td>['anxiety', 'negative', 'sensitivity', 'belief...</td>\n",
       "      <td>0.729099</td>\n",
       "      <td>33</td>\n",
       "    </tr>\n",
       "    <tr>\n",
       "      <th>...</th>\n",
       "      <td>...</td>\n",
       "      <td>...</td>\n",
       "      <td>...</td>\n",
       "      <td>...</td>\n",
       "      <td>...</td>\n",
       "      <td>...</td>\n",
       "      <td>...</td>\n",
       "      <td>...</td>\n",
       "      <td>...</td>\n",
       "    </tr>\n",
       "    <tr>\n",
       "      <th>2335</th>\n",
       "      <td>Academic</td>\n",
       "      <td>2020</td>\n",
       "      <td>Medium</td>\n",
       "      <td>2020</td>\n",
       "      <td>['social', 'support', 'group', 'uncertainty', ...</td>\n",
       "      <td>13</td>\n",
       "      <td>['negative', 'self', 'relationship', 'individu...</td>\n",
       "      <td>0.678131</td>\n",
       "      <td>12</td>\n",
       "    </tr>\n",
       "    <tr>\n",
       "      <th>2336</th>\n",
       "      <td>Academic</td>\n",
       "      <td>2020</td>\n",
       "      <td>Medium</td>\n",
       "      <td>2020</td>\n",
       "      <td>['plan', 'manage', 'set', 'list', 'task', 'avo...</td>\n",
       "      <td>14</td>\n",
       "      <td>['cognitive', 'trait', 'performance', 'avoidan...</td>\n",
       "      <td>0.617777</td>\n",
       "      <td>9</td>\n",
       "    </tr>\n",
       "    <tr>\n",
       "      <th>2337</th>\n",
       "      <td>Academic</td>\n",
       "      <td>2020</td>\n",
       "      <td>Medium</td>\n",
       "      <td>2020</td>\n",
       "      <td>['meditation', 'com', 'https', 'mindfulness', ...</td>\n",
       "      <td>15</td>\n",
       "      <td>['cognitive', 'trait', 'performance', 'avoidan...</td>\n",
       "      <td>0.699146</td>\n",
       "      <td>9</td>\n",
       "    </tr>\n",
       "    <tr>\n",
       "      <th>2338</th>\n",
       "      <td>Academic</td>\n",
       "      <td>2020</td>\n",
       "      <td>Medium</td>\n",
       "      <td>2020</td>\n",
       "      <td>['child', 'parent', 'kid', 'student', 'school'...</td>\n",
       "      <td>16</td>\n",
       "      <td>['health', 'mental', 'child', 'report', 'exper...</td>\n",
       "      <td>0.670809</td>\n",
       "      <td>15</td>\n",
       "    </tr>\n",
       "    <tr>\n",
       "      <th>2339</th>\n",
       "      <td>Academic</td>\n",
       "      <td>2020</td>\n",
       "      <td>Medium</td>\n",
       "      <td>2020</td>\n",
       "      <td>['exercise', 'reduce', 'study', 'effect', 'inc...</td>\n",
       "      <td>17</td>\n",
       "      <td>['treatment', 'intervention', 'group', 'therap...</td>\n",
       "      <td>0.577230</td>\n",
       "      <td>5</td>\n",
       "    </tr>\n",
       "  </tbody>\n",
       "</table>\n",
       "<p>2340 rows × 9 columns</p>\n",
       "</div>"
      ],
      "text/plain": [
       "        corpus  corpus_year query_source  query_year  \\\n",
       "0     Academic         2012       Medium        2012   \n",
       "1     Academic         2012       Medium        2012   \n",
       "2     Academic         2012       Medium        2012   \n",
       "3     Academic         2012       Medium        2012   \n",
       "4     Academic         2012       Medium        2012   \n",
       "...        ...          ...          ...         ...   \n",
       "2335  Academic         2020       Medium        2020   \n",
       "2336  Academic         2020       Medium        2020   \n",
       "2337  Academic         2020       Medium        2020   \n",
       "2338  Academic         2020       Medium        2020   \n",
       "2339  Academic         2020       Medium        2020   \n",
       "\n",
       "                                                  query  query_topicID  \\\n",
       "0     ['blog', 'spend', 'black', 'suffer', 'stigma',...              0   \n",
       "1     ['blog', 'twin', 'baseball', 'game', 'spend', ...              1   \n",
       "2     ['symptom', 'physical', 'emotional', 'aqui', '...              2   \n",
       "3     ['faith', 'pull', 'action', 'strong', 'spend',...              3   \n",
       "4     ['emotional', 'symptom', 'physical', 'controla...              4   \n",
       "...                                                 ...            ...   \n",
       "2335  ['social', 'support', 'group', 'uncertainty', ...             13   \n",
       "2336  ['plan', 'manage', 'set', 'list', 'task', 'avo...             14   \n",
       "2337  ['meditation', 'com', 'https', 'mindfulness', ...             15   \n",
       "2338  ['child', 'parent', 'kid', 'student', 'school'...             16   \n",
       "2339  ['exercise', 'reduce', 'study', 'effect', 'inc...             17   \n",
       "\n",
       "                                             best_match  best_match_score  \\\n",
       "0     ['symptom', 'patient', 'depression', 'somatic'...          0.587137   \n",
       "1     ['fear', 'sad', 'memory', 'social', 'previous'...          0.542189   \n",
       "2     ['threat', 'bias', 'attention', 'reactivity', ...          0.703528   \n",
       "3     ['fear', 'sad', 'memory', 'social', 'previous'...          0.646149   \n",
       "4     ['anxiety', 'negative', 'sensitivity', 'belief...          0.729099   \n",
       "...                                                 ...               ...   \n",
       "2335  ['negative', 'self', 'relationship', 'individu...          0.678131   \n",
       "2336  ['cognitive', 'trait', 'performance', 'avoidan...          0.617777   \n",
       "2337  ['cognitive', 'trait', 'performance', 'avoidan...          0.699146   \n",
       "2338  ['health', 'mental', 'child', 'report', 'exper...          0.670809   \n",
       "2339  ['treatment', 'intervention', 'group', 'therap...          0.577230   \n",
       "\n",
       "      best_match_topicID  \n",
       "0                     37  \n",
       "1                     18  \n",
       "2                      9  \n",
       "3                     18  \n",
       "4                     33  \n",
       "...                  ...  \n",
       "2335                  12  \n",
       "2336                   9  \n",
       "2337                   9  \n",
       "2338                  15  \n",
       "2339                   5  \n",
       "\n",
       "[2340 rows x 9 columns]"
      ]
     },
     "execution_count": 4,
     "metadata": {},
     "output_type": "execute_result"
    }
   ],
   "source": [
    "df"
   ]
  },
  {
   "cell_type": "code",
   "execution_count": 5,
   "metadata": {},
   "outputs": [],
   "source": [
    "n=len(df)"
   ]
  },
  {
   "cell_type": "code",
   "execution_count": 6,
   "metadata": {},
   "outputs": [
    {
     "name": "stdout",
     "output_type": "stream",
     "text": [
      "7\n"
     ]
    }
   ],
   "source": [
    "#Get the number of topics in one year\n",
    "df12=df[df['query_year']==2012]\n",
    "n12=max(df12['query_topicID'])\n",
    "print(n12)"
   ]
  },
  {
   "cell_type": "code",
   "execution_count": 7,
   "metadata": {},
   "outputs": [
    {
     "name": "stdout",
     "output_type": "stream",
     "text": [
      "11\n"
     ]
    }
   ],
   "source": [
    "df13=df[df['query_year']==2013]\n",
    "n13=max(df13['query_topicID'])\n",
    "print(n13)"
   ]
  },
  {
   "cell_type": "code",
   "execution_count": 8,
   "metadata": {},
   "outputs": [
    {
     "name": "stdout",
     "output_type": "stream",
     "text": [
      "41\n"
     ]
    }
   ],
   "source": [
    "df14=df[df['query_year']==2014]\n",
    "n14=max(df14['query_topicID'])\n",
    "print(n14)"
   ]
  },
  {
   "cell_type": "code",
   "execution_count": 9,
   "metadata": {},
   "outputs": [
    {
     "name": "stdout",
     "output_type": "stream",
     "text": [
      "41\n"
     ]
    }
   ],
   "source": [
    "df15=df[df['query_year']==2015]\n",
    "n15=max(df15['query_topicID'])\n",
    "print(n15)"
   ]
  },
  {
   "cell_type": "code",
   "execution_count": 10,
   "metadata": {},
   "outputs": [
    {
     "name": "stdout",
     "output_type": "stream",
     "text": [
      "41\n"
     ]
    }
   ],
   "source": [
    "df16=df[df['query_year']==2016]\n",
    "n16=max(df16['query_topicID'])\n",
    "print(n16)"
   ]
  },
  {
   "cell_type": "code",
   "execution_count": 11,
   "metadata": {},
   "outputs": [
    {
     "name": "stdout",
     "output_type": "stream",
     "text": [
      "25\n"
     ]
    }
   ],
   "source": [
    "df17=df[df['query_year']==2017]\n",
    "n17=max(df17['query_topicID'])\n",
    "print(n17)"
   ]
  },
  {
   "cell_type": "code",
   "execution_count": 12,
   "metadata": {},
   "outputs": [
    {
     "name": "stdout",
     "output_type": "stream",
     "text": [
      "43\n"
     ]
    }
   ],
   "source": [
    "df18=df[df['query_year']==2018]\n",
    "n18=max(df18['query_topicID'])\n",
    "print(n18)"
   ]
  },
  {
   "cell_type": "code",
   "execution_count": 13,
   "metadata": {},
   "outputs": [
    {
     "name": "stdout",
     "output_type": "stream",
     "text": [
      "25\n"
     ]
    }
   ],
   "source": [
    "df19=df[df['query_year']==2019]\n",
    "n19=max(df19['query_topicID'])\n",
    "print(n19)"
   ]
  },
  {
   "cell_type": "code",
   "execution_count": 14,
   "metadata": {},
   "outputs": [
    {
     "name": "stdout",
     "output_type": "stream",
     "text": [
      "17\n"
     ]
    }
   ],
   "source": [
    "df20=df[df['query_year']==2020]\n",
    "n20=max(df20['query_topicID'])\n",
    "print(n20)"
   ]
  },
  {
   "cell_type": "code",
   "execution_count": 15,
   "metadata": {},
   "outputs": [],
   "source": [
    "ls12=[]\n",
    "ls13=[]\n",
    "ls14=[]\n",
    "ls15=[]\n",
    "ls16=[]\n",
    "ls17=[]\n",
    "ls18=[]\n",
    "ls19=[]\n",
    "ls20=[]\n",
    "for i in range(0,n):\n",
    "    if df['query_year'][i]==2012:\n",
    "        x=df['query_topicID'][i]\n",
    "        y=df['best_match_score'][i]\n",
    "        tup=(x,y)\n",
    "        #This tuple is of the form (topic_ID, highest score) for a given year\n",
    "        ls12.append(tup)\n",
    "        #This list stores all such tuples for one year\n",
    "    elif df['query_year'][i]==2013:\n",
    "        x=df['query_topicID'][i]\n",
    "        y=df['best_match_score'][i]\n",
    "        tup=(x,y)\n",
    "        ls13.append(tup)\n",
    "    elif df['query_year'][i]==2014:\n",
    "        x=df['query_topicID'][i]\n",
    "        y=df['best_match_score'][i]\n",
    "        tup=(x,y)\n",
    "        ls14.append(tup)\n",
    "    elif df['query_year'][i]==2015:\n",
    "        x=df['query_topicID'][i]\n",
    "        y=df['best_match_score'][i]\n",
    "        tup=(x,y)\n",
    "        ls15.append(tup)\n",
    "    elif df['query_year'][i]==2016:\n",
    "        x=df['query_topicID'][i]\n",
    "        y=df['best_match_score'][i]\n",
    "        tup=(x,y)\n",
    "        ls16.append(tup)\n",
    "    elif df['query_year'][i]==2017:\n",
    "        x=df['query_topicID'][i]\n",
    "        y=df['best_match_score'][i]\n",
    "        tup=(x,y)\n",
    "        ls17.append(tup)\n",
    "    elif df['query_year'][i]==2018:\n",
    "        x=df['query_topicID'][i]\n",
    "        y=df['best_match_score'][i]\n",
    "        tup=(x,y)\n",
    "        ls18.append(tup)\n",
    "    elif df['query_year'][i]==2019:\n",
    "        x=df['query_topicID'][i]\n",
    "        y=df['best_match_score'][i]\n",
    "        tup=(x,y)\n",
    "        ls19.append(tup)\n",
    "    elif df['query_year'][i]==2020:\n",
    "        x=df['query_topicID'][i]\n",
    "        y=df['best_match_score'][i]\n",
    "        tup=(x,y)\n",
    "        ls20.append(tup)"
   ]
  },
  {
   "cell_type": "code",
   "execution_count": 16,
   "metadata": {},
   "outputs": [
    {
     "name": "stdout",
     "output_type": "stream",
     "text": [
      "[(0, 0.592080593109131), (1, 0.679478764533997), (2, 0.708332896232605), (3, 0.605270147323608), (4, 0.67196136713028), (5, 0.693621814250946), (6, 0.567223787307739), (7, 0.615176975727081), (8, 0.676750838756561), (9, 0.61145007610321), (10, 0.631388604640961), (11, 0.525472581386566), (0, 0.547907829284668), (1, 0.666599094867706), (2, 0.716087579727173), (3, 0.527930974960327), (4, 0.656490981578827), (5, 0.684673964977264), (6, 0.576245129108429), (7, 0.568400800228119), (8, 0.672967433929443), (9, 0.581789493560791), (10, 0.684858858585358), (11, 0.530473470687866), (0, 0.521400809288025), (1, 0.644586205482483), (2, 0.690899908542633), (3, 0.578934371471405), (4, 0.637978851795197), (5, 0.654102087020874), (6, 0.632896542549133), (7, 0.593010604381561), (8, 0.690688490867615), (9, 0.581377804279327), (10, 0.629294812679291), (11, 0.537673830986023), (0, 0.581149637699127), (1, 0.707160294055939), (2, 0.615273237228394), (3, 0.535333514213562), (4, 0.631887018680573), (5, 0.700124204158783), (6, 0.538260817527771), (7, 0.578668355941772), (8, 0.667205631732941), (9, 0.570899724960327), (10, 0.646071553230285), (11, 0.519424498081207), (0, 0.578332483768463), (1, 0.680784523487091), (2, 0.719133138656616), (3, 0.543209433555603), (4, 0.659658670425415), (5, 0.655745327472687), (6, 0.551901459693909), (7, 0.581606566905975), (8, 0.642470896244049), (9, 0.643345236778259), (10, 0.647687792778015), (11, 0.54335629940033), (0, 0.549889087677002), (1, 0.669418275356293), (2, 0.684034943580627), (3, 0.515813827514648), (4, 0.692972838878632), (5, 0.672487437725067), (6, 0.5442875623703), (7, 0.583090782165527), (8, 0.623637735843658), (9, 0.616968035697937), (10, 0.634894251823425), (11, 0.524250328540802), (0, 0.534363567829132), (1, 0.683910489082336), (2, 0.69828999042511), (3, 0.525047481060028), (4, 0.703996777534485), (5, 0.657923460006714), (6, 0.546397387981415), (7, 0.583116412162781), (8, 0.639322221279144), (9, 0.616686403751373), (10, 0.652333617210388), (11, 0.489739805459976), (0, 0.535045802593231), (1, 0.668229997158051), (2, 0.673346281051636), (3, 0.535126507282257), (4, 0.659234523773193), (5, 0.672258734703064), (6, 0.493004590272903), (7, 0.615098893642426), (8, 0.607921600341797), (9, 0.627189934253693), (10, 0.629249393939972), (11, 0.498073130846024), (0, 0.526216566562653), (1, 0.656803548336029), (2, 0.686046123504639), (3, 0.519204676151276), (4, 0.678495705127716), (5, 0.662828028202057), (6, 0.529707193374634), (7, 0.625097930431366), (8, 0.662945449352264), (9, 0.593808591365814), (10, 0.66854465007782), (11, 0.526232481002808)]\n"
     ]
    }
   ],
   "source": [
    "print(ls13)"
   ]
  },
  {
   "cell_type": "code",
   "execution_count": 17,
   "metadata": {},
   "outputs": [
    {
     "name": "stdout",
     "output_type": "stream",
     "text": [
      "[(0, 0.592080593109131), (0, 0.547907829284668), (0, 0.521400809288025), (0, 0.581149637699127), (0, 0.578332483768463), (0, 0.549889087677002), (0, 0.534363567829132), (0, 0.535045802593231), (0, 0.526216566562653)]\n"
     ]
    }
   ],
   "source": [
    "t0=[]\n",
    "l=len(ls13)\n",
    "for i in range(l):\n",
    "    if ls13[i][0]==0:\n",
    "        t0.append(ls13[i])\n",
    "print(t0)"
   ]
  },
  {
   "cell_type": "code",
   "execution_count": 18,
   "metadata": {},
   "outputs": [
    {
     "name": "stdout",
     "output_type": "stream",
     "text": [
      "(0, 0.592080593109131)\n"
     ]
    }
   ],
   "source": [
    "m=max(t0)\n",
    "print(m)"
   ]
  },
  {
   "cell_type": "code",
   "execution_count": 19,
   "metadata": {},
   "outputs": [],
   "source": [
    "row=df[df['best_match_score'] == m[1]]"
   ]
  },
  {
   "cell_type": "code",
   "execution_count": 20,
   "metadata": {},
   "outputs": [],
   "source": [
    "#Function to get the highest score for a particular query by topic_ID number\n",
    "def get_best_score(ls,topic_ID):\n",
    "    t=[]\n",
    "    l=len(ls)\n",
    "    for i in range(l):\n",
    "        if ls[i][0]==topic_ID:\n",
    "            t.append(ls[i])\n",
    "    m=max(t)\n",
    "    #print(m)\n",
    "    row=df[df['best_match_score'] == m[1]]\n",
    "    return row"
   ]
  },
  {
   "cell_type": "code",
   "execution_count": 21,
   "metadata": {},
   "outputs": [
    {
     "name": "stdout",
     "output_type": "stream",
     "text": [
      "     corpus  corpus_year query_source  query_year  \\\n",
      "0  Academic         2012       Medium        2012   \n",
      "\n",
      "                                               query  query_topicID  \\\n",
      "0  ['blog', 'spend', 'black', 'suffer', 'stigma',...              0   \n",
      "\n",
      "                                          best_match  best_match_score  \\\n",
      "0  ['symptom', 'patient', 'depression', 'somatic'...          0.587137   \n",
      "\n",
      "   best_match_topicID  \n",
      "0                  37  \n"
     ]
    }
   ],
   "source": [
    "ans=get_best_score(ls12,0)\n",
    "print(ans)"
   ]
  },
  {
   "cell_type": "code",
   "execution_count": 22,
   "metadata": {},
   "outputs": [],
   "source": [
    "#Create a Dataframe to store the results\n",
    "output=pd.DataFrame()"
   ]
  },
  {
   "cell_type": "code",
   "execution_count": 23,
   "metadata": {},
   "outputs": [],
   "source": [
    "#Gap Analysis for 2012\n",
    "for val in range(n12):\n",
    "    op=get_best_score(ls12,val)\n",
    "    output=output.append(op)"
   ]
  },
  {
   "cell_type": "code",
   "execution_count": 24,
   "metadata": {},
   "outputs": [],
   "source": [
    "#Gap Analysis for 2013\n",
    "for val in range(n13):\n",
    "    op=get_best_score(ls13,val)\n",
    "    output=output.append(op)"
   ]
  },
  {
   "cell_type": "code",
   "execution_count": 25,
   "metadata": {},
   "outputs": [],
   "source": [
    "#Gap Analysis for 2014\n",
    "for val in range(n14):\n",
    "    op=get_best_score(ls14,val)\n",
    "    output=output.append(op)"
   ]
  },
  {
   "cell_type": "code",
   "execution_count": 26,
   "metadata": {},
   "outputs": [],
   "source": [
    "#Gap Analysis for 2015\n",
    "for val in range(n15):\n",
    "    op=get_best_score(ls15,val)\n",
    "    output=output.append(op)"
   ]
  },
  {
   "cell_type": "code",
   "execution_count": 27,
   "metadata": {},
   "outputs": [],
   "source": [
    "#Gap Analysis for 2016\n",
    "for val in range(n16):\n",
    "    op=get_best_score(ls16,val)\n",
    "    output=output.append(op)"
   ]
  },
  {
   "cell_type": "code",
   "execution_count": 28,
   "metadata": {},
   "outputs": [],
   "source": [
    "#Gap Analysis for 2017\n",
    "for val in range(n17):\n",
    "    op=get_best_score(ls17,val)\n",
    "    output=output.append(op)"
   ]
  },
  {
   "cell_type": "code",
   "execution_count": 29,
   "metadata": {},
   "outputs": [],
   "source": [
    "#Gap Analysis for 2018\n",
    "for val in range(n18):\n",
    "    op=get_best_score(ls18,val)\n",
    "    output=output.append(op)"
   ]
  },
  {
   "cell_type": "code",
   "execution_count": 30,
   "metadata": {},
   "outputs": [],
   "source": [
    "#Gap Analysis for 2019\n",
    "for val in range(n19):\n",
    "    op=get_best_score(ls19,val)\n",
    "    output=output.append(op)"
   ]
  },
  {
   "cell_type": "code",
   "execution_count": 31,
   "metadata": {},
   "outputs": [],
   "source": [
    "#Gap Analysis for 2020\n",
    "for val in range(n20):\n",
    "    op=get_best_score(ls20,val)\n",
    "    output=output.append(op)"
   ]
  },
  {
   "cell_type": "code",
   "execution_count": 32,
   "metadata": {},
   "outputs": [
    {
     "data": {
      "text/html": [
       "<div>\n",
       "<style scoped>\n",
       "    .dataframe tbody tr th:only-of-type {\n",
       "        vertical-align: middle;\n",
       "    }\n",
       "\n",
       "    .dataframe tbody tr th {\n",
       "        vertical-align: top;\n",
       "    }\n",
       "\n",
       "    .dataframe thead th {\n",
       "        text-align: right;\n",
       "    }\n",
       "</style>\n",
       "<table border=\"1\" class=\"dataframe\">\n",
       "  <thead>\n",
       "    <tr style=\"text-align: right;\">\n",
       "      <th></th>\n",
       "      <th>corpus</th>\n",
       "      <th>corpus_year</th>\n",
       "      <th>query_source</th>\n",
       "      <th>query_year</th>\n",
       "      <th>query</th>\n",
       "      <th>query_topicID</th>\n",
       "      <th>best_match</th>\n",
       "      <th>best_match_score</th>\n",
       "      <th>best_match_topicID</th>\n",
       "    </tr>\n",
       "  </thead>\n",
       "  <tbody>\n",
       "    <tr>\n",
       "      <th>0</th>\n",
       "      <td>Academic</td>\n",
       "      <td>2012</td>\n",
       "      <td>Medium</td>\n",
       "      <td>2012</td>\n",
       "      <td>['blog', 'spend', 'black', 'suffer', 'stigma',...</td>\n",
       "      <td>0</td>\n",
       "      <td>['symptom', 'patient', 'depression', 'somatic'...</td>\n",
       "      <td>0.587137</td>\n",
       "      <td>37</td>\n",
       "    </tr>\n",
       "    <tr>\n",
       "      <th>1041</th>\n",
       "      <td>Academic</td>\n",
       "      <td>2016</td>\n",
       "      <td>Medium</td>\n",
       "      <td>2012</td>\n",
       "      <td>['blog', 'twin', 'baseball', 'game', 'spend', ...</td>\n",
       "      <td>1</td>\n",
       "      <td>['behavior', 'work', 'suicidal_ideation', 'sui...</td>\n",
       "      <td>0.566041</td>\n",
       "      <td>24</td>\n",
       "    </tr>\n",
       "    <tr>\n",
       "      <th>522</th>\n",
       "      <td>Academic</td>\n",
       "      <td>2014</td>\n",
       "      <td>Medium</td>\n",
       "      <td>2012</td>\n",
       "      <td>['symptom', 'physical', 'emotional', 'aqui', '...</td>\n",
       "      <td>2</td>\n",
       "      <td>['symptom', 'health', 'mental', 'depressive', ...</td>\n",
       "      <td>0.754754</td>\n",
       "      <td>10</td>\n",
       "    </tr>\n",
       "    <tr>\n",
       "      <th>783</th>\n",
       "      <td>Academic</td>\n",
       "      <td>2015</td>\n",
       "      <td>Medium</td>\n",
       "      <td>2012</td>\n",
       "      <td>['faith', 'pull', 'action', 'strong', 'spend',...</td>\n",
       "      <td>3</td>\n",
       "      <td>['social', 'sad', 'change', 'personality', 'co...</td>\n",
       "      <td>0.684294</td>\n",
       "      <td>8</td>\n",
       "    </tr>\n",
       "    <tr>\n",
       "      <th>1564</th>\n",
       "      <td>Academic</td>\n",
       "      <td>2018</td>\n",
       "      <td>Medium</td>\n",
       "      <td>2012</td>\n",
       "      <td>['emotional', 'symptom', 'physical', 'controla...</td>\n",
       "      <td>4</td>\n",
       "      <td>['social', 'emotional', 'negative', 'relations...</td>\n",
       "      <td>0.782141</td>\n",
       "      <td>7</td>\n",
       "    </tr>\n",
       "  </tbody>\n",
       "</table>\n",
       "</div>"
      ],
      "text/plain": [
       "        corpus  corpus_year query_source  query_year  \\\n",
       "0     Academic         2012       Medium        2012   \n",
       "1041  Academic         2016       Medium        2012   \n",
       "522   Academic         2014       Medium        2012   \n",
       "783   Academic         2015       Medium        2012   \n",
       "1564  Academic         2018       Medium        2012   \n",
       "\n",
       "                                                  query  query_topicID  \\\n",
       "0     ['blog', 'spend', 'black', 'suffer', 'stigma',...              0   \n",
       "1041  ['blog', 'twin', 'baseball', 'game', 'spend', ...              1   \n",
       "522   ['symptom', 'physical', 'emotional', 'aqui', '...              2   \n",
       "783   ['faith', 'pull', 'action', 'strong', 'spend',...              3   \n",
       "1564  ['emotional', 'symptom', 'physical', 'controla...              4   \n",
       "\n",
       "                                             best_match  best_match_score  \\\n",
       "0     ['symptom', 'patient', 'depression', 'somatic'...          0.587137   \n",
       "1041  ['behavior', 'work', 'suicidal_ideation', 'sui...          0.566041   \n",
       "522   ['symptom', 'health', 'mental', 'depressive', ...          0.754754   \n",
       "783   ['social', 'sad', 'change', 'personality', 'co...          0.684294   \n",
       "1564  ['social', 'emotional', 'negative', 'relations...          0.782141   \n",
       "\n",
       "      best_match_topicID  \n",
       "0                     37  \n",
       "1041                  24  \n",
       "522                   10  \n",
       "783                    8  \n",
       "1564                   7  "
      ]
     },
     "execution_count": 32,
     "metadata": {},
     "output_type": "execute_result"
    }
   ],
   "source": [
    "output.head()"
   ]
  },
  {
   "cell_type": "code",
   "execution_count": 33,
   "metadata": {},
   "outputs": [],
   "source": [
    "output.to_csv(\"Journal_vs_Medium.csv\")"
   ]
  },
  {
   "cell_type": "code",
   "execution_count": null,
   "metadata": {},
   "outputs": [],
   "source": []
  }
 ],
 "metadata": {
  "kernelspec": {
   "display_name": "Python 3",
   "language": "python",
   "name": "python3"
  },
  "language_info": {
   "codemirror_mode": {
    "name": "ipython",
    "version": 3
   },
   "file_extension": ".py",
   "mimetype": "text/x-python",
   "name": "python",
   "nbconvert_exporter": "python",
   "pygments_lexer": "ipython3",
   "version": "3.8.5"
  }
 },
 "nbformat": 4,
 "nbformat_minor": 4
}
