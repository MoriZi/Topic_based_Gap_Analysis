{
 "cells": [
  {
   "cell_type": "code",
   "execution_count": 1,
   "metadata": {},
   "outputs": [],
   "source": [
    "#Basic Libraries\n",
    "import re\n",
    "import numpy as np\n",
    "import pandas as pd\n",
    "from pprint import pprint\n",
    "import sys\n",
    "# Gensim\n",
    "import gensim\n",
    "import gensim.corpora as corpora\n",
    "from gensim.utils import simple_preprocess\n",
    "from gensim.models import CoherenceModel\n",
    "# spacy for lemmatization\n",
    "import spacy\n",
    "# Plotting tools\n",
    "import pyLDAvis\n",
    "import pyLDAvis.gensim  # don't skip this\n",
    "import matplotlib.pyplot as plt\n",
    "# Enable logging for gensim - optional\n",
    "import logging\n",
    "logging.basicConfig(format='%(asctime)s : %(levelname)s : %(message)s', level=logging.ERROR)\n",
    "import warnings\n",
    "warnings.filterwarnings(\"ignore\",category=DeprecationWarning)"
   ]
  },
  {
   "cell_type": "code",
   "execution_count": 2,
   "metadata": {},
   "outputs": [],
   "source": [
    "# NLTK Stop words\n",
    "from nltk.corpus import stopwords\n",
    "stop_words = stopwords.words('english')\n",
    "stop_words.extend(['from', 'subject', 're', 'edu', 'use'])"
   ]
  },
  {
   "cell_type": "code",
   "execution_count": 3,
   "metadata": {},
   "outputs": [
    {
     "name": "stderr",
     "output_type": "stream",
     "text": [
      "/home/smriti/.local/lib/python3.5/site-packages/pandas/core/computation/check.py:17: UserWarning: The installed version of numexpr 2.4.3 is not supported in pandas and will be not be used\n",
      "The minimum supported version is 2.4.6\n",
      "\n",
      "  ver=ver, min_ver=_MIN_NUMEXPR_VERSION), UserWarning)\n"
     ]
    }
   ],
   "source": [
    "#Load Dataset\n",
    "df=pd.read_csv('/home/smriti/Desktop/NLP/MITACS/Anxiety/Data/CSV/Reddit/rAnxiety14.csv')\n",
    "#getting rid of NaN\n",
    "df=df.replace(np.nan, '', regex=True)\n",
    "#getting rid of deleted values\n",
    "df['Text']=df['Text'].replace('[deleted]','')\n",
    "#Combining title and text\n",
    "df[\"Post\"] = df[\"Title\"] + df[\"Text\"]\n",
    "#Now that we don't need Title or Text, we drop those columns before saving the file\n",
    "df=df.drop(['Title', 'Text'], axis = 1)"
   ]
  },
  {
   "cell_type": "code",
   "execution_count": 4,
   "metadata": {},
   "outputs": [],
   "source": [
    "df=df.loc[:, ~df.columns.str.contains('^Unnamed')]"
   ]
  },
  {
   "cell_type": "code",
   "execution_count": 5,
   "metadata": {},
   "outputs": [
    {
     "data": {
      "text/html": [
       "<div>\n",
       "<style scoped>\n",
       "    .dataframe tbody tr th:only-of-type {\n",
       "        vertical-align: middle;\n",
       "    }\n",
       "\n",
       "    .dataframe tbody tr th {\n",
       "        vertical-align: top;\n",
       "    }\n",
       "\n",
       "    .dataframe thead th {\n",
       "        text-align: right;\n",
       "    }\n",
       "</style>\n",
       "<table border=\"1\" class=\"dataframe\">\n",
       "  <thead>\n",
       "    <tr style=\"text-align: right;\">\n",
       "      <th></th>\n",
       "      <th>Number of Comments</th>\n",
       "      <th>Date Posted</th>\n",
       "      <th>Post</th>\n",
       "    </tr>\n",
       "  </thead>\n",
       "  <tbody>\n",
       "    <tr>\n",
       "      <th>0</th>\n",
       "      <td>66</td>\n",
       "      <td>2014-12-26 00:39:39 EST-0500</td>\n",
       "      <td>How I feel drinking coffee during a panic attack</td>\n",
       "    </tr>\n",
       "    <tr>\n",
       "      <th>1</th>\n",
       "      <td>111</td>\n",
       "      <td>2014-12-24 19:16:42 EST-0500</td>\n",
       "      <td>Merry X-mas to us loners.Many of us who suffer...</td>\n",
       "    </tr>\n",
       "    <tr>\n",
       "      <th>2</th>\n",
       "      <td>74</td>\n",
       "      <td>2014-12-22 16:24:53 EST-0500</td>\n",
       "      <td>Does anybody here suffers from always feel gui...</td>\n",
       "    </tr>\n",
       "    <tr>\n",
       "      <th>3</th>\n",
       "      <td>18</td>\n",
       "      <td>2014-12-25 14:16:04 EST-0500</td>\n",
       "      <td>Hey you (yes, you!)Whatever today holds, I hop...</td>\n",
       "    </tr>\n",
       "    <tr>\n",
       "      <th>4</th>\n",
       "      <td>55</td>\n",
       "      <td>2014-12-28 13:57:32 EST-0500</td>\n",
       "      <td>[RANT] I always feel like everyone secretly ha...</td>\n",
       "    </tr>\n",
       "  </tbody>\n",
       "</table>\n",
       "</div>"
      ],
      "text/plain": [
       "  Number of Comments                   Date Posted  \\\n",
       "0                 66  2014-12-26 00:39:39 EST-0500   \n",
       "1                111  2014-12-24 19:16:42 EST-0500   \n",
       "2                 74  2014-12-22 16:24:53 EST-0500   \n",
       "3                 18  2014-12-25 14:16:04 EST-0500   \n",
       "4                 55  2014-12-28 13:57:32 EST-0500   \n",
       "\n",
       "                                                Post  \n",
       "0   How I feel drinking coffee during a panic attack  \n",
       "1  Merry X-mas to us loners.Many of us who suffer...  \n",
       "2  Does anybody here suffers from always feel gui...  \n",
       "3  Hey you (yes, you!)Whatever today holds, I hop...  \n",
       "4  [RANT] I always feel like everyone secretly ha...  "
      ]
     },
     "execution_count": 5,
     "metadata": {},
     "output_type": "execute_result"
    }
   ],
   "source": [
    "df.head()"
   ]
  },
  {
   "cell_type": "code",
   "execution_count": 6,
   "metadata": {},
   "outputs": [],
   "source": [
    "# Convert to list\n",
    "data=df.Post.values.tolist()\n",
    "# Remove new line characters\n",
    "data=[re.sub('\\s+', ' ', sent) for sent in data]\n",
    "# Remove distracting single quotes\n",
    "data=[re.sub(\"\\'\", \"\", sent) for sent in data]"
   ]
  },
  {
   "cell_type": "code",
   "execution_count": 7,
   "metadata": {},
   "outputs": [],
   "source": [
    "#Function to clean up text\n",
    "def sent_to_words(sentences):\n",
    "    for sentence in sentences:\n",
    "        yield(gensim.utils.simple_preprocess(str(sentence), deacc=True)) "
   ]
  },
  {
   "cell_type": "code",
   "execution_count": 8,
   "metadata": {},
   "outputs": [
    {
     "name": "stdout",
     "output_type": "stream",
     "text": [
      "[['how', 'feel', 'drinking', 'coffee', 'during', 'panic', 'attack']]\n"
     ]
    }
   ],
   "source": [
    "#Clean up text\n",
    "data_words=list(sent_to_words(data))\n",
    "print(data_words[:1])"
   ]
  },
  {
   "cell_type": "code",
   "execution_count": 9,
   "metadata": {},
   "outputs": [],
   "source": [
    "# Build the bigram and trigram models\n",
    "bigram=gensim.models.Phrases(data_words, min_count=5, threshold=100) # higher threshold fewer phrases.\n",
    "trigram=gensim.models.Phrases(bigram[data_words], threshold=100)"
   ]
  },
  {
   "cell_type": "code",
   "execution_count": 10,
   "metadata": {},
   "outputs": [],
   "source": [
    "# Faster way to get a sentence clubbed as a trigram/bigram\n",
    "bigram_mod=gensim.models.phrases.Phraser(bigram)\n",
    "trigram_mod=gensim.models.phrases.Phraser(trigram)"
   ]
  },
  {
   "cell_type": "code",
   "execution_count": 11,
   "metadata": {},
   "outputs": [
    {
     "name": "stdout",
     "output_type": "stream",
     "text": [
      "['how', 'feel', 'drinking', 'coffee', 'during', 'panic_attack']\n"
     ]
    }
   ],
   "source": [
    "# See trigram example\n",
    "print(trigram_mod[bigram_mod[data_words[0]]])"
   ]
  },
  {
   "cell_type": "code",
   "execution_count": 12,
   "metadata": {},
   "outputs": [],
   "source": [
    "# Define functions for stopwords, bigrams, trigrams and lemmatization\n",
    "def remove_stopwords(texts):\n",
    "    return [[word for word in simple_preprocess(str(doc)) if word not in stop_words] for doc in texts]\n"
   ]
  },
  {
   "cell_type": "code",
   "execution_count": 13,
   "metadata": {},
   "outputs": [],
   "source": [
    "def make_bigrams(texts):\n",
    "    return [bigram_mod[doc] for doc in texts]\n",
    "\n",
    "def make_trigrams(texts):\n",
    "    return [trigram_mod[bigram_mod[doc]] for doc in texts]\n",
    "\n",
    "def lemmatization(texts, allowed_postags=['NOUN', 'ADJ', 'VERB', 'ADV']):\n",
    "    \"\"\"https://spacy.io/api/annotation\"\"\"\n",
    "    texts_out = []\n",
    "    for sent in texts:\n",
    "        doc = nlp(\" \".join(sent))\n",
    "        texts_out.append([token.lemma_ for token in doc if token.pos_ in allowed_postags])\n",
    "    return texts_out"
   ]
  },
  {
   "cell_type": "code",
   "execution_count": 14,
   "metadata": {},
   "outputs": [
    {
     "name": "stdout",
     "output_type": "stream",
     "text": [
      "[['feel', 'drink', 'coffee']]\n"
     ]
    }
   ],
   "source": [
    "data_words_nostops = remove_stopwords(data_words)\n",
    "\n",
    "# Form Bigrams\n",
    "data_words_bigrams = make_bigrams(data_words_nostops)\n",
    "\n",
    "# Initialize spacy 'en' model, keeping only tagger component (for efficiency)\n",
    "# python3 -m spacy download en\n",
    "nlp = spacy.load('en', disable=['parser', 'ner'])\n",
    "\n",
    "# Do lemmatization keeping only noun, adj, vb, adv\n",
    "data_lemmatized = lemmatization(data_words_bigrams, allowed_postags=['NOUN', 'ADJ', 'VERB', 'ADV'])\n",
    "print(data_lemmatized[:1])\n",
    "\n",
    "# Create Dictionary needed for topic modelling\n",
    "id2word = corpora.Dictionary(data_lemmatized)\n",
    "\n",
    "# Create Corpus\n",
    "texts = data_lemmatized\n",
    "\n",
    "# Term Document Frequency\n",
    "corpus = [id2word.doc2bow(text) for text in texts]\n",
    "\n",
    "# View\n",
    "[[(id2word[id], freq) for id, freq in cp] for cp in corpus[:1]]\n",
    "\n",
    "# Build LDA model\n",
    "lda_model = gensim.models.ldamodel.LdaModel(corpus=corpus,\n",
    "                                           id2word=id2word,\n",
    "                                           num_topics=60,\n",
    "                                           random_state=100,\n",
    "                                           update_every=1,\n",
    "                                           chunksize=100,\n",
    "                                           passes=10,\n",
    "                                           alpha='auto',\n",
    "                                           per_word_topics=True)"
   ]
  },
  {
   "cell_type": "code",
   "execution_count": 15,
   "metadata": {},
   "outputs": [
    {
     "name": "stdout",
     "output_type": "stream",
     "text": [
      "[(44,\n",
      "  '0.000*\"circus\" + 0.000*\"waist\" + 0.000*\"battery\" + 0.000*\"appearance\" + '\n",
      "  '0.000*\"warped\" + 0.000*\"strangeness\" + 0.000*\"scatter\" + 0.000*\"odd\" + '\n",
      "  '0.000*\"distorted\" + 0.000*\"demente\"'),\n",
      " (35,\n",
      "  '0.000*\"circus\" + 0.000*\"waist\" + 0.000*\"battery\" + 0.000*\"appearance\" + '\n",
      "  '0.000*\"warped\" + 0.000*\"strangeness\" + 0.000*\"scatter\" + 0.000*\"odd\" + '\n",
      "  '0.000*\"distorted\" + 0.000*\"demente\"'),\n",
      " (2,\n",
      "  '0.000*\"circus\" + 0.000*\"waist\" + 0.000*\"battery\" + 0.000*\"appearance\" + '\n",
      "  '0.000*\"warped\" + 0.000*\"strangeness\" + 0.000*\"scatter\" + 0.000*\"odd\" + '\n",
      "  '0.000*\"distorted\" + 0.000*\"demente\"'),\n",
      " (11,\n",
      "  '0.000*\"circus\" + 0.000*\"waist\" + 0.000*\"battery\" + 0.000*\"appearance\" + '\n",
      "  '0.000*\"warped\" + 0.000*\"strangeness\" + 0.000*\"scatter\" + 0.000*\"odd\" + '\n",
      "  '0.000*\"distorted\" + 0.000*\"demente\"'),\n",
      " (39,\n",
      "  '0.000*\"circus\" + 0.000*\"waist\" + 0.000*\"battery\" + 0.000*\"appearance\" + '\n",
      "  '0.000*\"warped\" + 0.000*\"strangeness\" + 0.000*\"scatter\" + 0.000*\"odd\" + '\n",
      "  '0.000*\"distorted\" + 0.000*\"demente\"'),\n",
      " (5,\n",
      "  '0.000*\"circus\" + 0.000*\"waist\" + 0.000*\"battery\" + 0.000*\"appearance\" + '\n",
      "  '0.000*\"warped\" + 0.000*\"strangeness\" + 0.000*\"scatter\" + 0.000*\"odd\" + '\n",
      "  '0.000*\"distorted\" + 0.000*\"demente\"'),\n",
      " (48,\n",
      "  '0.000*\"circus\" + 0.000*\"waist\" + 0.000*\"battery\" + 0.000*\"appearance\" + '\n",
      "  '0.000*\"warped\" + 0.000*\"strangeness\" + 0.000*\"scatter\" + 0.000*\"odd\" + '\n",
      "  '0.000*\"distorted\" + 0.000*\"demente\"'),\n",
      " (25,\n",
      "  '0.000*\"circus\" + 0.000*\"waist\" + 0.000*\"battery\" + 0.000*\"appearance\" + '\n",
      "  '0.000*\"warped\" + 0.000*\"strangeness\" + 0.000*\"scatter\" + 0.000*\"odd\" + '\n",
      "  '0.000*\"distorted\" + 0.000*\"demente\"'),\n",
      " (23,\n",
      "  '0.000*\"circus\" + 0.000*\"waist\" + 0.000*\"battery\" + 0.000*\"appearance\" + '\n",
      "  '0.000*\"warped\" + 0.000*\"strangeness\" + 0.000*\"scatter\" + 0.000*\"odd\" + '\n",
      "  '0.000*\"distorted\" + 0.000*\"demente\"'),\n",
      " (36,\n",
      "  '0.000*\"circus\" + 0.000*\"waist\" + 0.000*\"battery\" + 0.000*\"appearance\" + '\n",
      "  '0.000*\"warped\" + 0.000*\"strangeness\" + 0.000*\"scatter\" + 0.000*\"odd\" + '\n",
      "  '0.000*\"distorted\" + 0.000*\"demente\"'),\n",
      " (24,\n",
      "  '0.135*\"call\" + 0.112*\"phone\" + 0.061*\"answer\" + 0.040*\"ask\" + '\n",
      "  '0.040*\"number\" + 0.038*\"manager\" + 0.034*\"courage\" + 0.030*\"position\" + '\n",
      "  '0.030*\"stressful\" + 0.029*\"interesting\"'),\n",
      " (18,\n",
      "  '0.189*\"eat\" + 0.079*\"food\" + 0.071*\"girl\" + 0.049*\"upset\" + '\n",
      "  '0.047*\"solution\" + 0.045*\"sweat\" + 0.030*\"pregnant\" + 0.026*\"couch\" + '\n",
      "  '0.021*\"ignore\" + 0.021*\"meet\"'),\n",
      " (43,\n",
      "  '0.267*\"job\" + 0.075*\"work\" + 0.039*\"store\" + 0.038*\"lazy\" + 0.032*\"buy\" + '\n",
      "  '0.026*\"boss\" + 0.025*\"new\" + 0.019*\"must\" + 0.018*\"mile\" + 0.017*\"week\"'),\n",
      " (19,\n",
      "  '0.054*\"health\" + 0.054*\"leave\" + 0.049*\"house\" + 0.045*\"literally\" + '\n",
      "  '0.043*\"anyway\" + 0.042*\"summer\" + 0.039*\"point\" + 0.036*\"mostly\" + '\n",
      "  '0.036*\"rest\" + 0.031*\"door\"'),\n",
      " (59,\n",
      "  '0.088*\"bed\" + 0.068*\"hear\" + 0.047*\"hopefully\" + 0.047*\"side\" + '\n",
      "  '0.041*\"pressure\" + 0.035*\"here\" + 0.034*\"music\" + 0.032*\"voice\" + '\n",
      "  '0.032*\"asleep\" + 0.030*\"easily\"'),\n",
      " (38,\n",
      "  '0.104*\"hate\" + 0.065*\"sick\" + 0.055*\"med\" + 0.045*\"horrible\" + '\n",
      "  '0.045*\"fucking\" + 0.037*\"function\" + 0.036*\"stick\" + 0.035*\"awful\" + '\n",
      "  '0.034*\"computer\" + 0.034*\"thinking\"'),\n",
      " (47,\n",
      "  '0.097*\"s\" + 0.051*\"people\" + 0.040*\"check\" + 0.031*\"person\" + 0.030*\"speak\" '\n",
      "  '+ 0.029*\"conversation\" + 0.024*\"stupid\" + 0.024*\"there\" + 0.020*\"online\" + '\n",
      "  '0.019*\"pick\"'),\n",
      " (29,\n",
      "  '0.081*\"go\" + 0.054*\"be\" + 0.043*\"get\" + 0.028*\"happen\" + 0.027*\"would\" + '\n",
      "  '0.021*\"think\" + 0.021*\"start\" + 0.019*\"day\" + 0.019*\"symptom\" + '\n",
      "  '0.018*\"crazy\"'),\n",
      " (4,\n",
      "  '0.041*\"anxiety\" + 0.031*\"remember\" + 0.025*\"try\" + 0.024*\"see\" + '\n",
      "  '0.021*\"year\" + 0.018*\"thing\" + 0.017*\"look\" + 0.017*\"deal\" + 0.017*\"could\" '\n",
      "  '+ 0.017*\"say\"'),\n",
      " (7,\n",
      "  '0.046*\"feel\" + 0.040*\"be\" + 0.026*\"anxiety\" + 0.024*\"really\" + 0.024*\"make\" '\n",
      "  '+ 0.022*\"want\" + 0.020*\"know\" + 0.019*\"have\" + 0.017*\"thing\" + '\n",
      "  '0.016*\"think\"')]\n"
     ]
    }
   ],
   "source": [
    "# Print the Keyword in the topics\n",
    "pprint(lda_model.print_topics())\n",
    "doc_lda = lda_model[corpus]"
   ]
  },
  {
   "cell_type": "code",
   "execution_count": 16,
   "metadata": {},
   "outputs": [
    {
     "name": "stdout",
     "output_type": "stream",
     "text": [
      "\n",
      "Perplexity:  -17.13593795846216\n"
     ]
    }
   ],
   "source": [
    "# Compute Perplexity\n",
    "print('\\nPerplexity: ', lda_model.log_perplexity(corpus))  # a measure of how good the model is. lower the better."
   ]
  },
  {
   "cell_type": "code",
   "execution_count": 17,
   "metadata": {},
   "outputs": [
    {
     "name": "stdout",
     "output_type": "stream",
     "text": [
      "\n",
      "Coherence Score:  0.3861782080953099\n"
     ]
    }
   ],
   "source": [
    "# Compute Coherence Score\n",
    "coherence_model_lda = CoherenceModel(model=lda_model, texts=data_lemmatized, dictionary=id2word, coherence='c_v')\n",
    "coherence_lda = coherence_model_lda.get_coherence()\n",
    "print('\\nCoherence Score: ', coherence_lda)"
   ]
  },
  {
   "cell_type": "code",
   "execution_count": 18,
   "metadata": {},
   "outputs": [],
   "source": [
    "num_topics = 60\n",
    "topic_words = []\n",
    "for i in range(num_topics):\n",
    "    tt = lda_model.get_topic_terms(i,10)\n",
    "    topic_words.append([id2word[pair[0]] for pair in tt])"
   ]
  },
  {
   "cell_type": "code",
   "execution_count": 19,
   "metadata": {},
   "outputs": [
    {
     "name": "stdout",
     "output_type": "stream",
     "text": [
      "['room', 'mother', 'treat', 'exactly', 'stranger', 'tl_dr', 'childhood', 'awake', 'rate', 'nightmare']\n",
      "['circus', 'waist', 'battery', 'appearance', 'warped', 'strangeness', 'scatter', 'odd', 'distorted', 'demente']\n",
      "['circus', 'waist', 'battery', 'appearance', 'warped', 'strangeness', 'scatter', 'odd', 'distorted', 'demente']\n",
      "['depression', 'tonight', 'suffer', 'anxiety', 'different', 'strangeness', 'distorted', 'odd', 'scatter', 'dicke']\n",
      "['anxiety', 'remember', 'try', 'see', 'year', 'thing', 'look', 'deal', 'could', 'say']\n",
      "['circus', 'waist', 'battery', 'appearance', 'warped', 'strangeness', 'scatter', 'odd', 'distorted', 'demente']\n",
      "['anger', 'fully', 'regular', 'maintain', 'powerful', 'competition', 'suspect', 'previous', 'fear', 'scatter']\n",
      "['feel', 'be', 'anxiety', 'really', 'make', 'want', 'know', 'have', 'thing', 'think']\n",
      "['tomorrow', 'teacher', 'appointment', 'cancel', 'session', 'piss', 'snap', 'conscious', 'finally', 'therapy']\n",
      "['reality', 'refuse', 'psych', 'drug', 'speak', 'cope', 's', 'odd', 'scatter', 'strangeness']\n",
      "['pill', 'pay', 'should', 'shower', 'side_effect', 'stare', 'project', 'prescribe', 'plan', 'phone']\n",
      "['circus', 'waist', 'battery', 'appearance', 'warped', 'strangeness', 'scatter', 'odd', 'distorted', 'demente']\n",
      "['early', 'background', 'dark', 'medical', 'trap', 'friendly', 'hang', 'kill', 'parade', 'dicke']\n",
      "['circus', 'waist', 'battery', 'appearance', 'warped', 'strangeness', 'scatter', 'odd', 'distorted', 'demente']\n",
      "['play', 'group', 'technique', 'hopeless', 'approach', 'suggest', 'alcohol', 'daughter', 'base', 'writing']\n",
      "['movie', 'watch', 'recommend', 'therapeutic', 'warped', 'convey', 'scatter', 'strangeness', 'distorted', 'battery']\n",
      "['circus', 'waist', 'battery', 'appearance', 'warped', 'strangeness', 'scatter', 'odd', 'distorted', 'demente']\n",
      "['sleep', 'wake', 'night', 'realise', 'slightly', 'frustrate', 'annoying', 'evening', 'motivation', 'rapid']\n",
      "['eat', 'food', 'girl', 'upset', 'solution', 'sweat', 'pregnant', 'couch', 'ignore', 'meet']\n",
      "['health', 'leave', 'house', 'literally', 'anyway', 'summer', 'point', 'mostly', 'rest', 'door']\n",
      "['wonderful', 'recovery', 'human', 'peace', 'mechanism', 'revert', 'deserve', 'physiological', 'appearance', 'ship']\n",
      "['proud', 'office', 'big', 'remind', 'mountain', 'worthless', 'step', 'accomplishment', 'lab', 'do']\n",
      "['car', 'girlfriend', 'last_night', 'trouble', 'real', 'odd', 'warped', 'distorted', 'circus', 'scatter']\n",
      "['circus', 'waist', 'battery', 'appearance', 'warped', 'strangeness', 'scatter', 'odd', 'distorted', 'demente']\n",
      "['call', 'phone', 'answer', 'ask', 'number', 'manager', 'courage', 'position', 'stressful', 'interesting']\n",
      "['circus', 'waist', 'battery', 'appearance', 'warped', 'strangeness', 'scatter', 'odd', 'distorted', 'demente']\n",
      "['circus', 'waist', 'battery', 'appearance', 'warped', 'strangeness', 'scatter', 'odd', 'distorted', 'demente']\n",
      "['scared', 'fun', 'eye', 'comfort', 'perfect', 'hell', 'pull', 'opportunity', 'shut', 'must']\n",
      "['field', 'spell', 'strangeness', 'odd', 'scatter', 'demente', 'warped', 'appearance', 'bounce', 'battery']\n",
      "['go', 'be', 'get', 'happen', 'would', 'think', 'start', 'day', 'symptom', 'crazy']\n",
      "['trip', 'shop', 'warped', 'odd', 'scatter', 'demente', 'strangeness', 'battery', 'appearance', 'convey']\n",
      "['young', 'describe', 'son', 'teen', 'year_old', 'exact', 'appearance', 'dicke', 'warped', 'scatter']\n",
      "['drive', 'activity', 'ok', 'scatter', 'distorted', 'odd', 'circus', 'strangeness', 'waist', 'warped']\n",
      "['wonder', 'heavy', 'shirt', 'jacket', 'battery', 'convey', 'warped', 'appearance', 'ship', 'dicke']\n",
      "['class', 'college', 'pm', 'note', 'exam', 'depress', 'paper', 'anyways', 'lonely', 'grade']\n",
      "['circus', 'waist', 'battery', 'appearance', 'warped', 'strangeness', 'scatter', 'odd', 'distorted', 'demente']\n",
      "['circus', 'waist', 'battery', 'appearance', 'warped', 'strangeness', 'scatter', 'odd', 'distorted', 'demente']\n",
      "['train', 'due', 'warped', 'distorted', 'odd', 'scatter', 'circus', 'strangeness', 'appearance', 'waist']\n",
      "['hate', 'sick', 'med', 'horrible', 'fucking', 'function', 'stick', 'awful', 'computer', 'thinking']\n",
      "['circus', 'waist', 'battery', 'appearance', 'warped', 'strangeness', 'scatter', 'odd', 'distorted', 'demente']\n",
      "['anymore', 'severe', 'relief', 'top', 'destroy', 'best_friend', 'love', 'can', 'let', 'absolutely']\n",
      "['song', 'demente', 'bounce', 'battery', 'appearance', 'warped', 'strangeness', 'scatter', 'odd', 'distorted']\n",
      "['circus', 'waist', 'battery', 'appearance', 'warped', 'strangeness', 'scatter', 'odd', 'distorted', 'demente']\n",
      "['job', 'work', 'store', 'lazy', 'buy', 'boss', 'new', 'must', 'mile', 'week']\n",
      "['circus', 'waist', 'battery', 'appearance', 'warped', 'strangeness', 'scatter', 'odd', 'distorted', 'demente']\n",
      "['rant', 'art', 'strangeness', 'appearance', 'odd', 'scatter', 'demente', 'battery', 'warped', 'convey']\n",
      "['consult', 'distorted', 'circus', 'convey', 'battery', 'appearance', 'warped', 'strangeness', 'scatter', 'odd']\n",
      "['s', 'people', 'check', 'person', 'speak', 'conversation', 'stupid', 'there', 'online', 'pick']\n",
      "['circus', 'waist', 'battery', 'appearance', 'warped', 'strangeness', 'scatter', 'odd', 'distorted', 'demente']\n",
      "['circus', 'waist', 'battery', 'appearance', 'warped', 'strangeness', 'scatter', 'odd', 'distorted', 'demente']\n",
      "['date', 'develop', 'seek', 'particularly', 'paranoid', 'phase', 'particular', 'smoke', 'confident', 'poor']\n",
      "['sub', 'afterwards', 'evil', 'warped', 'distorted', 'odd', 'scatter', 'circus', 'trait', 'strangeness']\n",
      "['hair', 'scatter', 'warped', 'distorted', 'odd', 'circus', 'strangeness', 'appearance', 'bounce', 'battery']\n",
      "['act', 'adult', 'mad', 'student', 'possibly', 'regret', 'wife', 'shame', 'discuss', 'wall']\n",
      "['worry', 'nervous', 'lead', 'period', 'increase', 'breath', 'stomach', 'pound', 'deal', 'notice']\n",
      "['anxious', 'future', 'behavior', 'obsessive', 'compulsive', 'extremely', 'odd', 'convey', 'scatter', 'warped']\n",
      "['drink', 'coffee', 'current', 'somewhere', 'mild', 'drinking', 'nauseous', 'relaxed', 'lock', 'black']\n",
      "['notice', 'road', 'kinda', 'war', 'park', 'succeed', 'lesson', 'etc', 'rare', 'walk']\n",
      "['somehow', 'yell', 'guy', 'fake', 'special', 'roof', 'say', 'talk', 'friend', 'tell']\n",
      "['bed', 'hear', 'hopefully', 'side', 'pressure', 'here', 'music', 'voice', 'asleep', 'easily']\n"
     ]
    }
   ],
   "source": [
    "for i in range(0,60):\n",
    "    print(topic_words[i])"
   ]
  },
  {
   "cell_type": "code",
   "execution_count": 20,
   "metadata": {},
   "outputs": [
    {
     "data": {
      "text/html": [
       "<div>\n",
       "<style scoped>\n",
       "    .dataframe tbody tr th:only-of-type {\n",
       "        vertical-align: middle;\n",
       "    }\n",
       "\n",
       "    .dataframe tbody tr th {\n",
       "        vertical-align: top;\n",
       "    }\n",
       "\n",
       "    .dataframe thead th {\n",
       "        text-align: right;\n",
       "    }\n",
       "</style>\n",
       "<table border=\"1\" class=\"dataframe\">\n",
       "  <thead>\n",
       "    <tr style=\"text-align: right;\">\n",
       "      <th></th>\n",
       "      <th>Most_freq_words</th>\n",
       "      <th>Source</th>\n",
       "      <th>Topic_ID</th>\n",
       "      <th>Year</th>\n",
       "    </tr>\n",
       "  </thead>\n",
       "  <tbody>\n",
       "  </tbody>\n",
       "</table>\n",
       "</div>"
      ],
      "text/plain": [
       "Empty DataFrame\n",
       "Columns: [Most_freq_words, Source, Topic_ID, Year]\n",
       "Index: []"
      ]
     },
     "execution_count": 20,
     "metadata": {},
     "output_type": "execute_result"
    }
   ],
   "source": [
    "df=pd.DataFrame({'Year':[],'Source':[],'Topic_ID':[],'Most_freq_words':[]})\n",
    "df.head()"
   ]
  },
  {
   "cell_type": "code",
   "execution_count": 21,
   "metadata": {},
   "outputs": [],
   "source": [
    "df['Most_freq_words']=topic_words"
   ]
  },
  {
   "cell_type": "code",
   "execution_count": 22,
   "metadata": {},
   "outputs": [],
   "source": [
    "df = df.assign(Year='2014')\n",
    "df = df.assign(Source='Reddit')"
   ]
  },
  {
   "cell_type": "code",
   "execution_count": 23,
   "metadata": {},
   "outputs": [],
   "source": [
    "ls=[]\n",
    "for i in range(0,60):\n",
    "    ls.append(i)\n",
    "df['Topic_ID']=ls"
   ]
  },
  {
   "cell_type": "code",
   "execution_count": 24,
   "metadata": {},
   "outputs": [
    {
     "data": {
      "text/html": [
       "<div>\n",
       "<style scoped>\n",
       "    .dataframe tbody tr th:only-of-type {\n",
       "        vertical-align: middle;\n",
       "    }\n",
       "\n",
       "    .dataframe tbody tr th {\n",
       "        vertical-align: top;\n",
       "    }\n",
       "\n",
       "    .dataframe thead th {\n",
       "        text-align: right;\n",
       "    }\n",
       "</style>\n",
       "<table border=\"1\" class=\"dataframe\">\n",
       "  <thead>\n",
       "    <tr style=\"text-align: right;\">\n",
       "      <th></th>\n",
       "      <th>Most_freq_words</th>\n",
       "      <th>Source</th>\n",
       "      <th>Topic_ID</th>\n",
       "      <th>Year</th>\n",
       "    </tr>\n",
       "  </thead>\n",
       "  <tbody>\n",
       "    <tr>\n",
       "      <th>0</th>\n",
       "      <td>[room, mother, treat, exactly, stranger, tl_dr...</td>\n",
       "      <td>Reddit</td>\n",
       "      <td>0</td>\n",
       "      <td>2014</td>\n",
       "    </tr>\n",
       "    <tr>\n",
       "      <th>1</th>\n",
       "      <td>[circus, waist, battery, appearance, warped, s...</td>\n",
       "      <td>Reddit</td>\n",
       "      <td>1</td>\n",
       "      <td>2014</td>\n",
       "    </tr>\n",
       "    <tr>\n",
       "      <th>2</th>\n",
       "      <td>[circus, waist, battery, appearance, warped, s...</td>\n",
       "      <td>Reddit</td>\n",
       "      <td>2</td>\n",
       "      <td>2014</td>\n",
       "    </tr>\n",
       "    <tr>\n",
       "      <th>3</th>\n",
       "      <td>[depression, tonight, suffer, anxiety, differe...</td>\n",
       "      <td>Reddit</td>\n",
       "      <td>3</td>\n",
       "      <td>2014</td>\n",
       "    </tr>\n",
       "    <tr>\n",
       "      <th>4</th>\n",
       "      <td>[anxiety, remember, try, see, year, thing, loo...</td>\n",
       "      <td>Reddit</td>\n",
       "      <td>4</td>\n",
       "      <td>2014</td>\n",
       "    </tr>\n",
       "  </tbody>\n",
       "</table>\n",
       "</div>"
      ],
      "text/plain": [
       "                                     Most_freq_words  Source  Topic_ID  Year\n",
       "0  [room, mother, treat, exactly, stranger, tl_dr...  Reddit         0  2014\n",
       "1  [circus, waist, battery, appearance, warped, s...  Reddit         1  2014\n",
       "2  [circus, waist, battery, appearance, warped, s...  Reddit         2  2014\n",
       "3  [depression, tonight, suffer, anxiety, differe...  Reddit         3  2014\n",
       "4  [anxiety, remember, try, see, year, thing, loo...  Reddit         4  2014"
      ]
     },
     "execution_count": 24,
     "metadata": {},
     "output_type": "execute_result"
    }
   ],
   "source": [
    "df.head()"
   ]
  },
  {
   "cell_type": "code",
   "execution_count": 25,
   "metadata": {},
   "outputs": [],
   "source": [
    "df.to_csv(\"topic_words_r2014.csv\")"
   ]
  },
  {
   "cell_type": "code",
   "execution_count": null,
   "metadata": {},
   "outputs": [],
   "source": []
  }
 ],
 "metadata": {
  "kernelspec": {
   "display_name": "Python 3",
   "language": "python",
   "name": "python3"
  },
  "language_info": {
   "codemirror_mode": {
    "name": "ipython",
    "version": 3
   },
   "file_extension": ".py",
   "mimetype": "text/x-python",
   "name": "python",
   "nbconvert_exporter": "python",
   "pygments_lexer": "ipython3",
   "version": "3.5.2"
  }
 },
 "nbformat": 4,
 "nbformat_minor": 2
}
