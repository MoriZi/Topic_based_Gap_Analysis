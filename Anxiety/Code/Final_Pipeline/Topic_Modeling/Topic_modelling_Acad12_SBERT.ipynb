{
 "cells": [
  {
   "cell_type": "code",
   "execution_count": 1,
   "metadata": {},
   "outputs": [],
   "source": [
    "#Basic Libraries\n",
    "import re\n",
    "import numpy as np\n",
    "import pandas as pd\n",
    "from pprint import pprint\n",
    "import sys\n",
    "# Gensim\n",
    "import gensim\n",
    "import gensim.corpora as corpora\n",
    "from gensim.utils import simple_preprocess\n",
    "from gensim.models import CoherenceModel\n",
    "# spacy for lemmatization\n",
    "import spacy\n",
    "# Plotting tools\n",
    "import pyLDAvis\n",
    "import pyLDAvis.gensim  # don't skip this\n",
    "import matplotlib.pyplot as plt\n",
    "# Enable logging for gensim - optional\n",
    "import logging\n",
    "logging.basicConfig(format='%(asctime)s : %(levelname)s : %(message)s', level=logging.ERROR)\n",
    "import warnings\n",
    "warnings.filterwarnings(\"ignore\",category=DeprecationWarning)"
   ]
  },
  {
   "cell_type": "code",
   "execution_count": 2,
   "metadata": {},
   "outputs": [],
   "source": [
    "# NLTK Stop words\n",
    "from nltk.corpus import stopwords\n",
    "stop_words = stopwords.words('english')\n",
    "stop_words.extend(['from', 'subject', 're', 'edu', 'use'])"
   ]
  },
  {
   "cell_type": "code",
   "execution_count": 3,
   "metadata": {},
   "outputs": [
    {
     "name": "stderr",
     "output_type": "stream",
     "text": [
      "/home/smriti/.local/lib/python3.5/site-packages/pandas/core/computation/check.py:17: UserWarning: The installed version of numexpr 2.4.3 is not supported in pandas and will be not be used\n",
      "The minimum supported version is 2.4.6\n",
      "\n",
      "  ver=ver, min_ver=_MIN_NUMEXPR_VERSION), UserWarning)\n"
     ]
    }
   ],
   "source": [
    "#Load Dataset\n",
    "df=pd.read_csv('/home/smriti/Desktop/NLP/MITACS/Anxiety/Data/CSV/Academic/Acad2012.csv')\n",
    "#getting rid of NaN\n",
    "df=df.replace(np.nan, '', regex=True)\n",
    "#Combining title and text\n",
    "df[\"Text\"] = df[\"Title\"] + df[\"Abstract\"]\n",
    "#Now that we don't need Title or Text, we drop those columns before saving the file\n",
    "df=df.drop(['Title', 'Abstract'], axis = 1)"
   ]
  },
  {
   "cell_type": "code",
   "execution_count": 4,
   "metadata": {},
   "outputs": [],
   "source": [
    "df=df.loc[:, ~df.columns.str.contains('^Unnamed')]"
   ]
  },
  {
   "cell_type": "code",
   "execution_count": 5,
   "metadata": {},
   "outputs": [
    {
     "data": {
      "text/html": [
       "<div>\n",
       "<style scoped>\n",
       "    .dataframe tbody tr th:only-of-type {\n",
       "        vertical-align: middle;\n",
       "    }\n",
       "\n",
       "    .dataframe tbody tr th {\n",
       "        vertical-align: top;\n",
       "    }\n",
       "\n",
       "    .dataframe thead th {\n",
       "        text-align: right;\n",
       "    }\n",
       "</style>\n",
       "<table border=\"1\" class=\"dataframe\">\n",
       "  <thead>\n",
       "    <tr style=\"text-align: right;\">\n",
       "      <th></th>\n",
       "      <th>StoreId</th>\n",
       "      <th>documentType</th>\n",
       "      <th>year</th>\n",
       "      <th>Text</th>\n",
       "    </tr>\n",
       "  </thead>\n",
       "  <tbody>\n",
       "    <tr>\n",
       "      <th>0</th>\n",
       "      <td>1322257202</td>\n",
       "      <td>Journal , Peer Reviewed Journal , Journal Art...</td>\n",
       "      <td>2012</td>\n",
       "      <td>Sleep quality and its psychological correlates...</td>\n",
       "    </tr>\n",
       "    <tr>\n",
       "      <th>1</th>\n",
       "      <td>1640006791</td>\n",
       "      <td>Journal , Peer Reviewed Journal , Journal Art...</td>\n",
       "      <td>2012</td>\n",
       "      <td>The effectiveness of cognitive behavioral ther...</td>\n",
       "    </tr>\n",
       "    <tr>\n",
       "      <th>2</th>\n",
       "      <td>1322258832</td>\n",
       "      <td>Journal , Peer Reviewed Journal , Journal Art...</td>\n",
       "      <td>2012</td>\n",
       "      <td>Psychometric properties of the Cardiac Depress...</td>\n",
       "    </tr>\n",
       "    <tr>\n",
       "      <th>3</th>\n",
       "      <td>1640005981</td>\n",
       "      <td>Journal , Peer Reviewed Journal , Journal Art...</td>\n",
       "      <td>2012</td>\n",
       "      <td>Single-prolonged stress induces apoptosis in d...</td>\n",
       "    </tr>\n",
       "    <tr>\n",
       "      <th>4</th>\n",
       "      <td>1640006982</td>\n",
       "      <td>Journal , Peer Reviewed Journal , Journal Art...</td>\n",
       "      <td>2012</td>\n",
       "      <td>Problem-solving versus cognitive restructuring...</td>\n",
       "    </tr>\n",
       "  </tbody>\n",
       "</table>\n",
       "</div>"
      ],
      "text/plain": [
       "      StoreId                                       documentType  year  \\\n",
       "0  1322257202   Journal , Peer Reviewed Journal , Journal Art...  2012   \n",
       "1  1640006791   Journal , Peer Reviewed Journal , Journal Art...  2012   \n",
       "2  1322258832   Journal , Peer Reviewed Journal , Journal Art...  2012   \n",
       "3  1640005981   Journal , Peer Reviewed Journal , Journal Art...  2012   \n",
       "4  1640006982   Journal , Peer Reviewed Journal , Journal Art...  2012   \n",
       "\n",
       "                                                Text  \n",
       "0  Sleep quality and its psychological correlates...  \n",
       "1  The effectiveness of cognitive behavioral ther...  \n",
       "2  Psychometric properties of the Cardiac Depress...  \n",
       "3  Single-prolonged stress induces apoptosis in d...  \n",
       "4  Problem-solving versus cognitive restructuring...  "
      ]
     },
     "execution_count": 5,
     "metadata": {},
     "output_type": "execute_result"
    }
   ],
   "source": [
    "df.head()"
   ]
  },
  {
   "cell_type": "code",
   "execution_count": 6,
   "metadata": {},
   "outputs": [],
   "source": [
    "# Convert to list\n",
    "data=df.Text.values.tolist()\n",
    "# Remove new line characters\n",
    "data=[re.sub('\\s+', ' ', sent) for sent in data]\n",
    "# Remove distracting single quotes\n",
    "data=[re.sub(\"\\'\", \"\", sent) for sent in data]"
   ]
  },
  {
   "cell_type": "code",
   "execution_count": 7,
   "metadata": {},
   "outputs": [],
   "source": [
    "#Function to clean up text\n",
    "def sent_to_words(sentences):\n",
    "    for sentence in sentences:\n",
    "        yield(gensim.utils.simple_preprocess(str(sentence), deacc=True)) "
   ]
  },
  {
   "cell_type": "code",
   "execution_count": 8,
   "metadata": {},
   "outputs": [
    {
     "name": "stdout",
     "output_type": "stream",
     "text": [
      "[['sleep', 'quality', 'and', 'its', 'psychological', 'correlates', 'among', 'university', 'students', 'in', 'ethiopia', 'cross', 'sectional', 'studybackground', 'sleep', 'is', 'an', 'important', 'physiological', 'process', 'for', 'humans', 'university', 'students', 'in', 'most', 'resource', 'limited', 'countries', 'often', 'report', 'poor', 'sleep', 'quality', 'due', 'to', 'changing', 'social', 'opportunities', 'and', 'increasing', 'academic', 'demands', 'however', 'sleep', 'quality', 'among', 'university', 'students', 'has', 'not', 'been', 'studied', 'in', 'ethiopia', 'thus', 'this', 'study', 'assessed', 'sleep', 'quality', 'and', 'its', 'demographic', 'and', 'psychological', 'correlates', 'among', 'university', 'students', 'methods', 'cross', 'sectional', 'survey', 'was', 'conducted', 'in', 'two', 'universities', 'in', 'ethiopia', 'multistage', 'sampling', 'procedures', 'were', 'used', 'to', 'enroll', 'students', 'into', 'the', 'study', 'self', 'administered', 'structured', 'questionnaire', 'including', 'the', 'pittsburgh', 'sleep', 'quality', 'index', 'psqi', 'the', 'depression', 'anxiety', 'stress', 'scale', 'the', 'perceived', 'stress', 'scale', 'pss', 'and', 'selected', 'modules', 'of', 'the', 'world', 'health', 'organization', 'steps', 'instrument', 'was', 'used', 'for', 'the', 'study', 'this', 'research', 'included', 'students', 'frequency', 'median', 'mean', 'with', 'standard', 'deviation', 'and', 'confidence', 'interval', 'were', 'used', 'to', 'characterize', 'sleep', 'quality', 'and', 'other', 'variables', 'analysis', 'of', 'variance', 'and', 'binary', 'logistic', 'regression', 'procedures', 'were', 'also', 'used', 'result', 'the', 'prevalence', 'of', 'poor', 'sleep', 'quality', 'total', 'psqi', 'score', 'gt', 'was', 'female', 'students', 'adjusted', 'odds', 'ratio', 'aor', 'ci', 'second', 'year', 'aor', 'ci', 'and', 'third', 'year', 'students', 'aor', 'ci', 'had', 'statistically', 'significant', 'higher', 'odds', 'of', 'poor', 'sleep', 'quality', 'perceived', 'stress', 'level', 'and', 'symptoms', 'of', 'depression', 'and', 'anxiety', 'were', 'strongly', 'associated', 'with', 'sleep', 'quality', 'conclusion', 'substantial', 'proportion', 'of', 'university', 'students', 'are', 'affected', 'by', 'poor', 'sleep', 'quality', 'if', 'our', 'results', 'are', 'confirmed', 'in', 'prospective', 'studies', 'health', 'promotion', 'and', 'educational', 'programs', 'for', 'students', 'should', 'emphasize', 'the', 'importance', 'of', 'sleep', 'and', 'mental', 'health', 'psycinfo', 'database', 'record', 'apa', 'all', 'rights', 'reserved', 'source', 'journal', 'abstract']]\n"
     ]
    }
   ],
   "source": [
    "#Clean up text\n",
    "data_words=list(sent_to_words(data))\n",
    "print(data_words[:1])"
   ]
  },
  {
   "cell_type": "code",
   "execution_count": 9,
   "metadata": {},
   "outputs": [],
   "source": [
    "# Build the bigram and trigram models\n",
    "bigram=gensim.models.Phrases(data_words, min_count=5, threshold=100) # higher threshold fewer phrases.\n",
    "trigram=gensim.models.Phrases(bigram[data_words], threshold=100)"
   ]
  },
  {
   "cell_type": "code",
   "execution_count": 10,
   "metadata": {},
   "outputs": [],
   "source": [
    "# Faster way to get a sentence clubbed as a trigram/bigram\n",
    "bigram_mod=gensim.models.phrases.Phraser(bigram)\n",
    "trigram_mod=gensim.models.phrases.Phraser(trigram)"
   ]
  },
  {
   "cell_type": "code",
   "execution_count": 11,
   "metadata": {},
   "outputs": [
    {
     "name": "stdout",
     "output_type": "stream",
     "text": [
      "['sleep', 'quality', 'and', 'its', 'psychological', 'correlates', 'among', 'university', 'students', 'in', 'ethiopia', 'cross_sectional', 'studybackground', 'sleep', 'is', 'an', 'important', 'physiological', 'process', 'for', 'humans', 'university', 'students', 'in', 'most', 'resource', 'limited', 'countries', 'often', 'report', 'poor', 'sleep', 'quality', 'due', 'to', 'changing', 'social', 'opportunities', 'and', 'increasing', 'academic', 'demands', 'however', 'sleep', 'quality', 'among', 'university', 'students', 'has', 'not', 'been', 'studied', 'in', 'ethiopia', 'thus', 'this', 'study', 'assessed', 'sleep', 'quality', 'and', 'its', 'demographic', 'and', 'psychological', 'correlates', 'among', 'university', 'students', 'methods', 'cross_sectional', 'survey', 'was', 'conducted', 'in', 'two', 'universities', 'in', 'ethiopia', 'multistage', 'sampling', 'procedures', 'were', 'used', 'to', 'enroll', 'students', 'into', 'the', 'study', 'self', 'administered', 'structured', 'questionnaire', 'including', 'the', 'pittsburgh', 'sleep', 'quality', 'index', 'psqi', 'the', 'depression', 'anxiety', 'stress', 'scale', 'the', 'perceived', 'stress', 'scale', 'pss', 'and', 'selected', 'modules', 'of', 'the', 'world', 'health', 'organization', 'steps', 'instrument', 'was', 'used', 'for', 'the', 'study', 'this', 'research', 'included', 'students', 'frequency', 'median', 'mean', 'with', 'standard', 'deviation', 'and', 'confidence_interval', 'were', 'used', 'to', 'characterize', 'sleep', 'quality', 'and', 'other', 'variables', 'analysis', 'of', 'variance', 'and', 'binary', 'logistic_regression', 'procedures', 'were', 'also', 'used', 'result', 'the', 'prevalence', 'of', 'poor', 'sleep', 'quality', 'total', 'psqi', 'score', 'gt', 'was', 'female', 'students', 'adjusted', 'odds_ratio', 'aor', 'ci', 'second', 'year', 'aor', 'ci', 'and', 'third', 'year', 'students', 'aor', 'ci', 'had', 'statistically', 'significant', 'higher', 'odds', 'of', 'poor', 'sleep', 'quality', 'perceived', 'stress', 'level', 'and', 'symptoms', 'of', 'depression', 'and', 'anxiety', 'were', 'strongly', 'associated', 'with', 'sleep', 'quality', 'conclusion', 'substantial', 'proportion', 'of', 'university', 'students', 'are', 'affected', 'by', 'poor', 'sleep', 'quality', 'if', 'our', 'results', 'are', 'confirmed', 'in', 'prospective', 'studies', 'health', 'promotion', 'and', 'educational', 'programs', 'for', 'students', 'should', 'emphasize', 'the', 'importance', 'of', 'sleep', 'and', 'mental', 'health', 'psycinfo_database_record_apa', 'all_rights_reserved_source', 'journal_abstract']\n"
     ]
    }
   ],
   "source": [
    "# See trigram example\n",
    "print(trigram_mod[bigram_mod[data_words[0]]])"
   ]
  },
  {
   "cell_type": "code",
   "execution_count": 12,
   "metadata": {},
   "outputs": [],
   "source": [
    "# Define functions for stopwords, bigrams, trigrams and lemmatization\n",
    "def remove_stopwords(texts):\n",
    "    return [[word for word in simple_preprocess(str(doc)) if word not in stop_words] for doc in texts]\n"
   ]
  },
  {
   "cell_type": "code",
   "execution_count": 13,
   "metadata": {},
   "outputs": [],
   "source": [
    "def make_bigrams(texts):\n",
    "    return [bigram_mod[doc] for doc in texts]\n",
    "\n",
    "def make_trigrams(texts):\n",
    "    return [trigram_mod[bigram_mod[doc]] for doc in texts]\n",
    "\n",
    "def lemmatization(texts, allowed_postags=['NOUN', 'ADJ', 'VERB', 'ADV']):\n",
    "    \"\"\"https://spacy.io/api/annotation\"\"\"\n",
    "    texts_out = []\n",
    "    for sent in texts:\n",
    "        doc = nlp(\" \".join(sent))\n",
    "        texts_out.append([token.lemma_ for token in doc if token.pos_ in allowed_postags])\n",
    "    return texts_out"
   ]
  },
  {
   "cell_type": "code",
   "execution_count": 14,
   "metadata": {},
   "outputs": [
    {
     "name": "stdout",
     "output_type": "stream",
     "text": [
      "[['sleep', 'quality', 'psychological', 'correlate', 'university', 'student', 'studybackground', 'sleep', 'important', 'physiological', 'process', 'human', 'university', 'student', 'resource', 'limited', 'country', 'often', 'report', 'poor', 'sleep', 'quality', 'due', 'change', 'social', 'opportunity', 'increase', 'academic', 'demand', 'however', 'sleep', 'quality', 'university', 'student', 'study', 'thus', 'study', 'assess', 'quality', 'demographic', 'psychological', 'correlate', 'university', 'student', 'method', 'survey', 'conduct', 'university', 'multistage', 'sampling', 'procedure', 'use', 'enroll', 'student', 'study', 'self', 'administer', 'structure', 'questionnaire', 'include', 'index', 'psqi', 'depression', 'anxiety', 'scale', 'perceive', 'stress', 'select', 'step', 'instrument', 'use', 'study', 'research', 'include', 'student', 'mean', 'use', 'characterize', 'sleep', 'quality', 'variable', 'analysis', 'variance', 'binary', 'procedure', 'also', 'use', 'result', 'prevalence', 'poor', 'sleep', 'quality', 'total', 'psqi', 'score', 'female', 'student', 'adjust', 'year', 'year', 'student', 'statistically', 'significant', 'high', 'odd', 'poor', 'sleep', 'quality', 'perceive', 'stress', 'level', 'symptom', 'depression', 'anxiety', 'strongly', 'associate', 'quality', 'conclusion', 'substantial', 'proportion', 'university', 'student', 'affect', 'poor', 'sleep', 'quality', 'result', 'confirm', 'prospective', 'study', 'health', 'promotion', 'educational', 'program', 'student', 'emphasize', 'importance', 'sleep', 'mental', 'health', 'source_journal', 'abstract']]\n"
     ]
    }
   ],
   "source": [
    "data_words_nostops = remove_stopwords(data_words)\n",
    "\n",
    "# Form Bigrams\n",
    "data_words_bigrams = make_bigrams(data_words_nostops)\n",
    "\n",
    "# Initialize spacy 'en' model, keeping only tagger component (for efficiency)\n",
    "# python3 -m spacy download en\n",
    "nlp = spacy.load('en', disable=['parser', 'ner'])\n",
    "\n",
    "# Do lemmatization keeping only noun, adj, vb, adv\n",
    "data_lemmatized = lemmatization(data_words_bigrams, allowed_postags=['NOUN', 'ADJ', 'VERB', 'ADV'])\n",
    "print(data_lemmatized[:1])\n",
    "\n",
    "# Create Dictionary needed for topic modelling\n",
    "id2word = corpora.Dictionary(data_lemmatized)\n",
    "\n",
    "# Create Corpus\n",
    "texts = data_lemmatized\n",
    "\n",
    "# Term Document Frequency\n",
    "corpus = [id2word.doc2bow(text) for text in texts]\n",
    "\n",
    "# View\n",
    "[[(id2word[id], freq) for id, freq in cp] for cp in corpus[:1]]\n",
    "\n",
    "# Build LDA model\n",
    "lda_model = gensim.models.ldamodel.LdaModel(corpus=corpus,\n",
    "                                           id2word=id2word,\n",
    "                                           num_topics=38,\n",
    "                                           random_state=100,\n",
    "                                           update_every=1,\n",
    "                                           chunksize=100,\n",
    "                                           passes=10,\n",
    "                                           alpha='auto',\n",
    "                                           per_word_topics=True)"
   ]
  },
  {
   "cell_type": "code",
   "execution_count": 15,
   "metadata": {},
   "outputs": [
    {
     "name": "stdout",
     "output_type": "stream",
     "text": [
      "[(8,\n",
      "  '0.000*\"patient\" + 0.000*\"anxiety\" + 0.000*\"cognitive\" + 0.000*\"treatment\" + '\n",
      "  '0.000*\"outcome\" + 0.000*\"depression\" + 0.000*\"nightmare\" + 0.000*\"use\" + '\n",
      "  '0.000*\"disorder\" + 0.000*\"therapy\"'),\n",
      " (34,\n",
      "  '0.000*\"depression\" + 0.000*\"treatment\" + 0.000*\"internationally\" + '\n",
      "  '0.000*\"problem\" + 0.000*\"trial\" + 0.000*\"health\" + 0.000*\"model\" + '\n",
      "  '0.000*\"study\" + 0.000*\"life\" + 0.000*\"anxiety\"'),\n",
      " (22,\n",
      "  '0.064*\"language\" + 0.051*\"dsm_iv\" + 0.026*\"asylum\" + 0.022*\"traumatic\" + '\n",
      "  '0.012*\"proficiency\" + 0.010*\"arrive\" + 0.010*\"mini\" + 0.010*\"arrival\" + '\n",
      "  '0.005*\"screening\" + 0.005*\"postmigration\"'),\n",
      " (23,\n",
      "  '0.051*\"preventive\" + 0.047*\"cidi\" + 0.036*\"screening\" + '\n",
      "  '0.021*\"participation\" + 0.020*\"threshold\" + 0.016*\"refrain\" + 0.013*\"scope\" '\n",
      "  '+ 0.000*\"prevent\" + 0.000*\"screen\" + 0.000*\"assess\"'),\n",
      " (32,\n",
      "  '0.062*\"single\" + 0.035*\"nucleus\" + 0.026*\"rat\" + 0.026*\"apoptosis\" + '\n",
      "  '0.018*\"neuron\" + 0.017*\"peak\" + 0.015*\"reduce\" + 0.013*\"tem\" + 0.013*\"pon\" '\n",
      "  '+ 0.009*\"prolonged\"'),\n",
      " (1,\n",
      "  '0.087*\"sleep\" + 0.065*\"hybrid\" + 0.055*\"monitoring\" + 0.033*\"insomnia\" + '\n",
      "  '0.030*\"acceptability\" + 0.027*\"diary\" + 0.008*\"end\" + 0.008*\"ancillary\" + '\n",
      "  '0.008*\"durability\" + 0.008*\"isolation\"'),\n",
      " (13,\n",
      "  '0.291*\"physiological\" + 0.000*\"report\" + 0.000*\"social\" + 0.000*\"cue\" + '\n",
      "  '0.000*\"anxiety\" + 0.000*\"include\" + 0.000*\"student\" + 0.000*\"study\" + '\n",
      "  '0.000*\"participant\" + 0.000*\"approach\"'),\n",
      " (17,\n",
      "  '0.052*\"occur\" + 0.052*\"survivor\" + 0.042*\"become\" + 0.034*\"intrusion\" + '\n",
      "  '0.030*\"effect\" + 0.027*\"researcher\" + 0.026*\"vulnerable\" + 0.022*\"people\" + '\n",
      "  '0.016*\"allocation\" + 0.015*\"victim\"'),\n",
      " (20,\n",
      "  '0.078*\"conflict\" + 0.044*\"counselling\" + 0.043*\"ongoing\" + '\n",
      "  '0.040*\"psychosocial\" + 0.035*\"pretreatment\" + 0.026*\"help_seeking\" + '\n",
      "  '0.026*\"typically\" + 0.024*\"routine\" + 0.022*\"pharmacological\" + '\n",
      "  '0.021*\"reference\"'),\n",
      " (26,\n",
      "  '0.112*\"cd\" + 0.099*\"behavior\" + 0.041*\"context\" + 0.038*\"problem\" + '\n",
      "  '0.031*\"people\" + 0.030*\"aggressive\" + 0.029*\"content\" + 0.024*\"code\" + '\n",
      "  '0.023*\"individually\" + 0.021*\"harm\"'),\n",
      " (36,\n",
      "  '0.118*\"child\" + 0.091*\"anxiety\" + 0.032*\"disorder\" + 0.028*\"parent\" + '\n",
      "  '0.028*\"non\" + 0.026*\"anxious\" + 0.021*\"early\" + 0.021*\"symptom\" + '\n",
      "  '0.017*\"likely\" + 0.015*\"information\"'),\n",
      " (28,\n",
      "  '0.054*\"anxiety\" + 0.050*\"measure\" + 0.049*\"low\" + 0.042*\"class\" + '\n",
      "  '0.037*\"high\" + 0.031*\"depression\" + 0.025*\"distress\" + 0.023*\"group\" + '\n",
      "  '0.020*\"level\" + 0.019*\"account\"'),\n",
      " (12,\n",
      "  '0.109*\"treatment\" + 0.059*\"therapy\" + 0.051*\"cognitive\" + 0.050*\"cbt\" + '\n",
      "  '0.038*\"outcome\" + 0.035*\"behavioral\" + 0.034*\"anxiety\" + 0.024*\"reduction\" '\n",
      "  '+ 0.020*\"session\" + 0.017*\"significant\"'),\n",
      " (16,\n",
      "  '0.120*\"self\" + 0.034*\"social\" + 0.034*\"symptom\" + 0.032*\"report\" + '\n",
      "  '0.030*\"predict\" + 0.026*\"daily\" + 0.026*\"anxiety\" + 0.025*\"processing\" + '\n",
      "  '0.021*\"predictor\" + 0.021*\"subsequent\"'),\n",
      " (30,\n",
      "  '0.069*\"treatment\" + 0.042*\"intervention\" + 0.036*\"group\" + '\n",
      "  '0.032*\"participant\" + 0.029*\"condition\" + 0.024*\"anxiety\" + '\n",
      "  '0.024*\"depression\" + 0.021*\"health\" + 0.018*\"co_morbidity\" + '\n",
      "  '0.017*\"mental\"'),\n",
      " (37,\n",
      "  '0.066*\"symptom\" + 0.060*\"patient\" + 0.031*\"depression\" + 0.030*\"somatic\" + '\n",
      "  '0.026*\"fatigue\" + 0.023*\"life\" + 0.019*\"trial\" + 0.018*\"show\" + '\n",
      "  '0.018*\"internet\" + 0.017*\"severe\"'),\n",
      " (33,\n",
      "  '0.060*\"anxiety\" + 0.047*\"negative\" + 0.035*\"sensitivity\" + 0.021*\"belief\" + '\n",
      "  '0.021*\"disorder\" + 0.021*\"relate\" + 0.021*\"finding\" + 0.020*\"support\" + '\n",
      "  '0.020*\"result\" + 0.019*\"control\"'),\n",
      " (4,\n",
      "  '0.065*\"anxiety\" + 0.022*\"worry\" + 0.020*\"cognitive\" + 0.020*\"review\" + '\n",
      "  '0.018*\"model\" + 0.015*\"test\" + 0.014*\"consider\" + 0.013*\"later\" + '\n",
      "  '0.013*\"work\" + 0.013*\"old\"'),\n",
      " (10,\n",
      "  '0.027*\"symptom\" + 0.024*\"study\" + 0.024*\"increase\" + 0.016*\"report\" + '\n",
      "  '0.015*\"health\" + 0.015*\"relate\" + 0.015*\"age\" + 0.014*\"high\" + '\n",
      "  '0.013*\"level\" + 0.012*\"psychopathology\"'),\n",
      " (25,\n",
      "  '0.079*\"disorder\" + 0.035*\"anxiety\" + 0.029*\"study\" + 0.024*\"depression\" + '\n",
      "  '0.021*\"year\" + 0.020*\"associate\" + 0.016*\"use\" + 0.014*\"association\" + '\n",
      "  '0.014*\"examine\" + 0.014*\"sample\"')]\n"
     ]
    }
   ],
   "source": [
    "# Print the Keyword in the topics\n",
    "pprint(lda_model.print_topics())\n",
    "doc_lda = lda_model[corpus]"
   ]
  },
  {
   "cell_type": "code",
   "execution_count": 16,
   "metadata": {},
   "outputs": [
    {
     "name": "stdout",
     "output_type": "stream",
     "text": [
      "\n",
      "Perplexity:  -11.371774384544105\n"
     ]
    }
   ],
   "source": [
    "# Compute Perplexity\n",
    "print('\\nPerplexity: ', lda_model.log_perplexity(corpus))  # a measure of how good the model is. lower the better."
   ]
  },
  {
   "cell_type": "code",
   "execution_count": 17,
   "metadata": {},
   "outputs": [
    {
     "name": "stdout",
     "output_type": "stream",
     "text": [
      "\n",
      "Coherence Score:  0.39862992922537677\n"
     ]
    }
   ],
   "source": [
    "# Compute Coherence Score\n",
    "coherence_model_lda = CoherenceModel(model=lda_model, texts=data_lemmatized, dictionary=id2word, coherence='c_v')\n",
    "coherence_lda = coherence_model_lda.get_coherence()\n",
    "print('\\nCoherence Score: ', coherence_lda)"
   ]
  },
  {
   "cell_type": "code",
   "execution_count": 18,
   "metadata": {},
   "outputs": [],
   "source": [
    "num_topics = 38\n",
    "topic_words = []\n",
    "for i in range(num_topics):\n",
    "    tt = lda_model.get_topic_terms(i,10)\n",
    "    topic_words.append([id2word[pair[0]] for pair in tt])"
   ]
  },
  {
   "cell_type": "code",
   "execution_count": 19,
   "metadata": {},
   "outputs": [
    {
     "name": "stdout",
     "output_type": "stream",
     "text": [
      "['mdd', 'patient', 'generalize', 'disorder', 'relationship', 'linear', 'gain', 'anxiety', 'way', 'rate']\n",
      "['sleep', 'hybrid', 'monitoring', 'insomnia', 'acceptability', 'diary', 'end', 'ancillary', 'durability', 'isolation']\n",
      "['mood', 'disorder', 'depressive', 'depressed', 'anxious', 'history', 'relevant', 'anxiety', 'self', 'depression']\n",
      "['exposure', 'disaster', 'may', 'follow', 'involvement', 'family', 'define', 'brief', 'new', 'effect']\n",
      "['anxiety', 'worry', 'cognitive', 'review', 'model', 'test', 'consider', 'later', 'work', 'old']\n",
      "['social', 'participant', 'positive', 'anxiety', 'take', 'cue', 'train', 'reduce', 'control', 'approach']\n",
      "['effect', 'participant', 'complete', 'act', 'may', 'week', 'clinical', 'affect', 'exercise', 'test']\n",
      "['ptsd', 'trauma', 'alcohol', 'perceive', 'status', 'consequence', 'rate', 'incremental', 'high', 'patient']\n",
      "['patient', 'anxiety', 'cognitive', 'treatment', 'outcome', 'depression', 'nightmare', 'use', 'disorder', 'therapy']\n",
      "['threat', 'bias', 'attention', 'reactivity', 'delay', 'show', 'reduction', 'activation', 'stimulus', 'anxiety']\n",
      "['symptom', 'study', 'increase', 'report', 'health', 'relate', 'age', 'high', 'level', 'psychopathology']\n",
      "['self', 'remission', 'depression', 'anxiety', 'implicit', 'explicit', 'psychosis', 'association', 'unipolar', 'symptom']\n",
      "['treatment', 'therapy', 'cognitive', 'cbt', 'outcome', 'behavioral', 'anxiety', 'reduction', 'session', 'significant']\n",
      "['physiological', 'report', 'social', 'cue', 'anxiety', 'include', 'student', 'study', 'participant', 'approach']\n",
      "['adolescent', 'influence', 'distress', 'factor', 'vary', 'issue', 'experience', 'problem', 'developmental', 'difficulty']\n",
      "['minority', 'longer', 'impairment', 'injury', 'patient', 'home', 'preliminary', 'self', 'treat', 'year']\n",
      "['self', 'social', 'symptom', 'report', 'predict', 'daily', 'anxiety', 'processing', 'predictor', 'subsequent']\n",
      "['occur', 'survivor', 'become', 'intrusion', 'effect', 'researcher', 'vulnerable', 'people', 'allocation', 'victim']\n",
      "['fear', 'sad', 'memory', 'social', 'previous', 'replicate', 'role', 'may', 'effect', 'interaction']\n",
      "['factor', 'model', 'domain', 'structure', 'depression', 'dimension', 'hierarchical', 'anxiety', 'sample', 'fit']\n",
      "['conflict', 'counselling', 'ongoing', 'psychosocial', 'pretreatment', 'help_seeking', 'typically', 'routine', 'pharmacological', 'reference']\n",
      "['interpretation', 'training', 'global', 'cognitive', 'error', 'equal', 'outcome', 'design', 'interpret', 'objective']\n",
      "['language', 'dsm_iv', 'asylum', 'traumatic', 'proficiency', 'arrive', 'mini', 'arrival', 'screening', 'postmigration']\n",
      "['preventive', 'cidi', 'screening', 'participation', 'threshold', 'refrain', 'scope', 'prevent', 'screen', 'assess']\n",
      "['anxiety', 'guide', 'find', 'face', 'scale', 'sample', 'generalize', 'largely', 'help', 'had']\n",
      "['disorder', 'anxiety', 'study', 'depression', 'year', 'associate', 'use', 'association', 'examine', 'sample']\n",
      "['cd', 'behavior', 'context', 'problem', 'people', 'aggressive', 'content', 'code', 'individually', 'harm']\n",
      "['generalize', 'bipolar', 'anxiety', 'training', 'youth', 'attend', 'result', 'differ', 'right', 'attentional']\n",
      "['anxiety', 'measure', 'low', 'class', 'high', 'depression', 'distress', 'group', 'level', 'account']\n",
      "['risk', 'early', 'intervention', 'moderator', 'prevention', 'profile', 'strengthen', 'specificity', 'minimal', 'indicate']\n",
      "['treatment', 'intervention', 'group', 'participant', 'condition', 'anxiety', 'depression', 'health', 'co_morbidity', 'mental']\n",
      "['treatment', 'change', 'decrease', 'outcome', 'mediate', 'may', 'anxiety', 'suggest', 'reduce', 'examine']\n",
      "['single', 'nucleus', 'rat', 'apoptosis', 'neuron', 'peak', 'reduce', 'tem', 'pon', 'prolonged']\n",
      "['anxiety', 'negative', 'sensitivity', 'belief', 'disorder', 'relate', 'finding', 'support', 'result', 'control']\n",
      "['depression', 'treatment', 'internationally', 'problem', 'trial', 'health', 'model', 'study', 'life', 'anxiety']\n",
      "['woman', 'chinese', 'pregnancy', 'risk', 'depression', 'factor', 'assess', 'symptomatology', 'predictive', 'survivor']\n",
      "['child', 'anxiety', 'disorder', 'parent', 'non', 'anxious', 'early', 'symptom', 'likely', 'information']\n",
      "['symptom', 'patient', 'depression', 'somatic', 'fatigue', 'life', 'trial', 'show', 'internet', 'severe']\n"
     ]
    }
   ],
   "source": [
    "for i in range(0,38):\n",
    "    print(topic_words[i])"
   ]
  },
  {
   "cell_type": "code",
   "execution_count": 20,
   "metadata": {},
   "outputs": [
    {
     "data": {
      "text/html": [
       "<div>\n",
       "<style scoped>\n",
       "    .dataframe tbody tr th:only-of-type {\n",
       "        vertical-align: middle;\n",
       "    }\n",
       "\n",
       "    .dataframe tbody tr th {\n",
       "        vertical-align: top;\n",
       "    }\n",
       "\n",
       "    .dataframe thead th {\n",
       "        text-align: right;\n",
       "    }\n",
       "</style>\n",
       "<table border=\"1\" class=\"dataframe\">\n",
       "  <thead>\n",
       "    <tr style=\"text-align: right;\">\n",
       "      <th></th>\n",
       "      <th>Most_freq_words</th>\n",
       "      <th>Source</th>\n",
       "      <th>Topic_ID</th>\n",
       "      <th>Year</th>\n",
       "    </tr>\n",
       "  </thead>\n",
       "  <tbody>\n",
       "  </tbody>\n",
       "</table>\n",
       "</div>"
      ],
      "text/plain": [
       "Empty DataFrame\n",
       "Columns: [Most_freq_words, Source, Topic_ID, Year]\n",
       "Index: []"
      ]
     },
     "execution_count": 20,
     "metadata": {},
     "output_type": "execute_result"
    }
   ],
   "source": [
    "df=pd.DataFrame({'Year':[],'Source':[],'Topic_ID':[],'Most_freq_words':[]})\n",
    "df.head()"
   ]
  },
  {
   "cell_type": "code",
   "execution_count": 21,
   "metadata": {},
   "outputs": [],
   "source": [
    "df['Most_freq_words']=topic_words"
   ]
  },
  {
   "cell_type": "code",
   "execution_count": 22,
   "metadata": {},
   "outputs": [
    {
     "data": {
      "text/plain": [
       "(38, 4)"
      ]
     },
     "execution_count": 22,
     "metadata": {},
     "output_type": "execute_result"
    }
   ],
   "source": [
    "df = df.assign(Year='2012')\n",
    "df = df.assign(Source='Academic')\n",
    "df.shape"
   ]
  },
  {
   "cell_type": "code",
   "execution_count": 23,
   "metadata": {},
   "outputs": [],
   "source": [
    "ls=[]\n",
    "for i in range(0,38):\n",
    "    ls.append(i)\n",
    "df['Topic_ID']=ls"
   ]
  },
  {
   "cell_type": "code",
   "execution_count": 24,
   "metadata": {},
   "outputs": [
    {
     "data": {
      "text/html": [
       "<div>\n",
       "<style scoped>\n",
       "    .dataframe tbody tr th:only-of-type {\n",
       "        vertical-align: middle;\n",
       "    }\n",
       "\n",
       "    .dataframe tbody tr th {\n",
       "        vertical-align: top;\n",
       "    }\n",
       "\n",
       "    .dataframe thead th {\n",
       "        text-align: right;\n",
       "    }\n",
       "</style>\n",
       "<table border=\"1\" class=\"dataframe\">\n",
       "  <thead>\n",
       "    <tr style=\"text-align: right;\">\n",
       "      <th></th>\n",
       "      <th>Most_freq_words</th>\n",
       "      <th>Source</th>\n",
       "      <th>Topic_ID</th>\n",
       "      <th>Year</th>\n",
       "    </tr>\n",
       "  </thead>\n",
       "  <tbody>\n",
       "    <tr>\n",
       "      <th>0</th>\n",
       "      <td>[mdd, patient, generalize, disorder, relations...</td>\n",
       "      <td>Academic</td>\n",
       "      <td>0</td>\n",
       "      <td>2012</td>\n",
       "    </tr>\n",
       "    <tr>\n",
       "      <th>1</th>\n",
       "      <td>[sleep, hybrid, monitoring, insomnia, acceptab...</td>\n",
       "      <td>Academic</td>\n",
       "      <td>1</td>\n",
       "      <td>2012</td>\n",
       "    </tr>\n",
       "    <tr>\n",
       "      <th>2</th>\n",
       "      <td>[mood, disorder, depressive, depressed, anxiou...</td>\n",
       "      <td>Academic</td>\n",
       "      <td>2</td>\n",
       "      <td>2012</td>\n",
       "    </tr>\n",
       "    <tr>\n",
       "      <th>3</th>\n",
       "      <td>[exposure, disaster, may, follow, involvement,...</td>\n",
       "      <td>Academic</td>\n",
       "      <td>3</td>\n",
       "      <td>2012</td>\n",
       "    </tr>\n",
       "    <tr>\n",
       "      <th>4</th>\n",
       "      <td>[anxiety, worry, cognitive, review, model, tes...</td>\n",
       "      <td>Academic</td>\n",
       "      <td>4</td>\n",
       "      <td>2012</td>\n",
       "    </tr>\n",
       "  </tbody>\n",
       "</table>\n",
       "</div>"
      ],
      "text/plain": [
       "                                     Most_freq_words    Source  Topic_ID  Year\n",
       "0  [mdd, patient, generalize, disorder, relations...  Academic         0  2012\n",
       "1  [sleep, hybrid, monitoring, insomnia, acceptab...  Academic         1  2012\n",
       "2  [mood, disorder, depressive, depressed, anxiou...  Academic         2  2012\n",
       "3  [exposure, disaster, may, follow, involvement,...  Academic         3  2012\n",
       "4  [anxiety, worry, cognitive, review, model, tes...  Academic         4  2012"
      ]
     },
     "execution_count": 24,
     "metadata": {},
     "output_type": "execute_result"
    }
   ],
   "source": [
    "df.head()"
   ]
  },
  {
   "cell_type": "code",
   "execution_count": 25,
   "metadata": {},
   "outputs": [],
   "source": [
    "df.to_csv(\"topic_words_j2012.csv\")"
   ]
  },
  {
   "cell_type": "code",
   "execution_count": null,
   "metadata": {},
   "outputs": [],
   "source": []
  }
 ],
 "metadata": {
  "kernelspec": {
   "display_name": "Python 3",
   "language": "python",
   "name": "python3"
  },
  "language_info": {
   "codemirror_mode": {
    "name": "ipython",
    "version": 3
   },
   "file_extension": ".py",
   "mimetype": "text/x-python",
   "name": "python",
   "nbconvert_exporter": "python",
   "pygments_lexer": "ipython3",
   "version": "3.8.5"
  }
 },
 "nbformat": 4,
 "nbformat_minor": 2
}
