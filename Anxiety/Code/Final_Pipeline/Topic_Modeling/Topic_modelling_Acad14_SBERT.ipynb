{
 "cells": [
  {
   "cell_type": "code",
   "execution_count": 1,
   "metadata": {},
   "outputs": [],
   "source": [
    "#Basic Libraries\n",
    "import re\n",
    "import numpy as np\n",
    "import pandas as pd\n",
    "from pprint import pprint\n",
    "import sys\n",
    "# Gensim\n",
    "import gensim\n",
    "import gensim.corpora as corpora\n",
    "from gensim.utils import simple_preprocess\n",
    "from gensim.models import CoherenceModel\n",
    "# spacy for lemmatization\n",
    "import spacy\n",
    "# Plotting tools\n",
    "import pyLDAvis\n",
    "import pyLDAvis.gensim  # don't skip this\n",
    "import matplotlib.pyplot as plt\n",
    "# Enable logging for gensim - optional\n",
    "import logging\n",
    "logging.basicConfig(format='%(asctime)s : %(levelname)s : %(message)s', level=logging.ERROR)\n",
    "import warnings\n",
    "warnings.filterwarnings(\"ignore\",category=DeprecationWarning)"
   ]
  },
  {
   "cell_type": "code",
   "execution_count": 2,
   "metadata": {},
   "outputs": [],
   "source": [
    "# NLTK Stop words\n",
    "from nltk.corpus import stopwords\n",
    "stop_words = stopwords.words('english')\n",
    "stop_words.extend(['from', 'subject', 're', 'edu', 'use'])"
   ]
  },
  {
   "cell_type": "code",
   "execution_count": 3,
   "metadata": {},
   "outputs": [
    {
     "name": "stderr",
     "output_type": "stream",
     "text": [
      "/home/smriti/.local/lib/python3.5/site-packages/pandas/core/computation/check.py:17: UserWarning: The installed version of numexpr 2.4.3 is not supported in pandas and will be not be used\n",
      "The minimum supported version is 2.4.6\n",
      "\n",
      "  ver=ver, min_ver=_MIN_NUMEXPR_VERSION), UserWarning)\n"
     ]
    }
   ],
   "source": [
    "#Load Dataset\n",
    "df=pd.read_csv('/home/smriti/Desktop/NLP/MITACS/Anxiety/Data/CSV/Academic/Acad2014.csv')\n",
    "#getting rid of NaN\n",
    "df=df.replace(np.nan, '', regex=True)\n",
    "#Combining title and text\n",
    "df[\"Text\"] = df[\"Title\"] + df[\"Abstract\"]\n",
    "#Now that we don't need Title or Text, we drop those columns before saving the file\n",
    "df=df.drop(['Title', 'Abstract'], axis = 1)"
   ]
  },
  {
   "cell_type": "code",
   "execution_count": 4,
   "metadata": {},
   "outputs": [],
   "source": [
    "df=df.loc[:, ~df.columns.str.contains('^Unnamed')]"
   ]
  },
  {
   "cell_type": "code",
   "execution_count": 5,
   "metadata": {},
   "outputs": [
    {
     "data": {
      "text/html": [
       "<div>\n",
       "<style scoped>\n",
       "    .dataframe tbody tr th:only-of-type {\n",
       "        vertical-align: middle;\n",
       "    }\n",
       "\n",
       "    .dataframe tbody tr th {\n",
       "        vertical-align: top;\n",
       "    }\n",
       "\n",
       "    .dataframe thead th {\n",
       "        text-align: right;\n",
       "    }\n",
       "</style>\n",
       "<table border=\"1\" class=\"dataframe\">\n",
       "  <thead>\n",
       "    <tr style=\"text-align: right;\">\n",
       "      <th></th>\n",
       "      <th>StoreId</th>\n",
       "      <th>documentType</th>\n",
       "      <th>year</th>\n",
       "      <th>Text</th>\n",
       "    </tr>\n",
       "  </thead>\n",
       "  <tbody>\n",
       "    <tr>\n",
       "      <th>0</th>\n",
       "      <td>1650982901</td>\n",
       "      <td>Journal , Peer Reviewed Journal , Journal Art...</td>\n",
       "      <td>2014</td>\n",
       "      <td>A randomized controlled trial of mental health...</td>\n",
       "    </tr>\n",
       "    <tr>\n",
       "      <th>1</th>\n",
       "      <td>1650985265</td>\n",
       "      <td>Journal , Peer Reviewed Journal , Journal Art...</td>\n",
       "      <td>2014</td>\n",
       "      <td>Staff and service users’ views on a ‘Consent f...</td>\n",
       "    </tr>\n",
       "    <tr>\n",
       "      <th>2</th>\n",
       "      <td>1650983695</td>\n",
       "      <td>Journal , Peer Reviewed Journal , Journal Art...</td>\n",
       "      <td>2014</td>\n",
       "      <td>Early risk factors for adult bipolar disorder ...</td>\n",
       "    </tr>\n",
       "    <tr>\n",
       "      <th>3</th>\n",
       "      <td>1647030557</td>\n",
       "      <td>Journal , Peer Reviewed Journal , Journal Art...</td>\n",
       "      <td>2014</td>\n",
       "      <td>Comparison of psychiatric disability on the He...</td>\n",
       "    </tr>\n",
       "    <tr>\n",
       "      <th>4</th>\n",
       "      <td>1647030599</td>\n",
       "      <td>Journal , Peer Reviewed Journal , Journal Art...</td>\n",
       "      <td>2014</td>\n",
       "      <td>A validation study of the Hospital Anxiety and...</td>\n",
       "    </tr>\n",
       "  </tbody>\n",
       "</table>\n",
       "</div>"
      ],
      "text/plain": [
       "      StoreId                                       documentType  year  \\\n",
       "0  1650982901   Journal , Peer Reviewed Journal , Journal Art...  2014   \n",
       "1  1650985265   Journal , Peer Reviewed Journal , Journal Art...  2014   \n",
       "2  1650983695   Journal , Peer Reviewed Journal , Journal Art...  2014   \n",
       "3  1647030557   Journal , Peer Reviewed Journal , Journal Art...  2014   \n",
       "4  1647030599   Journal , Peer Reviewed Journal , Journal Art...  2014   \n",
       "\n",
       "                                                Text  \n",
       "0  A randomized controlled trial of mental health...  \n",
       "1  Staff and service users’ views on a ‘Consent f...  \n",
       "2  Early risk factors for adult bipolar disorder ...  \n",
       "3  Comparison of psychiatric disability on the He...  \n",
       "4  A validation study of the Hospital Anxiety and...  "
      ]
     },
     "execution_count": 5,
     "metadata": {},
     "output_type": "execute_result"
    }
   ],
   "source": [
    "df.head()"
   ]
  },
  {
   "cell_type": "code",
   "execution_count": 6,
   "metadata": {},
   "outputs": [],
   "source": [
    "# Convert to list\n",
    "data=df.Text.values.tolist()\n",
    "# Remove new line characters\n",
    "data=[re.sub('\\s+', ' ', sent) for sent in data]\n",
    "# Remove distracting single quotes\n",
    "data=[re.sub(\"\\'\", \"\", sent) for sent in data]"
   ]
  },
  {
   "cell_type": "code",
   "execution_count": 7,
   "metadata": {},
   "outputs": [],
   "source": [
    "#Function to clean up text\n",
    "def sent_to_words(sentences):\n",
    "    for sentence in sentences:\n",
    "        yield(gensim.utils.simple_preprocess(str(sentence), deacc=True)) "
   ]
  },
  {
   "cell_type": "code",
   "execution_count": 8,
   "metadata": {},
   "outputs": [
    {
     "name": "stdout",
     "output_type": "stream",
     "text": [
      "[['randomized', 'controlled', 'trial', 'of', 'mental', 'health', 'interventions', 'for', 'survivors', 'of', 'systematic', 'violence', 'in', 'kurdistan', 'northern', 'iraqbackground', 'experiencing', 'systematic', 'violence', 'and', 'trauma', 'increases', 'the', 'risk', 'of', 'poor', 'mental', 'health', 'outcomes', 'few', 'interventions', 'for', 'these', 'types', 'of', 'exposures', 'have', 'been', 'evaluated', 'in', 'low', 'resource', 'contexts', 'the', 'objective', 'of', 'this', 'randomized', 'controlled', 'trial', 'was', 'to', 'assess', 'the', 'effectiveness', 'of', 'two', 'interventions', 'behavioral', 'activation', 'treatment', 'for', 'depression', 'batd', 'and', 'cognitive', 'processing', 'therapy', 'cpt', 'in', 'reducing', 'depression', 'symptoms', 'using', 'locally', 'adapted', 'and', 'validated', 'version', 'of', 'the', 'hopkins', 'symptom', 'checklist', 'and', 'dysfunction', 'measured', 'with', 'locally', 'developed', 'scale', 'secondary', 'outcomes', 'included', 'posttraumatic', 'stress', 'anxiety', 'and', 'traumatic', 'grief', 'symptoms', 'methods', 'twenty', 'community', 'mental', 'health', 'workers', 'working', 'in', 'rural', 'health', 'clinics', 'were', 'randomly', 'assigned', 'to', 'training', 'in', 'one', 'of', 'the', 'two', 'interventions', 'the', 'community', 'mental', 'health', 'workers', 'conducted', 'baseline', 'assessments', 'enrolled', 'survivors', 'of', 'systematic', 'violence', 'based', 'on', 'severity', 'of', 'depression', 'symptoms', 'and', 'randomly', 'assigned', 'them', 'to', 'treatment', 'or', 'waitlist', 'control', 'blinded', 'community', 'mental', 'health', 'workers', 'conducted', 'post', 'intervention', 'assessments', 'on', 'average', 'five', 'months', 'later', 'results', 'adult', 'survivors', 'of', 'systematic', 'violence', 'were', 'screened', 'with', 'enrolled', 'in', 'the', 'trial', 'randomized', 'to', 'an', 'intervention', 'to', 'batd', 'to', 'cpt', 'and', 'to', 'waitlist', 'control', 'to', 'batd', 'to', 'cpt', 'nearly', 'of', 'the', 'intervention', 'participants', 'completed', 'treatment', 'and', 'post', 'intervention', 'assessments', 'waitlist', 'controls', 'completed', 'post', 'intervention', 'assessments', 'estimated', 'effect', 'sizes', 'for', 'depression', 'and', 'dysfunction', 'were', 'and', 'respectively', 'comparing', 'batd', 'participants', 'to', 'all', 'controls', 'and', 'and', 'respectively', 'compared', 'to', 'batd', 'controls', 'only', 'estimated', 'effect', 'sizes', 'for', 'depression', 'and', 'dysfunction', 'were', 'and', 'respectively', 'comparing', 'cpt', 'participants', 'to', 'all', 'controls', 'and', 'and', 'respectively', 'compared', 'to', 'cpt', 'controls', 'only', 'using', 'permutation', 'based', 'hypothesis', 'test', 'that', 'is', 'robust', 'to', 'the', 'model', 'assumptions', 'implicit', 'in', 'regression', 'models', 'batd', 'had', 'significant', 'effects', 'on', 'depression', 'and', 'dysfunction', 'while', 'cpt', 'had', 'significant', 'effect', 'on', 'dysfunction', 'only', 'conclusions', 'both', 'interventions', 'showed', 'moderate', 'to', 'strong', 'effects', 'on', 'most', 'outcomes', 'this', 'study', 'demonstrates', 'effectiveness', 'of', 'these', 'interventions', 'in', 'low', 'resource', 'environments', 'by', 'mental', 'health', 'workers', 'with', 'limited', 'prior', 'experience', 'trial', 'registration', 'clinicaltrials', 'gov', 'nct', 'registered', 'june', 'psycinfo', 'database', 'record', 'apa', 'all', 'rights', 'reserved', 'source', 'journal', 'abstract']]\n"
     ]
    }
   ],
   "source": [
    "#Clean up text\n",
    "data_words=list(sent_to_words(data))\n",
    "print(data_words[:1])"
   ]
  },
  {
   "cell_type": "code",
   "execution_count": 9,
   "metadata": {},
   "outputs": [],
   "source": [
    "# Build the bigram and trigram models\n",
    "bigram=gensim.models.Phrases(data_words, min_count=5, threshold=100) # higher threshold fewer phrases.\n",
    "trigram=gensim.models.Phrases(bigram[data_words], threshold=100)"
   ]
  },
  {
   "cell_type": "code",
   "execution_count": 10,
   "metadata": {},
   "outputs": [],
   "source": [
    "# Faster way to get a sentence clubbed as a trigram/bigram\n",
    "bigram_mod=gensim.models.phrases.Phraser(bigram)\n",
    "trigram_mod=gensim.models.phrases.Phraser(trigram)"
   ]
  },
  {
   "cell_type": "code",
   "execution_count": 11,
   "metadata": {},
   "outputs": [
    {
     "name": "stdout",
     "output_type": "stream",
     "text": [
      "['randomized_controlled_trial', 'of', 'mental', 'health', 'interventions', 'for', 'survivors', 'of', 'systematic', 'violence', 'in', 'kurdistan', 'northern', 'iraqbackground', 'experiencing', 'systematic', 'violence', 'and', 'trauma', 'increases', 'the', 'risk', 'of', 'poor', 'mental', 'health', 'outcomes', 'few', 'interventions', 'for', 'these', 'types', 'of', 'exposures', 'have_been', 'evaluated', 'in', 'low', 'resource', 'contexts', 'the', 'objective', 'of', 'this', 'randomized_controlled_trial', 'was', 'to', 'assess', 'the', 'effectiveness', 'of', 'two', 'interventions', 'behavioral', 'activation', 'treatment', 'for', 'depression', 'batd', 'and', 'cognitive', 'processing', 'therapy', 'cpt', 'in', 'reducing', 'depression', 'symptoms', 'using', 'locally', 'adapted', 'and', 'validated', 'version', 'of', 'the', 'hopkins', 'symptom', 'checklist', 'and', 'dysfunction', 'measured', 'with', 'locally', 'developed', 'scale', 'secondary', 'outcomes', 'included', 'posttraumatic_stress', 'anxiety', 'and', 'traumatic', 'grief', 'symptoms', 'methods', 'twenty', 'community', 'mental', 'health', 'workers', 'working', 'in', 'rural', 'health', 'clinics', 'were', 'randomly_assigned', 'to', 'training', 'in', 'one', 'of', 'the', 'two', 'interventions', 'the', 'community', 'mental', 'health', 'workers', 'conducted', 'baseline', 'assessments', 'enrolled', 'survivors', 'of', 'systematic', 'violence', 'based', 'on', 'severity', 'of', 'depression', 'symptoms', 'and', 'randomly_assigned', 'them', 'to', 'treatment', 'or', 'waitlist', 'control', 'blinded', 'community', 'mental', 'health', 'workers', 'conducted', 'post', 'intervention', 'assessments', 'on', 'average', 'five', 'months', 'later', 'results', 'adult', 'survivors', 'of', 'systematic', 'violence', 'were', 'screened', 'with', 'enrolled', 'in', 'the', 'trial', 'randomized', 'to', 'an', 'intervention', 'to', 'batd', 'to', 'cpt', 'and', 'to', 'waitlist', 'control', 'to', 'batd', 'to', 'cpt', 'nearly', 'of', 'the', 'intervention', 'participants', 'completed', 'treatment', 'and', 'post', 'intervention', 'assessments', 'waitlist', 'controls', 'completed', 'post', 'intervention', 'assessments', 'estimated', 'effect_sizes', 'for', 'depression', 'and', 'dysfunction', 'were', 'and', 'respectively', 'comparing', 'batd', 'participants', 'to', 'all', 'controls', 'and', 'and', 'respectively', 'compared', 'to', 'batd', 'controls', 'only', 'estimated', 'effect_sizes', 'for', 'depression', 'and', 'dysfunction', 'were', 'and', 'respectively', 'comparing', 'cpt', 'participants', 'to', 'all', 'controls', 'and', 'and', 'respectively', 'compared', 'to', 'cpt', 'controls', 'only', 'using', 'permutation', 'based', 'hypothesis', 'test', 'that', 'is', 'robust', 'to', 'the', 'model', 'assumptions', 'implicit', 'in', 'regression', 'models', 'batd', 'had', 'significant', 'effects', 'on', 'depression', 'and', 'dysfunction', 'while', 'cpt', 'had', 'significant', 'effect', 'on', 'dysfunction', 'only', 'conclusions', 'both', 'interventions', 'showed', 'moderate', 'to', 'strong', 'effects', 'on', 'most', 'outcomes', 'this', 'study', 'demonstrates', 'effectiveness', 'of', 'these', 'interventions', 'in', 'low', 'resource', 'environments', 'by', 'mental', 'health', 'workers', 'with', 'limited', 'prior', 'experience', 'trial_registration', 'clinicaltrials', 'gov', 'nct', 'registered', 'june', 'psycinfo_database_record_apa', 'all_rights_reserved_source', 'journal_abstract']\n"
     ]
    }
   ],
   "source": [
    "# See trigram example\n",
    "print(trigram_mod[bigram_mod[data_words[0]]])"
   ]
  },
  {
   "cell_type": "code",
   "execution_count": 12,
   "metadata": {},
   "outputs": [],
   "source": [
    "# Define functions for stopwords, bigrams, trigrams and lemmatization\n",
    "def remove_stopwords(texts):\n",
    "    return [[word for word in simple_preprocess(str(doc)) if word not in stop_words] for doc in texts]\n"
   ]
  },
  {
   "cell_type": "code",
   "execution_count": 13,
   "metadata": {},
   "outputs": [],
   "source": [
    "def make_bigrams(texts):\n",
    "    return [bigram_mod[doc] for doc in texts]\n",
    "\n",
    "def make_trigrams(texts):\n",
    "    return [trigram_mod[bigram_mod[doc]] for doc in texts]\n",
    "\n",
    "def lemmatization(texts, allowed_postags=['NOUN', 'ADJ', 'VERB', 'ADV']):\n",
    "    \"\"\"https://spacy.io/api/annotation\"\"\"\n",
    "    texts_out = []\n",
    "    for sent in texts:\n",
    "        doc = nlp(\" \".join(sent))\n",
    "        texts_out.append([token.lemma_ for token in doc if token.pos_ in allowed_postags])\n",
    "    return texts_out"
   ]
  },
  {
   "cell_type": "code",
   "execution_count": 14,
   "metadata": {},
   "outputs": [
    {
     "name": "stdout",
     "output_type": "stream",
     "text": [
      "[['randomized_controlle', 'trial', 'mental', 'health', 'intervention', 'survivor', 'systematic', 'violence', 'experience', 'systematic', 'violence', 'trauma', 'increase', 'risk', 'poor', 'mental', 'health', 'outcome', 'intervention', 'type', 'exposure', 'evaluate', 'low', 'resource', 'contexts', 'objective', 'randomized_controlle', 'trial', 'assess', 'effectiveness', 'intervention', 'behavioral', 'activation', 'treatment', 'depression', 'cognitive', 'processing', 'therapy', 'reduce', 'depression', 'symptom', 'use', 'locally', 'adapt', 'validate', 'version', 'dysfunction', 'measure', 'locally', 'develop', 'scale', 'secondary', 'outcome', 'include', 'anxiety', 'traumatic', 'grief', 'symptom', 'method', 'community', 'mental', 'health', 'worker', 'work', 'rural', 'health', 'clinic', 'randomly_assigne', 'train', 'intervention', 'community', 'mental', 'health', 'worker', 'conduct', 'baseline', 'assessment', 'enrol', 'survivor', 'systematic', 'violence', 'base', 'severity', 'depression', 'symptom', 'randomly_assigne', 'treatment', 'waitlist', 'control', 'blind', 'worker', 'conduct', 'post', 'intervention', 'assessment', 'average', 'month', 'later', 'result', 'adult', 'survivor', 'systematic', 'violence', 'screen', 'enrol', 'trial', 'randomized', 'intervention', 'nearly', 'intervention', 'participant', 'complete', 'treatment', 'post', 'intervention', 'assessment', 'waitlist', 'control', 'complete', 'post', 'intervention', 'assessment', 'estimate', 'effect_sizes', 'depression', 'dysfunction', 'respectively', 'compare', 'participant', 'control', 'respectively', 'compare', 'control', 'estimate', 'depression', 'dysfunction', 'respectively', 'compare', 'participant', 'control', 'respectively', 'compare', 'control', 'use', 'permutation', 'base', 'hypothesis', 'test', 'robust', 'model', 'assumption', 'implicit', 'regression', 'model', 'batd', 'significant', 'effect', 'depression', 'dysfunction', 'significant', 'effect', 'dysfunction', 'conclusion', 'intervention', 'show', 'moderate', 'strong', 'effect', 'outcome', 'study', 'demonstrate', 'effectiveness', 'intervention', 'low', 'resource', 'environment', 'mental', 'health', 'worker', 'limit', 'prior', 'experience', 'trial', 'registration', 'register', 'abstract']]\n"
     ]
    }
   ],
   "source": [
    "data_words_nostops = remove_stopwords(data_words)\n",
    "\n",
    "# Form Bigrams\n",
    "data_words_bigrams = make_bigrams(data_words_nostops)\n",
    "\n",
    "# Initialize spacy 'en' model, keeping only tagger component (for efficiency)\n",
    "# python3 -m spacy download en\n",
    "nlp = spacy.load('en', disable=['parser', 'ner'])\n",
    "\n",
    "# Do lemmatization keeping only noun, adj, vb, adv\n",
    "data_lemmatized = lemmatization(data_words_bigrams, allowed_postags=['NOUN', 'ADJ', 'VERB', 'ADV'])\n",
    "print(data_lemmatized[:1])\n",
    "\n",
    "# Create Dictionary needed for topic modelling\n",
    "id2word = corpora.Dictionary(data_lemmatized)\n",
    "\n",
    "# Create Corpus\n",
    "texts = data_lemmatized\n",
    "\n",
    "# Term Document Frequency\n",
    "corpus = [id2word.doc2bow(text) for text in texts]\n",
    "\n",
    "# View\n",
    "[[(id2word[id], freq) for id, freq in cp] for cp in corpus[:1]]\n",
    "\n",
    "# Build LDA model\n",
    "lda_model = gensim.models.ldamodel.LdaModel(corpus=corpus,\n",
    "                                           id2word=id2word,\n",
    "                                           num_topics=56,\n",
    "                                           random_state=100,\n",
    "                                           update_every=1,\n",
    "                                           chunksize=100,\n",
    "                                           passes=10,\n",
    "                                           alpha='auto',\n",
    "                                           per_word_topics=True)"
   ]
  },
  {
   "cell_type": "code",
   "execution_count": 15,
   "metadata": {},
   "outputs": [
    {
     "name": "stdout",
     "output_type": "stream",
     "text": [
      "[(16,\n",
      "  '0.000*\"indication\" + 0.000*\"head\" + 0.000*\"sustainability\" + '\n",
      "  '0.000*\"reluctant\" + 0.000*\"kind\" + 0.000*\"infancy\" + 0.000*\"underway\" + '\n",
      "  '0.000*\"rest\" + 0.000*\"digital\" + 0.000*\"being\"'),\n",
      " (35,\n",
      "  '0.000*\"service\" + 0.000*\"kind\" + 0.000*\"underway\" + 0.000*\"technology\" + '\n",
      "  '0.000*\"sustainability\" + 0.000*\"reluctant\" + 0.000*\"accompany\" + '\n",
      "  '0.000*\"infancy\" + 0.000*\"attractive\" + 0.000*\"esbi\"'),\n",
      " (31,\n",
      "  '0.000*\"indication\" + 0.000*\"head\" + 0.000*\"sustainability\" + '\n",
      "  '0.000*\"reluctant\" + 0.000*\"kind\" + 0.000*\"infancy\" + 0.000*\"underway\" + '\n",
      "  '0.000*\"rest\" + 0.000*\"digital\" + 0.000*\"being\"'),\n",
      " (1,\n",
      "  '0.000*\"indication\" + 0.000*\"head\" + 0.000*\"sustainability\" + '\n",
      "  '0.000*\"reluctant\" + 0.000*\"kind\" + 0.000*\"infancy\" + 0.000*\"underway\" + '\n",
      "  '0.000*\"rest\" + 0.000*\"digital\" + 0.000*\"being\"'),\n",
      " (54,\n",
      "  '0.000*\"mental\" + 0.000*\"disorder\" + 0.000*\"health\" + 0.000*\"self\" + '\n",
      "  '0.000*\"symptom\" + 0.000*\"efficacy\" + 0.000*\"factor\" + 0.000*\"depression\" + '\n",
      "  '0.000*\"effect\" + 0.000*\"mhse\"'),\n",
      " (14,\n",
      "  '0.000*\"discriminant\" + 0.000*\"validity\" + 0.000*\"measure\" + 0.000*\"factor\" '\n",
      "  '+ 0.000*\"support\" + 0.000*\"different\" + 0.000*\"phq\" + 0.000*\"item\" + '\n",
      "  '0.000*\"generate\" + 0.000*\"anxiety\"'),\n",
      " (24,\n",
      "  '0.000*\"parent\" + 0.000*\"treatment\" + 0.000*\"improve\" + 0.000*\"social\" + '\n",
      "  '0.000*\"intervention\" + 0.000*\"anxiety\" + 0.000*\"cognitive\" + '\n",
      "  '0.000*\"effective\" + 0.000*\"disorder\" + 0.000*\"rate\"'),\n",
      " (26,\n",
      "  '0.000*\"treatment\" + 0.000*\"problem\" + 0.000*\"need\" + 0.000*\"strategy\" + '\n",
      "  '0.000*\"patient\" + 0.000*\"health\" + 0.000*\"intervention\" + 0.000*\"service\" + '\n",
      "  '0.000*\"substance\" + 0.000*\"result\"'),\n",
      " (41,\n",
      "  '0.000*\"dimension\" + 0.000*\"value\" + 0.000*\"individual\" + 0.000*\"examine\" + '\n",
      "  '0.000*\"utility\" + 0.000*\"clinical\" + 0.000*\"perfectionism\" + '\n",
      "  '0.000*\"predict\" + 0.000*\"sample\" + 0.000*\"depression\"'),\n",
      " (9,\n",
      "  '0.000*\"treatment\" + 0.000*\"outcome\" + 0.000*\"disorder\" + 0.000*\"face\" + '\n",
      "  '0.000*\"anxiety\" + 0.000*\"program\" + 0.000*\"group\" + 0.000*\"patient\" + '\n",
      "  '0.000*\"effective\" + 0.000*\"clinical\"'),\n",
      " (49,\n",
      "  '0.102*\"difficult\" + 0.100*\"last\" + 0.049*\"stress\" + 0.047*\"bias\" + '\n",
      "  '0.047*\"panic\" + 0.044*\"threat\" + 0.040*\"processing\" + 0.038*\"region\" + '\n",
      "  '0.032*\"activation\" + 0.030*\"brain\"'),\n",
      " (15,\n",
      "  '0.112*\"symptom\" + 0.081*\"sample\" + 0.075*\"clinical\" + 0.050*\"dimension\" + '\n",
      "  '0.048*\"indicate\" + 0.044*\"criterion\" + 0.043*\"analysis\" + 0.041*\"recommend\" '\n",
      "  '+ 0.041*\"various\" + 0.035*\"conduct\"'),\n",
      " (27,\n",
      "  '0.208*\"depression\" + 0.200*\"month\" + 0.068*\"change\" + 0.057*\"anxiety\" + '\n",
      "  '0.040*\"measure\" + 0.030*\"follow\" + 0.028*\"compare\" + 0.026*\"improve\" + '\n",
      "  '0.025*\"also\" + 0.024*\"month_follow\"'),\n",
      " (42,\n",
      "  '0.096*\"treatment\" + 0.053*\"intervention\" + 0.046*\"group\" + 0.029*\"trial\" + '\n",
      "  '0.027*\"cognitive\" + 0.025*\"control\" + 0.023*\"therapy\" + 0.022*\"participant\" '\n",
      "  '+ 0.021*\"post\" + 0.019*\"anxiety\"'),\n",
      " (3,\n",
      "  '0.134*\"patient\" + 0.080*\"late\" + 0.052*\"rate\" + 0.026*\"high\" + '\n",
      "  '0.026*\"depression\" + 0.026*\"severity\" + 0.025*\"level\" + 0.024*\"functional\" '\n",
      "  '+ 0.024*\"measure\" + 0.023*\"symptom\"'),\n",
      " (33,\n",
      "  '0.065*\"anxiety\" + 0.063*\"prevalence\" + 0.043*\"increase\" + 0.042*\"physical\" '\n",
      "  '+ 0.041*\"adjust\" + 0.041*\"current\" + 0.037*\"smoking\" + 0.036*\"lower\" + '\n",
      "  '0.032*\"symptom\" + 0.032*\"study\"'),\n",
      " (20,\n",
      "  '0.052*\"treatment\" + 0.036*\"anxiety\" + 0.026*\"cognitive\" + 0.024*\"cbt\" + '\n",
      "  '0.022*\"outcome\" + 0.015*\"therapy\" + 0.015*\"measure\" + 0.013*\"participant\" + '\n",
      "  '0.013*\"disorder\" + 0.012*\"clinical\"'),\n",
      " (50,\n",
      "  '0.151*\"background\" + 0.075*\"lead\" + 0.060*\"incidence\" + 0.027*\"study\" + '\n",
      "  '0.026*\"total\" + 0.021*\"face\" + 0.021*\"result\" + 0.019*\"differ\" + '\n",
      "  '0.016*\"method\" + 0.013*\"likely\"'),\n",
      " (28,\n",
      "  '0.199*\"disorder\" + 0.111*\"anxiety\" + 0.063*\"admixture\" + '\n",
      "  '0.057*\"characteristic\" + 0.039*\"obtain\" + 0.035*\"cut\" + 0.021*\"specific\" + '\n",
      "  '0.020*\"generalize\" + 0.016*\"study\" + 0.014*\"use\"'),\n",
      " (38,\n",
      "  '0.037*\"anxiety\" + 0.031*\"disorder\" + 0.028*\"symptom\" + 0.025*\"study\" + '\n",
      "  '0.022*\"factor\" + 0.022*\"depression\" + 0.016*\"depressive\" + 0.015*\"use\" + '\n",
      "  '0.015*\"result\" + 0.014*\"term\"')]\n"
     ]
    }
   ],
   "source": [
    "# Print the Keyword in the topics\n",
    "pprint(lda_model.print_topics())\n",
    "doc_lda = lda_model[corpus]"
   ]
  },
  {
   "cell_type": "code",
   "execution_count": 16,
   "metadata": {},
   "outputs": [
    {
     "name": "stdout",
     "output_type": "stream",
     "text": [
      "\n",
      "Perplexity:  -12.725220374714448\n"
     ]
    }
   ],
   "source": [
    "# Compute Perplexity\n",
    "print('\\nPerplexity: ', lda_model.log_perplexity(corpus))  # a measure of how good the model is. lower the better."
   ]
  },
  {
   "cell_type": "code",
   "execution_count": 17,
   "metadata": {},
   "outputs": [
    {
     "name": "stdout",
     "output_type": "stream",
     "text": [
      "\n",
      "Coherence Score:  0.36150730245500157\n"
     ]
    }
   ],
   "source": [
    "# Compute Coherence Score\n",
    "coherence_model_lda = CoherenceModel(model=lda_model, texts=data_lemmatized, dictionary=id2word, coherence='c_v')\n",
    "coherence_lda = coherence_model_lda.get_coherence()\n",
    "print('\\nCoherence Score: ', coherence_lda)"
   ]
  },
  {
   "cell_type": "code",
   "execution_count": 18,
   "metadata": {},
   "outputs": [],
   "source": [
    "num_topics = 56\n",
    "topic_words = []\n",
    "for i in range(num_topics):\n",
    "    tt = lda_model.get_topic_terms(i,10)\n",
    "    topic_words.append([id2word[pair[0]] for pair in tt])"
   ]
  },
  {
   "cell_type": "code",
   "execution_count": 19,
   "metadata": {},
   "outputs": [
    {
     "name": "stdout",
     "output_type": "stream",
     "text": [
      "['healthcare', 'list', 'disorder', 'health', 'subthreshold', 'symptom', 'earthquake', 'study', 'mental', 'risk']\n",
      "['indication', 'head', 'sustainability', 'reluctant', 'kind', 'infancy', 'underway', 'rest', 'digital', 'being']\n",
      "['marker', 'single', 'mental', 'health', 'estimate', 'population', 'burden', 'high', 'report', 'poor']\n",
      "['patient', 'late', 'rate', 'high', 'depression', 'severity', 'level', 'functional', 'measure', 'symptom']\n",
      "['profile', 'subject', 'combination', 'suffer', 'effect', 'animal', 'neuroimage', 'previously', 'drug', 'investigation']\n",
      "['fear', 'disorder', 'associate', 'youth', 'anxiety', 'survey', 'extinction', 'non', 'study', 'include']\n",
      "['subthreshold', 'syndrome', 'recurrent', 'disease', 'morbidity', 'epidemiological', 'typically', 'considerably', 'threshold', 'public']\n",
      "['individual', 'pattern', 'client', 'ptsd', 'event', 'present', 'trauma', 'trajectory', 'service', 'traumatic']\n",
      "['counselling', 'success', 'immediately', 'far', 'linkage', 'ptc', 'hazardous', 'cmd', 'alcohol', 'test']\n",
      "['treatment', 'outcome', 'disorder', 'face', 'anxiety', 'program', 'group', 'patient', 'effective', 'clinical']\n",
      "['vulnerable', 'induce', 'resilience', 'side_effect', 'gene', 'severely', 'blood', 'adaptation', 'clozapine', 'protection']\n",
      "['adolescent', 'function', 'year', 'associate', 'course', 'experience', 'symptom', 'personality', 'previous', 'assess']\n",
      "['safety', 'transdiagnostic', 'feasible', 'differential', 'internet_delivered', 'appropriate', 'internet_delivere', 'manifestation', 'internalise', 'attendance']\n",
      "['traumatized_refugee', 'honos', 'resettle', 'danish', 'importantly', 'psychiatric', 'treatment', 'anxiety', 'point', 'disorder']\n",
      "['discriminant', 'validity', 'measure', 'factor', 'support', 'different', 'phq', 'item', 'generate', 'anxiety']\n",
      "['symptom', 'sample', 'clinical', 'dimension', 'indicate', 'criterion', 'analysis', 'recommend', 'various', 'conduct']\n",
      "['indication', 'head', 'sustainability', 'reluctant', 'kind', 'infancy', 'underway', 'rest', 'digital', 'being']\n",
      "['ci', 'least', 'less', 'history', 'health', 'long', 'baseline', 'short', 'aim', 'reduce']\n",
      "['ocd', 'obsessive_compulsive', 'characteristic', 'demonstrate', 'suggest', 'mediation', 'optimize', 'likelihood', 'symptom', 'cross']\n",
      "['risk', 'suicide', 'psychosis', 'high', 'rate', 'male', 'case', 'relative', 'population', 'uhr']\n",
      "['treatment', 'anxiety', 'cognitive', 'cbt', 'outcome', 'therapy', 'measure', 'participant', 'disorder', 'clinical']\n",
      "['adhd', 'frequency', 'hyperactivity', 'functioning', 'activity', 'occur', 'empirically', 'representative', 'subgroup', 'symptom']\n",
      "['age', 'early', 'disorder', 'year', 'increase', 'bipolar', 'implication', 'best_fitting', 'likely', 'sample']\n",
      "['sleep', 'school', 'outcome', 'follow', 'component', 'rather', 'serve', 'educational', 'thus', 'emotional']\n",
      "['parent', 'treatment', 'improve', 'social', 'intervention', 'anxiety', 'cognitive', 'effective', 'disorder', 'rate']\n",
      "['substance', 'mental', 'symptomatology', 'secondary', 'combine', 'health', 'account', 'attribute', 'expert', 'universal']\n",
      "['treatment', 'problem', 'need', 'strategy', 'patient', 'health', 'intervention', 'service', 'substance', 'result']\n",
      "['depression', 'month', 'change', 'anxiety', 'measure', 'follow', 'compare', 'improve', 'also', 'month_follow']\n",
      "['disorder', 'anxiety', 'admixture', 'characteristic', 'obtain', 'cut', 'specific', 'generalize', 'study', 'use']\n",
      "['child', 'parent', 'family', 'maintain', 'program', 'diagnosis', 'childhood', 'year', 'improvement', 'significant']\n",
      "['behavior', 'internalize', 'parental', 'report', 'externalize', 'problem', 'largely', 'chronic', 'difficulty', 'veteran']\n",
      "['indication', 'head', 'sustainability', 'reluctant', 'kind', 'infancy', 'underway', 'rest', 'digital', 'being']\n",
      "['attention', 'task', 'mindfulness', 'focus', 'active', 'sustain', 'compulsion', 'center', 'att', 'cope']\n",
      "['anxiety', 'prevalence', 'increase', 'physical', 'adjust', 'current', 'smoking', 'lower', 'symptom', 'study']\n",
      "['global', 'calculate', 'caregiver', 'decision', 'suitable', 'facilitate', 'professional', 'time', 'resource', 'lose']\n",
      "['service', 'kind', 'underway', 'technology', 'sustainability', 'reluctant', 'accompany', 'infancy', 'attractive', 'esbi']\n",
      "['scale', 'episode', 'score', 'develop', 'good', 'total', 'subscale', 'white', 'psychometric_propertie', 'questionnaire']\n",
      "['interaction', 'student', 'range', 'extend', 'publish', 'randomised_controlled', 'little', 'acceptable', 'highly', 'favour']\n",
      "['anxiety', 'disorder', 'symptom', 'study', 'factor', 'depression', 'depressive', 'use', 'result', 'term']\n",
      "['impairment', 'life', 'quality', 'domain', 'environmental', 'physical', 'instrumental', 'modification', 'adult', 'activity']\n",
      "['subsequent', 'day', 'group', 'performance', 'impact', 'would', 'shift', 'effort', 'maintenance', 'test']\n",
      "['dimension', 'value', 'individual', 'examine', 'utility', 'clinical', 'perfectionism', 'predict', 'sample', 'depression']\n",
      "['treatment', 'intervention', 'group', 'trial', 'cognitive', 'control', 'therapy', 'participant', 'post', 'anxiety']\n",
      "['naturally', 'treatment', 'intervention', 'group', 'effective', 'condition', 'patient', 'help', 'response', 'measure']\n",
      "['social', 'change', 'sad', 'decrease', 'negative', 'anxiety', 'predict', 'emotion', 'increase', 'cbt']\n",
      "['worry', 'deliver', 'telephone', 'clinician', 'old', 'nst', 'cbt', 'anxiety', 'therapy', 'examine']\n",
      "['woman', 'avoidance', 'strategy', 'little', 'significantly', 'overall', 'problem', 'passive', 'much', 'sad']\n",
      "['exposure', 'therapy', 'belief', 'treatment', 'session', 'condition', 'reduction', 'symptom', 'improvement', 'bias']\n",
      "['initial', 'outcome', 'involvement', 'measurement', 'relation', 'alliance', 'examine', 'divide', 'time', 'therapist']\n",
      "['difficult', 'last', 'stress', 'bias', 'panic', 'threat', 'processing', 'region', 'activation', 'brain']\n",
      "['background', 'lead', 'incidence', 'study', 'total', 'face', 'result', 'differ', 'method', 'likely']\n",
      "['onset', 'administer', 'analysis', 'number', 'result', 'relate', 'associate', 'symptom', 'disorder', 'multiple']\n",
      "['depressive', 'anxious', 'non', 'mdd', 'major', 'mother', 'depressed', 'estimate', 'course', 'depress']\n",
      "['health', 'treatment', 'mental', 'intervention', 'outcome', 'study', 'depression', 'compare', 'population', 'rate']\n",
      "['mental', 'disorder', 'health', 'self', 'symptom', 'efficacy', 'factor', 'depression', 'effect', 'mhse']\n",
      "['psychotherapy', 'intent', 'cancer', 'beneficial', 'survivor', 'enhance', 'feeling', 'life', 'randomly_assigne', 'meaning']\n"
     ]
    }
   ],
   "source": [
    "for i in range(0,56):\n",
    "    print(topic_words[i])"
   ]
  },
  {
   "cell_type": "code",
   "execution_count": 20,
   "metadata": {},
   "outputs": [
    {
     "data": {
      "text/html": [
       "<div>\n",
       "<style scoped>\n",
       "    .dataframe tbody tr th:only-of-type {\n",
       "        vertical-align: middle;\n",
       "    }\n",
       "\n",
       "    .dataframe tbody tr th {\n",
       "        vertical-align: top;\n",
       "    }\n",
       "\n",
       "    .dataframe thead th {\n",
       "        text-align: right;\n",
       "    }\n",
       "</style>\n",
       "<table border=\"1\" class=\"dataframe\">\n",
       "  <thead>\n",
       "    <tr style=\"text-align: right;\">\n",
       "      <th></th>\n",
       "      <th>Most_freq_words</th>\n",
       "      <th>Source</th>\n",
       "      <th>Topic_ID</th>\n",
       "      <th>Year</th>\n",
       "    </tr>\n",
       "  </thead>\n",
       "  <tbody>\n",
       "  </tbody>\n",
       "</table>\n",
       "</div>"
      ],
      "text/plain": [
       "Empty DataFrame\n",
       "Columns: [Most_freq_words, Source, Topic_ID, Year]\n",
       "Index: []"
      ]
     },
     "execution_count": 20,
     "metadata": {},
     "output_type": "execute_result"
    }
   ],
   "source": [
    "df=pd.DataFrame({'Year':[],'Source':[],'Topic_ID':[],'Most_freq_words':[]})\n",
    "df.head()"
   ]
  },
  {
   "cell_type": "code",
   "execution_count": 21,
   "metadata": {},
   "outputs": [],
   "source": [
    "df['Most_freq_words']=topic_words"
   ]
  },
  {
   "cell_type": "code",
   "execution_count": 22,
   "metadata": {},
   "outputs": [
    {
     "data": {
      "text/plain": [
       "(56, 4)"
      ]
     },
     "execution_count": 22,
     "metadata": {},
     "output_type": "execute_result"
    }
   ],
   "source": [
    "df = df.assign(Year='2014')\n",
    "df = df.assign(Source='Academic')\n",
    "df.shape"
   ]
  },
  {
   "cell_type": "code",
   "execution_count": 23,
   "metadata": {},
   "outputs": [],
   "source": [
    "ls=[]\n",
    "for i in range(0,56):\n",
    "    ls.append(i)\n",
    "df['Topic_ID']=ls"
   ]
  },
  {
   "cell_type": "code",
   "execution_count": 24,
   "metadata": {},
   "outputs": [
    {
     "data": {
      "text/html": [
       "<div>\n",
       "<style scoped>\n",
       "    .dataframe tbody tr th:only-of-type {\n",
       "        vertical-align: middle;\n",
       "    }\n",
       "\n",
       "    .dataframe tbody tr th {\n",
       "        vertical-align: top;\n",
       "    }\n",
       "\n",
       "    .dataframe thead th {\n",
       "        text-align: right;\n",
       "    }\n",
       "</style>\n",
       "<table border=\"1\" class=\"dataframe\">\n",
       "  <thead>\n",
       "    <tr style=\"text-align: right;\">\n",
       "      <th></th>\n",
       "      <th>Most_freq_words</th>\n",
       "      <th>Source</th>\n",
       "      <th>Topic_ID</th>\n",
       "      <th>Year</th>\n",
       "    </tr>\n",
       "  </thead>\n",
       "  <tbody>\n",
       "    <tr>\n",
       "      <th>0</th>\n",
       "      <td>[healthcare, list, disorder, health, subthresh...</td>\n",
       "      <td>Academic</td>\n",
       "      <td>0</td>\n",
       "      <td>2014</td>\n",
       "    </tr>\n",
       "    <tr>\n",
       "      <th>1</th>\n",
       "      <td>[indication, head, sustainability, reluctant, ...</td>\n",
       "      <td>Academic</td>\n",
       "      <td>1</td>\n",
       "      <td>2014</td>\n",
       "    </tr>\n",
       "    <tr>\n",
       "      <th>2</th>\n",
       "      <td>[marker, single, mental, health, estimate, pop...</td>\n",
       "      <td>Academic</td>\n",
       "      <td>2</td>\n",
       "      <td>2014</td>\n",
       "    </tr>\n",
       "    <tr>\n",
       "      <th>3</th>\n",
       "      <td>[patient, late, rate, high, depression, severi...</td>\n",
       "      <td>Academic</td>\n",
       "      <td>3</td>\n",
       "      <td>2014</td>\n",
       "    </tr>\n",
       "    <tr>\n",
       "      <th>4</th>\n",
       "      <td>[profile, subject, combination, suffer, effect...</td>\n",
       "      <td>Academic</td>\n",
       "      <td>4</td>\n",
       "      <td>2014</td>\n",
       "    </tr>\n",
       "  </tbody>\n",
       "</table>\n",
       "</div>"
      ],
      "text/plain": [
       "                                     Most_freq_words    Source  Topic_ID  Year\n",
       "0  [healthcare, list, disorder, health, subthresh...  Academic         0  2014\n",
       "1  [indication, head, sustainability, reluctant, ...  Academic         1  2014\n",
       "2  [marker, single, mental, health, estimate, pop...  Academic         2  2014\n",
       "3  [patient, late, rate, high, depression, severi...  Academic         3  2014\n",
       "4  [profile, subject, combination, suffer, effect...  Academic         4  2014"
      ]
     },
     "execution_count": 24,
     "metadata": {},
     "output_type": "execute_result"
    }
   ],
   "source": [
    "df.head()"
   ]
  },
  {
   "cell_type": "code",
   "execution_count": 25,
   "metadata": {},
   "outputs": [],
   "source": [
    "df.to_csv(\"topic_words_j2014.csv\")"
   ]
  },
  {
   "cell_type": "code",
   "execution_count": null,
   "metadata": {},
   "outputs": [],
   "source": []
  }
 ],
 "metadata": {
  "kernelspec": {
   "display_name": "Python 3",
   "language": "python",
   "name": "python3"
  },
  "language_info": {
   "codemirror_mode": {
    "name": "ipython",
    "version": 3
   },
   "file_extension": ".py",
   "mimetype": "text/x-python",
   "name": "python",
   "nbconvert_exporter": "python",
   "pygments_lexer": "ipython3",
   "version": "3.5.2"
  }
 },
 "nbformat": 4,
 "nbformat_minor": 2
}
