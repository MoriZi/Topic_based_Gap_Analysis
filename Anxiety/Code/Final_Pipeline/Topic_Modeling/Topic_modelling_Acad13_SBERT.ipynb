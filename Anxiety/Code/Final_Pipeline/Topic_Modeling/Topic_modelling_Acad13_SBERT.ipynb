{
 "cells": [
  {
   "cell_type": "code",
   "execution_count": 1,
   "metadata": {},
   "outputs": [],
   "source": [
    "#Basic Libraries\n",
    "import re\n",
    "import numpy as np\n",
    "import pandas as pd\n",
    "from pprint import pprint\n",
    "import sys\n",
    "# Gensim\n",
    "import gensim\n",
    "import gensim.corpora as corpora\n",
    "from gensim.utils import simple_preprocess\n",
    "from gensim.models import CoherenceModel\n",
    "# spacy for lemmatization\n",
    "import spacy\n",
    "# Plotting tools\n",
    "import pyLDAvis\n",
    "import pyLDAvis.gensim  # don't skip this\n",
    "import matplotlib.pyplot as plt\n",
    "# Enable logging for gensim - optional\n",
    "import logging\n",
    "logging.basicConfig(format='%(asctime)s : %(levelname)s : %(message)s', level=logging.ERROR)\n",
    "import warnings\n",
    "warnings.filterwarnings(\"ignore\",category=DeprecationWarning)"
   ]
  },
  {
   "cell_type": "code",
   "execution_count": 2,
   "metadata": {},
   "outputs": [],
   "source": [
    "# NLTK Stop words\n",
    "from nltk.corpus import stopwords\n",
    "stop_words = stopwords.words('english')\n",
    "stop_words.extend(['from', 'subject', 're', 'edu', 'use'])"
   ]
  },
  {
   "cell_type": "code",
   "execution_count": 3,
   "metadata": {},
   "outputs": [
    {
     "name": "stderr",
     "output_type": "stream",
     "text": [
      "/home/smriti/.local/lib/python3.5/site-packages/pandas/core/computation/check.py:17: UserWarning: The installed version of numexpr 2.4.3 is not supported in pandas and will be not be used\n",
      "The minimum supported version is 2.4.6\n",
      "\n",
      "  ver=ver, min_ver=_MIN_NUMEXPR_VERSION), UserWarning)\n"
     ]
    }
   ],
   "source": [
    "#Load Dataset\n",
    "df=pd.read_csv('/home/smriti/Desktop/NLP/MITACS/Anxiety/Data/CSV/Academic/Acad2013.csv')\n",
    "#getting rid of NaN\n",
    "df=df.replace(np.nan, '', regex=True)\n",
    "#Combining title and text\n",
    "df[\"Text\"] = df[\"Title\"] + df[\"Abstract\"]\n",
    "#Now that we don't need Title or Text, we drop those columns before saving the file\n",
    "df=df.drop(['Title', 'Abstract'], axis = 1)"
   ]
  },
  {
   "cell_type": "code",
   "execution_count": 4,
   "metadata": {},
   "outputs": [],
   "source": [
    "df=df.loc[:, ~df.columns.str.contains('^Unnamed')]"
   ]
  },
  {
   "cell_type": "code",
   "execution_count": 5,
   "metadata": {},
   "outputs": [
    {
     "data": {
      "text/html": [
       "<div>\n",
       "<style scoped>\n",
       "    .dataframe tbody tr th:only-of-type {\n",
       "        vertical-align: middle;\n",
       "    }\n",
       "\n",
       "    .dataframe tbody tr th {\n",
       "        vertical-align: top;\n",
       "    }\n",
       "\n",
       "    .dataframe thead th {\n",
       "        text-align: right;\n",
       "    }\n",
       "</style>\n",
       "<table border=\"1\" class=\"dataframe\">\n",
       "  <thead>\n",
       "    <tr style=\"text-align: right;\">\n",
       "      <th></th>\n",
       "      <th>StoreId</th>\n",
       "      <th>documentType</th>\n",
       "      <th>year</th>\n",
       "      <th>Text</th>\n",
       "    </tr>\n",
       "  </thead>\n",
       "  <tbody>\n",
       "    <tr>\n",
       "      <th>0</th>\n",
       "      <td>1511554824</td>\n",
       "      <td>Journal , Peer Reviewed Journal , Journal Art...</td>\n",
       "      <td>2013</td>\n",
       "      <td>Preceding diagnoses to young adult bipolar dis...</td>\n",
       "    </tr>\n",
       "    <tr>\n",
       "      <th>1</th>\n",
       "      <td>1513356585</td>\n",
       "      <td>Journal , Peer Reviewed Journal , Journal Art...</td>\n",
       "      <td>2013</td>\n",
       "      <td>Cost of anxiety disorders in Japan in 2008: A ...</td>\n",
       "    </tr>\n",
       "    <tr>\n",
       "      <th>2</th>\n",
       "      <td>1513357265</td>\n",
       "      <td>Journal , Peer Reviewed Journal , Journal Art...</td>\n",
       "      <td>2013</td>\n",
       "      <td>Self-harm in young adolescents (12–16 years): ...</td>\n",
       "    </tr>\n",
       "    <tr>\n",
       "      <th>3</th>\n",
       "      <td>1513356317</td>\n",
       "      <td>Journal , Peer Reviewed Journal , Journal Art...</td>\n",
       "      <td>2013</td>\n",
       "      <td>Patterns of risk for anxiety-depression amongs...</td>\n",
       "    </tr>\n",
       "    <tr>\n",
       "      <th>4</th>\n",
       "      <td>1513356330</td>\n",
       "      <td>Journal , Peer Reviewed Journal , Journal Art...</td>\n",
       "      <td>2013</td>\n",
       "      <td>Functional social support, psychological capit...</td>\n",
       "    </tr>\n",
       "  </tbody>\n",
       "</table>\n",
       "</div>"
      ],
      "text/plain": [
       "      StoreId                                       documentType  year  \\\n",
       "0  1511554824   Journal , Peer Reviewed Journal , Journal Art...  2013   \n",
       "1  1513356585   Journal , Peer Reviewed Journal , Journal Art...  2013   \n",
       "2  1513357265   Journal , Peer Reviewed Journal , Journal Art...  2013   \n",
       "3  1513356317   Journal , Peer Reviewed Journal , Journal Art...  2013   \n",
       "4  1513356330   Journal , Peer Reviewed Journal , Journal Art...  2013   \n",
       "\n",
       "                                                Text  \n",
       "0  Preceding diagnoses to young adult bipolar dis...  \n",
       "1  Cost of anxiety disorders in Japan in 2008: A ...  \n",
       "2  Self-harm in young adolescents (12–16 years): ...  \n",
       "3  Patterns of risk for anxiety-depression amongs...  \n",
       "4  Functional social support, psychological capit...  "
      ]
     },
     "execution_count": 5,
     "metadata": {},
     "output_type": "execute_result"
    }
   ],
   "source": [
    "df.head()"
   ]
  },
  {
   "cell_type": "code",
   "execution_count": 6,
   "metadata": {},
   "outputs": [],
   "source": [
    "# Convert to list\n",
    "data=df.Text.values.tolist()\n",
    "# Remove new line characters\n",
    "data=[re.sub('\\s+', ' ', sent) for sent in data]\n",
    "# Remove distracting single quotes\n",
    "data=[re.sub(\"\\'\", \"\", sent) for sent in data]"
   ]
  },
  {
   "cell_type": "code",
   "execution_count": 7,
   "metadata": {},
   "outputs": [],
   "source": [
    "#Function to clean up text\n",
    "def sent_to_words(sentences):\n",
    "    for sentence in sentences:\n",
    "        yield(gensim.utils.simple_preprocess(str(sentence), deacc=True)) "
   ]
  },
  {
   "cell_type": "code",
   "execution_count": 8,
   "metadata": {},
   "outputs": [
    {
     "name": "stdout",
     "output_type": "stream",
     "text": [
      "[['preceding', 'diagnoses', 'to', 'young', 'adult', 'bipolar', 'disorder', 'and', 'schizophrenia', 'in', 'nationwide', 'studybackground', 'the', 'aim', 'of', 'this', 'comparative', 'study', 'was', 'to', 'investigate', 'the', 'type', 'and', 'frequency', 'of', 'diagnoses', 'preceding', 'adult', 'bipolar', 'disorder', 'bd', 'and', 'schizophrenia', 'sz', 'methods', 'follow', 'back', 'study', 'of', 'all', 'preceding', 'diagnoses', 'in', 'all', 'patients', 'aged', 'years', 'with', 'primary', 'first', 'time', 'diagnosis', 'of', 'bd', 'or', 'sz', 'in', 'to', 'data', 'were', 'taken', 'from', 'the', 'danish', 'psychiatric', 'central', 'research', 'register', 'dpcrr', 'including', 'icd', 'and', 'icd', 'diagnoses', 'results', 'the', 'numbers', 'of', 'patients', 'with', 'any', 'preceding', 'diagnoses', 'amounted', 'to', 'in', 'bd', 'and', 'in', 'sz', 'with', 'affective', 'disorders', 'excluding', 'bd', 'being', 'the', 'most', 'frequent', 'preceding', 'diagnosis', 'vs', 'followed', 'by', 'psychoses', 'psy', 'other', 'than', 'sz', 'vs', 'lt', 'and', 'substance', 'use', 'disorders', 'sud', 'vs', 'lt', 'reactions', 'to', 'severe', 'stress', 'were', 'equally', 'frequent', 'in', 'both', 'samples', 'vs', 'as', 'were', 'personality', 'disorders', 'vs', 'and', 'adhd', 'vs', 'whereas', 'rates', 'of', 'conduct', 'disorders', 'vs', 'were', 'rather', 'low', 'in', 'both', 'samples', 'very', 'few', 'of', 'the', 'preceding', 'diagnoses', 'had', 'their', 'onset', 'in', 'childhood', 'and', 'adolescence', 'overall', 'patients', 'with', 'sz', 'had', 'minor', 'but', 'statistically', 'significant', 'earlier', 'onset', 'of', 'any', 'psychiatric', 'disorder', 'compared', 'to', 'bd', 'mean', 'age', 'vs', 'lt', 'regression', 'analyses', 'indicated', 'that', 'bd', 'was', 'associated', 'with', 'an', 'increased', 'risk', 'of', 'having', 'experienced', 'preceding', 'affective', 'disorders', 'and', 'adhd', 'while', 'sz', 'was', 'associated', 'with', 'an', 'increased', 'risk', 'of', 'preceding', 'substance', 'use', 'disorders', 'psychosis', 'anxiety', 'disorders', 'and', 'personality', 'disorders', 'conclusions', 'specific', 'developmental', 'trajectories', 'of', 'preceding', 'disorders', 'were', 'delineated', 'for', 'bd', 'and', 'sz', 'with', 'affective', 'disorders', 'being', 'more', 'specific', 'for', 'bd', 'and', 'both', 'sud', 'and', 'psy', 'more', 'specific', 'to', 'sz', 'there', 'are', 'different', 'patterns', 'of', 'vulnerability', 'in', 'terms', 'of', 'preceding', 'diagnosis', 'in', 'young', 'adults', 'with', 'bd', 'and', 'sz', 'psycinfo', 'database', 'record', 'apa', 'all', 'rights', 'reserved', 'source', 'journal', 'abstract']]\n"
     ]
    }
   ],
   "source": [
    "#Clean up text\n",
    "data_words=list(sent_to_words(data))\n",
    "print(data_words[:1])"
   ]
  },
  {
   "cell_type": "code",
   "execution_count": 9,
   "metadata": {},
   "outputs": [],
   "source": [
    "# Build the bigram and trigram models\n",
    "bigram=gensim.models.Phrases(data_words, min_count=5, threshold=100) # higher threshold fewer phrases.\n",
    "trigram=gensim.models.Phrases(bigram[data_words], threshold=100)"
   ]
  },
  {
   "cell_type": "code",
   "execution_count": 10,
   "metadata": {},
   "outputs": [],
   "source": [
    "# Faster way to get a sentence clubbed as a trigram/bigram\n",
    "bigram_mod=gensim.models.phrases.Phraser(bigram)\n",
    "trigram_mod=gensim.models.phrases.Phraser(trigram)"
   ]
  },
  {
   "cell_type": "code",
   "execution_count": 11,
   "metadata": {},
   "outputs": [
    {
     "name": "stdout",
     "output_type": "stream",
     "text": [
      "['preceding', 'diagnoses', 'to', 'young', 'adult', 'bipolar', 'disorder', 'and', 'schizophrenia', 'in', 'nationwide', 'studybackground', 'the', 'aim', 'of', 'this', 'comparative', 'study', 'was', 'to', 'investigate', 'the', 'type', 'and', 'frequency', 'of', 'diagnoses', 'preceding', 'adult', 'bipolar', 'disorder', 'bd', 'and', 'schizophrenia', 'sz', 'methods', 'follow', 'back', 'study', 'of', 'all', 'preceding', 'diagnoses', 'in', 'all', 'patients', 'aged_years', 'with', 'primary', 'first', 'time', 'diagnosis', 'of', 'bd', 'or', 'sz', 'in', 'to', 'data', 'were', 'taken', 'from', 'the', 'danish', 'psychiatric', 'central', 'research', 'register', 'dpcrr', 'including', 'icd', 'and', 'icd', 'diagnoses', 'results', 'the', 'numbers', 'of', 'patients', 'with', 'any', 'preceding', 'diagnoses', 'amounted', 'to', 'in', 'bd', 'and', 'in', 'sz', 'with', 'affective', 'disorders', 'excluding', 'bd', 'being', 'the', 'most', 'frequent', 'preceding', 'diagnosis', 'vs', 'followed', 'by', 'psychoses', 'psy', 'other', 'than', 'sz', 'vs', 'lt', 'and', 'substance_use', 'disorders', 'sud', 'vs', 'lt', 'reactions', 'to', 'severe', 'stress', 'were', 'equally', 'frequent', 'in', 'both', 'samples', 'vs', 'as', 'were', 'personality', 'disorders', 'vs', 'and', 'adhd', 'vs', 'whereas', 'rates', 'of', 'conduct', 'disorders', 'vs', 'were', 'rather', 'low', 'in', 'both', 'samples', 'very', 'few', 'of', 'the', 'preceding', 'diagnoses', 'had', 'their', 'onset', 'in', 'childhood', 'and', 'adolescence', 'overall', 'patients', 'with', 'sz', 'had', 'minor', 'but', 'statistically', 'significant', 'earlier', 'onset', 'of', 'any', 'psychiatric', 'disorder', 'compared', 'to', 'bd', 'mean', 'age', 'vs', 'lt', 'regression', 'analyses', 'indicated', 'that', 'bd', 'was', 'associated', 'with', 'an', 'increased', 'risk', 'of', 'having', 'experienced', 'preceding', 'affective', 'disorders', 'and', 'adhd', 'while', 'sz', 'was', 'associated', 'with', 'an', 'increased', 'risk', 'of', 'preceding', 'substance_use', 'disorders', 'psychosis', 'anxiety', 'disorders', 'and', 'personality', 'disorders', 'conclusions', 'specific', 'developmental', 'trajectories', 'of', 'preceding', 'disorders', 'were', 'delineated', 'for', 'bd', 'and', 'sz', 'with', 'affective', 'disorders', 'being', 'more', 'specific', 'for', 'bd', 'and', 'both', 'sud', 'and', 'psy', 'more', 'specific', 'to', 'sz', 'there', 'are', 'different', 'patterns', 'of', 'vulnerability', 'in', 'terms', 'of', 'preceding', 'diagnosis', 'in', 'young', 'adults', 'with', 'bd', 'and', 'sz', 'psycinfo_database_record_apa', 'all_rights_reserved_source', 'journal_abstract']\n"
     ]
    }
   ],
   "source": [
    "# See trigram example\n",
    "print(trigram_mod[bigram_mod[data_words[0]]])"
   ]
  },
  {
   "cell_type": "code",
   "execution_count": 12,
   "metadata": {},
   "outputs": [],
   "source": [
    "# Define functions for stopwords, bigrams, trigrams and lemmatization\n",
    "def remove_stopwords(texts):\n",
    "    return [[word for word in simple_preprocess(str(doc)) if word not in stop_words] for doc in texts]\n"
   ]
  },
  {
   "cell_type": "code",
   "execution_count": 13,
   "metadata": {},
   "outputs": [],
   "source": [
    "def make_bigrams(texts):\n",
    "    return [bigram_mod[doc] for doc in texts]\n",
    "\n",
    "def make_trigrams(texts):\n",
    "    return [trigram_mod[bigram_mod[doc]] for doc in texts]\n",
    "\n",
    "def lemmatization(texts, allowed_postags=['NOUN', 'ADJ', 'VERB', 'ADV']):\n",
    "    \"\"\"https://spacy.io/api/annotation\"\"\"\n",
    "    texts_out = []\n",
    "    for sent in texts:\n",
    "        doc = nlp(\" \".join(sent))\n",
    "        texts_out.append([token.lemma_ for token in doc if token.pos_ in allowed_postags])\n",
    "    return texts_out"
   ]
  },
  {
   "cell_type": "code",
   "execution_count": 14,
   "metadata": {},
   "outputs": [
    {
     "name": "stdout",
     "output_type": "stream",
     "text": [
      "[['precede', 'diagnose', 'young', 'adult', 'bipolar', 'disorder', 'study', 'investigate', 'type', 'frequency', 'diagnosis', 'precede', 'adult', 'bipolar', 'disorder', 'method', 'follow', 'back', 'study', 'precede', 'diagnosis', 'patient', 'primary', 'first', 'time', 'diagnosis', 'bd', 'datum', 'take', 'danish', 'psychiatric', 'include', 'diagnose', 'result', 'number', 'patient', 'precede', 'diagnosis', 'amount', 'affective', 'disorder', 'exclude', 'frequent', 'precede', 'diagnosis', 'follow', 'psychosis', 'substance', 'disorder', 'severe', 'stress', 'equally', 'frequent', 'sample', 'personality', 'disorder', 'rate', 'conduct', 'disorder', 'rather', 'low', 'sample', 'precede', 'diagnosis', 'onset', 'adolescence', 'overall', 'patient', 'statistically', 'significant', 'early', 'onset', 'psychiatric', 'disorder', 'compare', 'mean', 'age', 'lt', 'regression', 'analysis', 'indicate', 'associate', 'increased', 'risk', 'experience', 'precede', 'affective', 'disorder', 'increase', 'risk', 'precede', 'substance', 'disorder', 'psychosis', 'anxiety', 'disorder', 'personality', 'disorder', 'conclusion', 'specific', 'developmental', 'trajectory', 'precede', 'disorder', 'delineate', 'affective', 'disorder', 'specific', 'specific', 'different', 'pattern', 'vulnerability', 'term', 'precede', 'diagnosis', 'young', 'adult', 'bd', 'rights_reserved', 'source_journal', 'abstract']]\n"
     ]
    }
   ],
   "source": [
    "data_words_nostops = remove_stopwords(data_words)\n",
    "\n",
    "# Form Bigrams\n",
    "data_words_bigrams = make_bigrams(data_words_nostops)\n",
    "\n",
    "# Initialize spacy 'en' model, keeping only tagger component (for efficiency)\n",
    "# python3 -m spacy download en\n",
    "nlp = spacy.load('en', disable=['parser', 'ner'])\n",
    "\n",
    "# Do lemmatization keeping only noun, adj, vb, adv\n",
    "data_lemmatized = lemmatization(data_words_bigrams, allowed_postags=['NOUN', 'ADJ', 'VERB', 'ADV'])\n",
    "print(data_lemmatized[:1])\n",
    "\n",
    "# Create Dictionary needed for topic modelling\n",
    "id2word = corpora.Dictionary(data_lemmatized)\n",
    "\n",
    "# Create Corpus\n",
    "texts = data_lemmatized\n",
    "\n",
    "# Term Document Frequency\n",
    "corpus = [id2word.doc2bow(text) for text in texts]\n",
    "\n",
    "# View\n",
    "[[(id2word[id], freq) for id, freq in cp] for cp in corpus[:1]]\n",
    "\n",
    "# Build LDA model\n",
    "lda_model = gensim.models.ldamodel.LdaModel(corpus=corpus,\n",
    "                                           id2word=id2word,\n",
    "                                           num_topics=55,\n",
    "                                           random_state=100,\n",
    "                                           update_every=1,\n",
    "                                           chunksize=100,\n",
    "                                           passes=10,\n",
    "                                           alpha='auto',\n",
    "                                           per_word_topics=True)"
   ]
  },
  {
   "cell_type": "code",
   "execution_count": 15,
   "metadata": {},
   "outputs": [
    {
     "name": "stdout",
     "output_type": "stream",
     "text": [
      "[(37,\n",
      "  '0.000*\"depressive\" + 0.000*\"study\" + 0.000*\"symptom\" + 0.000*\"base\" + '\n",
      "  '0.000*\"help\" + 0.000*\"employee\" + 0.000*\"company\" + 0.000*\"work\" + '\n",
      "  '0.000*\"course\" + 0.000*\"care\"'),\n",
      " (19,\n",
      "  '0.000*\"self\" + 0.000*\"harm\" + 0.000*\"thought\" + 0.000*\"young\" + '\n",
      "  '0.000*\"year\" + 0.000*\"depression\" + 0.000*\"developmental\" + '\n",
      "  '0.000*\"adolescent\" + 0.000*\"report\" + 0.000*\"trajectory\"'),\n",
      " (45,\n",
      "  '0.000*\"treatment\" + 0.000*\"impact\" + 0.000*\"legal\" + 0.000*\"status\" + '\n",
      "  '0.000*\"child\" + 0.000*\"refugee\" + 0.000*\"asylum_seeker\" + 0.000*\"group\" + '\n",
      "  '0.000*\"outcome\" + 0.000*\"development\"'),\n",
      " (0,\n",
      "  '0.000*\"disorder\" + 0.000*\"study\" + 0.000*\"treatment\" + 0.000*\"mental\" + '\n",
      "  '0.000*\"help\" + 0.000*\"significant\" + 0.000*\"eat\" + 0.000*\"result\" + '\n",
      "  '0.000*\"anxiety\" + 0.000*\"base\"'),\n",
      " (20,\n",
      "  '0.000*\"patient\" + 0.000*\"cancer\" + 0.000*\"distress\" + 0.000*\"peritraumatic\" '\n",
      "  '+ 0.000*\"assess\" + 0.000*\"psychological\" + 0.000*\"high\" + 0.000*\"predictor\" '\n",
      "  '+ 0.000*\"psychiatric\" + 0.000*\"study\"'),\n",
      " (28,\n",
      "  '0.000*\"treatment\" + 0.000*\"support\" + 0.000*\"effect\" + 0.000*\"insomnia\" + '\n",
      "  '0.000*\"condition\" + 0.000*\"internet_delivered\" + 0.000*\"subject\" + '\n",
      "  '0.000*\"anxiety\" + 0.000*\"measure\" + 0.000*\"participant\"'),\n",
      " (22,\n",
      "  '0.000*\"cost\" + 0.000*\"disorder\" + 0.000*\"anxiety\" + 0.000*\"jpy\" + '\n",
      "  '0.000*\"significant\" + 0.000*\"rate\" + 0.000*\"treatment\" + 0.000*\"high\" + '\n",
      "  '0.000*\"burden\" + 0.000*\"behavior\"'),\n",
      " (26,\n",
      "  '0.000*\"online\" + 0.000*\"treatment\" + 0.000*\"patient\" + 0.000*\"week\" + '\n",
      "  '0.000*\"mental\" + 0.000*\"group\" + 0.000*\"anxiety\" + 0.000*\"study\" + '\n",
      "  '0.000*\"face\" + 0.000*\"symptom\"'),\n",
      " (46,\n",
      "  '0.000*\"treatment\" + 0.000*\"anxiety\" + 0.000*\"support\" + 0.000*\"mdd\" + '\n",
      "  '0.000*\"symptom\" + 0.000*\"social\" + 0.000*\"effect\" + 0.000*\"relationship\" + '\n",
      "  '0.000*\"share\" + 0.000*\"report\"'),\n",
      " (13,\n",
      "  '0.000*\"intervention\" + 0.000*\"mindfulness\" + 0.000*\"significant\" + '\n",
      "  '0.000*\"depression\" + 0.000*\"anxiety\" + 0.000*\"group\" + '\n",
      "  '0.000*\"transdiagnostic\" + 0.000*\"treatment\" + 0.000*\"base\" + 0.000*\"trial\"'),\n",
      " (4,\n",
      "  '0.234*\"depression\" + 0.049*\"cognitive\" + 0.041*\"risk\" + 0.038*\"woman\" + '\n",
      "  '0.033*\"major\" + 0.033*\"study\" + 0.030*\"diagnostic\" + 0.029*\"mental\" + '\n",
      "  '0.026*\"report\" + 0.026*\"specificity\"'),\n",
      " (14,\n",
      "  '0.041*\"program\" + 0.032*\"depression\" + 0.031*\"base\" + 0.028*\"group\" + '\n",
      "  '0.025*\"intervention\" + 0.023*\"significant\" + 0.020*\"effective\" + '\n",
      "  '0.020*\"mindfulness\" + 0.019*\"measure\" + 0.017*\"anxiety\"'),\n",
      " (16,\n",
      "  '0.064*\"anxiety\" + 0.063*\"change\" + 0.052*\"self\" + 0.042*\"symptom\" + '\n",
      "  '0.041*\"cognitive\" + 0.036*\"panic\" + 0.031*\"participant\" + 0.027*\"therapy\" + '\n",
      "  '0.024*\"sensitivity\" + 0.024*\"treatment\"'),\n",
      " (24,\n",
      "  '0.043*\"schizophrenia\" + 0.038*\"however\" + 0.038*\"behavior\" + 0.037*\"word\" + '\n",
      "  '0.027*\"assess\" + 0.025*\"emerge\" + 0.023*\"structure\" + 0.023*\"significant\" + '\n",
      "  '0.022*\"background\" + 0.021*\"context\"'),\n",
      " (1,\n",
      "  '0.089*\"social\" + 0.061*\"internalize\" + 0.044*\"anxiety\" + 0.033*\"subject\" + '\n",
      "  '0.028*\"skill\" + 0.021*\"impairment\" + 0.021*\"independent\" + 0.019*\"symptom\" '\n",
      "  '+ 0.018*\"interaction\" + 0.017*\"co\"'),\n",
      " (43,\n",
      "  '0.136*\"disorder\" + 0.049*\"anxiety\" + 0.038*\"prevalence\" + 0.037*\"mental\" + '\n",
      "  '0.033*\"study\" + 0.028*\"health\" + 0.028*\"factor\" + 0.025*\"increase\" + '\n",
      "  '0.022*\"may\" + 0.021*\"identify\"'),\n",
      " (36,\n",
      "  '0.100*\"disorder\" + 0.046*\"anxiety\" + 0.037*\"age\" + 0.030*\"year\" + '\n",
      "  '0.029*\"depressive\" + 0.025*\"diagnosis\" + 0.023*\"psychotic\" + 0.022*\"study\" '\n",
      "  '+ 0.021*\"problem\" + 0.021*\"association\"'),\n",
      " (12,\n",
      "  '0.046*\"mood\" + 0.038*\"disorder\" + 0.023*\"anxiety\" + 0.018*\"predict\" + '\n",
      "  '0.018*\"participant\" + 0.017*\"tool\" + 0.017*\"control\" + 0.017*\"group\" + '\n",
      "  '0.016*\"psychopathology\" + 0.016*\"correlate\"'),\n",
      " (42,\n",
      "  '0.058*\"treatment\" + 0.045*\"anxiety\" + 0.038*\"disorder\" + 0.028*\"cbt\" + '\n",
      "  '0.024*\"follow\" + 0.021*\"study\" + 0.019*\"therapy\" + 0.019*\"cognitive\" + '\n",
      "  '0.015*\"trial\" + 0.013*\"group\"'),\n",
      " (31,\n",
      "  '0.052*\"patient\" + 0.048*\"anxiety\" + 0.020*\"symptom\" + 0.017*\"use\" + '\n",
      "  '0.017*\"study\" + 0.016*\"result\" + 0.013*\"high\" + 0.012*\"predictor\" + '\n",
      "  '0.012*\"disorder\" + 0.011*\"score\"')]\n"
     ]
    }
   ],
   "source": [
    "# Print the Keyword in the topics\n",
    "pprint(lda_model.print_topics())\n",
    "doc_lda = lda_model[corpus]"
   ]
  },
  {
   "cell_type": "code",
   "execution_count": 16,
   "metadata": {},
   "outputs": [
    {
     "name": "stdout",
     "output_type": "stream",
     "text": [
      "\n",
      "Perplexity:  -12.41702310609058\n"
     ]
    }
   ],
   "source": [
    "# Compute Perplexity\n",
    "print('\\nPerplexity: ', lda_model.log_perplexity(corpus))  # a measure of how good the model is. lower the better."
   ]
  },
  {
   "cell_type": "code",
   "execution_count": 17,
   "metadata": {},
   "outputs": [
    {
     "name": "stdout",
     "output_type": "stream",
     "text": [
      "\n",
      "Coherence Score:  0.3681821560584694\n"
     ]
    }
   ],
   "source": [
    "# Compute Coherence Score\n",
    "coherence_model_lda = CoherenceModel(model=lda_model, texts=data_lemmatized, dictionary=id2word, coherence='c_v')\n",
    "coherence_lda = coherence_model_lda.get_coherence()\n",
    "print('\\nCoherence Score: ', coherence_lda)"
   ]
  },
  {
   "cell_type": "code",
   "execution_count": 18,
   "metadata": {},
   "outputs": [],
   "source": [
    "num_topics = 55\n",
    "topic_words = []\n",
    "for i in range(num_topics):\n",
    "    tt = lda_model.get_topic_terms(i,10)\n",
    "    topic_words.append([id2word[pair[0]] for pair in tt])"
   ]
  },
  {
   "cell_type": "code",
   "execution_count": 19,
   "metadata": {},
   "outputs": [
    {
     "name": "stdout",
     "output_type": "stream",
     "text": [
      "['disorder', 'study', 'treatment', 'mental', 'help', 'significant', 'eat', 'result', 'anxiety', 'base']\n",
      "['social', 'internalize', 'anxiety', 'subject', 'skill', 'impairment', 'independent', 'symptom', 'interaction', 'co']\n",
      "['anxiety', 'associate', 'self', 'risk', 'high', 'low', 'smoking', 'seek', 'adolescent', 'level']\n",
      "['impulsivity', 'behavioral', 'educational', 'exhibit', 'prior', 'training', 'measure', 'unclear', 'expression', 'background']\n",
      "['depression', 'cognitive', 'risk', 'woman', 'major', 'study', 'diagnostic', 'mental', 'report', 'specificity']\n",
      "['cbm', 'recall', 'drive', 'training', 'interpretation', 'may', 'present', 'involve', 'early', 'long_lasting']\n",
      "['refer', 'minor', 'sufficient', 'duloxetine', 'enable', 'relief', 'collaborative_care', 'major', 'patient', 'depression']\n",
      "['trend', 'hypnotic', 'treating', 'sleep', 'diary', 'daytime', 'med', 'elevate', 'prove', 'volunteer']\n",
      "['maternal', 'paternal', 'emotional', 'predictor', 'child', 'anxiety', 'depression', 'behavioral', 'reactivity', 'source_journal']\n",
      "['endure', 'investigation', 'pc', 'life', 'affective', 'birth', 'extent', 'anthropometric', 'additionally', 'influence']\n",
      "['support', 'internet_delivered', 'weekly', 'insomnia', 'treatment', 'effect', 'participant', 'improve', 'feedback', 'assessment']\n",
      "['group', 'alcohol', 'comparison', 'anxiety', 'co_morbid', 'alone', 'active', 'condition', 'drinking', 'treatment']\n",
      "['mood', 'disorder', 'anxiety', 'predict', 'participant', 'tool', 'control', 'group', 'psychopathology', 'correlate']\n",
      "['intervention', 'mindfulness', 'significant', 'depression', 'anxiety', 'group', 'transdiagnostic', 'treatment', 'base', 'trial']\n",
      "['program', 'depression', 'base', 'group', 'intervention', 'significant', 'effective', 'mindfulness', 'measure', 'anxiety']\n",
      "['behavior', 'correlation', 'score', 'assess', 'validity', 'relate', 'trait', 'expose', 'related', 'initial']\n",
      "['anxiety', 'change', 'self', 'symptom', 'cognitive', 'panic', 'participant', 'therapy', 'sensitivity', 'treatment']\n",
      "['immigrant', 'bear', 'difference', 'cultural', 'exposure', 'barrier', 'also', 'factor', 'country', 'vietnamese']\n",
      "['change', 'panic', 'anxiety', 'self', 'efficacy', 'group', 'level', 'mindfulness', 'symptom', 'disorder']\n",
      "['self', 'harm', 'thought', 'young', 'year', 'depression', 'developmental', 'adolescent', 'report', 'trajectory']\n",
      "['patient', 'cancer', 'distress', 'peritraumatic', 'assess', 'psychological', 'high', 'predictor', 'psychiatric', 'study']\n",
      "['treatment', 'health', 'had', 'outcome', 'low', 'remission', 'trial', 'therapy', 'base', 'week']\n",
      "['cost', 'disorder', 'anxiety', 'jpy', 'significant', 'rate', 'treatment', 'high', 'burden', 'behavior']\n",
      "['adherence', 'effect_size', 'effective', 'anxiety', 'therapy', 'internet', 'treatment', 'improvement', 'cbt', 'base']\n",
      "['schizophrenia', 'however', 'behavior', 'word', 'assess', 'emerge', 'structure', 'significant', 'background', 'context']\n",
      "['abuse', 'must', 'sexual', 'human', 'return', 'traffic', 'survivor', 'increased', 'woman', 'post']\n",
      "['online', 'treatment', 'patient', 'week', 'mental', 'group', 'anxiety', 'study', 'face', 'symptom']\n",
      "['attention', 'activation', 'image', 'face', 'hcs', 'negative', 'brain', 'pattern', 'cue', 'compare']\n",
      "['treatment', 'support', 'effect', 'insomnia', 'condition', 'internet_delivered', 'subject', 'anxiety', 'measure', 'participant']\n",
      "['depressive', 'system', 'major', 'depressed', 'concentration', 'medication', 'influence', 'recent', 'function', 'antidepressant']\n",
      "['severity', 'ad', 'symptom', 'associated', 'appear', 'sleep', 'domain', 'examine', 'uniquely', 'relationship']\n",
      "['patient', 'anxiety', 'symptom', 'use', 'study', 'result', 'high', 'predictor', 'disorder', 'score']\n",
      "['symptom', 'stress', 'associate', 'relate', 'adult', 'may', 'hypothesis', 'role', 'increase', 'psychopathology']\n",
      "['sad', 'fear', 'task', 'participant', 'group', 'response', 'control', 'avoidance', 'finding', 'anxiety']\n",
      "['child', 'anxiety', 'treatment', 'parent', 'report', 'measure', 'pre', 'outcome', 'anxious', 'follow']\n",
      "['instrument', 'validity', 'clinician', 'original', 'version', 'give', 'valid', 'miss', 'good', 'abstract']\n",
      "['disorder', 'anxiety', 'age', 'year', 'depressive', 'diagnosis', 'psychotic', 'study', 'problem', 'association']\n",
      "['depressive', 'study', 'symptom', 'base', 'help', 'employee', 'company', 'work', 'course', 'care']\n",
      "['strongly', 'pool', 'behaviour', 'single', 'lack', 'previous', 'standardized', 'rct', 'people', 'routine']\n",
      "['mindfulness', 'symptom', 'current', 'associate', 'collect', 'examine', 'approach', 'anxiety', 'disorder', 'may']\n",
      "['assist', 'utility', 'patient', 'anxiety', 'care', 'phq', 'intervention', 'primary', 'high', 'risk']\n",
      "['care', 'study', 'performance', 'internet', 'stress', 'intervention', 'primary', 'trial', 'psychological', 'base']\n",
      "['treatment', 'anxiety', 'disorder', 'cbt', 'follow', 'study', 'therapy', 'cognitive', 'trial', 'group']\n",
      "['disorder', 'anxiety', 'prevalence', 'mental', 'study', 'health', 'factor', 'increase', 'may', 'identify']\n",
      "['change', 'negative', 'effect', 'follow', 'cognition', 'positive', 'later', 'depression', 'measure', 'cognitive']\n",
      "['treatment', 'impact', 'legal', 'status', 'child', 'refugee', 'asylum_seeker', 'group', 'outcome', 'development']\n",
      "['treatment', 'anxiety', 'support', 'mdd', 'symptom', 'social', 'effect', 'relationship', 'share', 'report']\n",
      "['exposure', 'consistent', 'duration', 'literature', 'review', 'effect', 'negative', 'meta', 'mean', 'identify']\n",
      "['symptom', 'function', 'member', 'specific', 'different', 'mood', 'residual', 'disturbance', 'memory', 'somatic']\n",
      "['distress', 'scale', 'factor', 'screening', 'item', 'clinical', 'psychosocial', 'regression', 'inventory', 'interview']\n",
      "['self', 'action', 'harm', 'give', 'anxiety', 'oxytocin', 'mdd', 'treatment', 'exposure', 'suggest']\n",
      "['youth', 'treatment', 'cbt', 'week', 'global', 'outcome', 'cognitive', 'standard', 'examine', 'behavioral']\n",
      "['eat', 'psychiatric', 'latent', 'pain', 'sex', 'report', 'suffer', 'classify', 'disability', 'high']\n",
      "['background', 'course', 'stressor', 'range', 'mild', 'class', 'symptom', 'use', 'user', 'obtain']\n",
      "['rate', 'service', 'high', 'clinical', 'recovery', 'cohort', 'patient', 'proportion', 'treat', 'deterioration']\n"
     ]
    }
   ],
   "source": [
    "for i in range(0,55):\n",
    "    print(topic_words[i])"
   ]
  },
  {
   "cell_type": "code",
   "execution_count": 24,
   "metadata": {},
   "outputs": [
    {
     "data": {
      "text/html": [
       "<div>\n",
       "<style scoped>\n",
       "    .dataframe tbody tr th:only-of-type {\n",
       "        vertical-align: middle;\n",
       "    }\n",
       "\n",
       "    .dataframe tbody tr th {\n",
       "        vertical-align: top;\n",
       "    }\n",
       "\n",
       "    .dataframe thead th {\n",
       "        text-align: right;\n",
       "    }\n",
       "</style>\n",
       "<table border=\"1\" class=\"dataframe\">\n",
       "  <thead>\n",
       "    <tr style=\"text-align: right;\">\n",
       "      <th></th>\n",
       "      <th>Most_freq_words</th>\n",
       "      <th>Source</th>\n",
       "      <th>Topic_ID</th>\n",
       "      <th>Year</th>\n",
       "    </tr>\n",
       "  </thead>\n",
       "  <tbody>\n",
       "  </tbody>\n",
       "</table>\n",
       "</div>"
      ],
      "text/plain": [
       "Empty DataFrame\n",
       "Columns: [Most_freq_words, Source, Topic_ID, Year]\n",
       "Index: []"
      ]
     },
     "execution_count": 24,
     "metadata": {},
     "output_type": "execute_result"
    }
   ],
   "source": [
    "df=pd.DataFrame({'Year':[],'Source':[],'Topic_ID':[],'Most_freq_words':[]})\n",
    "df.head()"
   ]
  },
  {
   "cell_type": "code",
   "execution_count": 25,
   "metadata": {},
   "outputs": [],
   "source": [
    "df['Most_freq_words']=topic_words"
   ]
  },
  {
   "cell_type": "code",
   "execution_count": 26,
   "metadata": {},
   "outputs": [
    {
     "data": {
      "text/plain": [
       "(55, 4)"
      ]
     },
     "execution_count": 26,
     "metadata": {},
     "output_type": "execute_result"
    }
   ],
   "source": [
    "df = df.assign(Year='2013')\n",
    "df = df.assign(Source='Academic')\n",
    "df.shape"
   ]
  },
  {
   "cell_type": "code",
   "execution_count": 27,
   "metadata": {},
   "outputs": [],
   "source": [
    "ls=[]\n",
    "for i in range(0,55):\n",
    "    ls.append(i)\n",
    "df['Topic_ID']=ls"
   ]
  },
  {
   "cell_type": "code",
   "execution_count": 28,
   "metadata": {},
   "outputs": [
    {
     "data": {
      "text/html": [
       "<div>\n",
       "<style scoped>\n",
       "    .dataframe tbody tr th:only-of-type {\n",
       "        vertical-align: middle;\n",
       "    }\n",
       "\n",
       "    .dataframe tbody tr th {\n",
       "        vertical-align: top;\n",
       "    }\n",
       "\n",
       "    .dataframe thead th {\n",
       "        text-align: right;\n",
       "    }\n",
       "</style>\n",
       "<table border=\"1\" class=\"dataframe\">\n",
       "  <thead>\n",
       "    <tr style=\"text-align: right;\">\n",
       "      <th></th>\n",
       "      <th>Most_freq_words</th>\n",
       "      <th>Source</th>\n",
       "      <th>Topic_ID</th>\n",
       "      <th>Year</th>\n",
       "    </tr>\n",
       "  </thead>\n",
       "  <tbody>\n",
       "    <tr>\n",
       "      <th>0</th>\n",
       "      <td>[disorder, study, treatment, mental, help, sig...</td>\n",
       "      <td>Academic</td>\n",
       "      <td>0</td>\n",
       "      <td>2013</td>\n",
       "    </tr>\n",
       "    <tr>\n",
       "      <th>1</th>\n",
       "      <td>[social, internalize, anxiety, subject, skill,...</td>\n",
       "      <td>Academic</td>\n",
       "      <td>1</td>\n",
       "      <td>2013</td>\n",
       "    </tr>\n",
       "    <tr>\n",
       "      <th>2</th>\n",
       "      <td>[anxiety, associate, self, risk, high, low, sm...</td>\n",
       "      <td>Academic</td>\n",
       "      <td>2</td>\n",
       "      <td>2013</td>\n",
       "    </tr>\n",
       "    <tr>\n",
       "      <th>3</th>\n",
       "      <td>[impulsivity, behavioral, educational, exhibit...</td>\n",
       "      <td>Academic</td>\n",
       "      <td>3</td>\n",
       "      <td>2013</td>\n",
       "    </tr>\n",
       "    <tr>\n",
       "      <th>4</th>\n",
       "      <td>[depression, cognitive, risk, woman, major, st...</td>\n",
       "      <td>Academic</td>\n",
       "      <td>4</td>\n",
       "      <td>2013</td>\n",
       "    </tr>\n",
       "  </tbody>\n",
       "</table>\n",
       "</div>"
      ],
      "text/plain": [
       "                                     Most_freq_words    Source  Topic_ID  Year\n",
       "0  [disorder, study, treatment, mental, help, sig...  Academic         0  2013\n",
       "1  [social, internalize, anxiety, subject, skill,...  Academic         1  2013\n",
       "2  [anxiety, associate, self, risk, high, low, sm...  Academic         2  2013\n",
       "3  [impulsivity, behavioral, educational, exhibit...  Academic         3  2013\n",
       "4  [depression, cognitive, risk, woman, major, st...  Academic         4  2013"
      ]
     },
     "execution_count": 28,
     "metadata": {},
     "output_type": "execute_result"
    }
   ],
   "source": [
    "df.head()"
   ]
  },
  {
   "cell_type": "code",
   "execution_count": 30,
   "metadata": {},
   "outputs": [],
   "source": [
    "df.to_csv(\"topic_words_j2013.csv\")"
   ]
  },
  {
   "cell_type": "code",
   "execution_count": null,
   "metadata": {},
   "outputs": [],
   "source": []
  }
 ],
 "metadata": {
  "kernelspec": {
   "display_name": "Python 3",
   "language": "python",
   "name": "python3"
  },
  "language_info": {
   "codemirror_mode": {
    "name": "ipython",
    "version": 3
   },
   "file_extension": ".py",
   "mimetype": "text/x-python",
   "name": "python",
   "nbconvert_exporter": "python",
   "pygments_lexer": "ipython3",
   "version": "3.5.2"
  }
 },
 "nbformat": 4,
 "nbformat_minor": 2
}
