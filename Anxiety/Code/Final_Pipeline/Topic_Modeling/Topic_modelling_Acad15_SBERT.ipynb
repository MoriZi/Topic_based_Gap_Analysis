{
 "cells": [
  {
   "cell_type": "code",
   "execution_count": 1,
   "metadata": {},
   "outputs": [],
   "source": [
    "#Basic Libraries\n",
    "import re\n",
    "import numpy as np\n",
    "import pandas as pd\n",
    "from pprint import pprint\n",
    "import sys\n",
    "# Gensim\n",
    "import gensim\n",
    "import gensim.corpora as corpora\n",
    "from gensim.utils import simple_preprocess\n",
    "from gensim.models import CoherenceModel\n",
    "# spacy for lemmatization\n",
    "import spacy\n",
    "# Plotting tools\n",
    "import pyLDAvis\n",
    "import pyLDAvis.gensim  # don't skip this\n",
    "import matplotlib.pyplot as plt\n",
    "# Enable logging for gensim - optional\n",
    "import logging\n",
    "logging.basicConfig(format='%(asctime)s : %(levelname)s : %(message)s', level=logging.ERROR)\n",
    "import warnings\n",
    "warnings.filterwarnings(\"ignore\",category=DeprecationWarning)"
   ]
  },
  {
   "cell_type": "code",
   "execution_count": 2,
   "metadata": {},
   "outputs": [],
   "source": [
    "# NLTK Stop words\n",
    "from nltk.corpus import stopwords\n",
    "stop_words = stopwords.words('english')\n",
    "stop_words.extend(['from', 'subject', 're', 'edu', 'use'])"
   ]
  },
  {
   "cell_type": "code",
   "execution_count": 3,
   "metadata": {},
   "outputs": [
    {
     "name": "stderr",
     "output_type": "stream",
     "text": [
      "/home/smriti/.local/lib/python3.5/site-packages/pandas/core/computation/check.py:17: UserWarning: The installed version of numexpr 2.4.3 is not supported in pandas and will be not be used\n",
      "The minimum supported version is 2.4.6\n",
      "\n",
      "  ver=ver, min_ver=_MIN_NUMEXPR_VERSION), UserWarning)\n"
     ]
    }
   ],
   "source": [
    "#Load Dataset\n",
    "df=pd.read_csv('/home/smriti/Desktop/NLP/MITACS/Anxiety/Data/CSV/Academic/Acad2015.csv')\n",
    "#getting rid of NaN\n",
    "df=df.replace(np.nan, '', regex=True)\n",
    "#Combining title and text\n",
    "df[\"Text\"] = df[\"Title\"] + df[\"Abstract\"]\n",
    "#Now that we don't need Title or Text, we drop those columns before saving the file\n",
    "df=df.drop(['Title', 'Abstract'], axis = 1)"
   ]
  },
  {
   "cell_type": "code",
   "execution_count": 4,
   "metadata": {},
   "outputs": [],
   "source": [
    "df=df.loc[:, ~df.columns.str.contains('^Unnamed')]"
   ]
  },
  {
   "cell_type": "code",
   "execution_count": 5,
   "metadata": {},
   "outputs": [
    {
     "data": {
      "text/html": [
       "<div>\n",
       "<style scoped>\n",
       "    .dataframe tbody tr th:only-of-type {\n",
       "        vertical-align: middle;\n",
       "    }\n",
       "\n",
       "    .dataframe tbody tr th {\n",
       "        vertical-align: top;\n",
       "    }\n",
       "\n",
       "    .dataframe thead th {\n",
       "        text-align: right;\n",
       "    }\n",
       "</style>\n",
       "<table border=\"1\" class=\"dataframe\">\n",
       "  <thead>\n",
       "    <tr style=\"text-align: right;\">\n",
       "      <th></th>\n",
       "      <th>StoreId</th>\n",
       "      <th>documentType</th>\n",
       "      <th>year</th>\n",
       "      <th>Text</th>\n",
       "    </tr>\n",
       "  </thead>\n",
       "  <tbody>\n",
       "    <tr>\n",
       "      <th>0</th>\n",
       "      <td>1758380839</td>\n",
       "      <td>Journal , Peer Reviewed Journal , Journal Art...</td>\n",
       "      <td>2015</td>\n",
       "      <td>Anxiety and depression during pregnancy in Cen...</td>\n",
       "    </tr>\n",
       "    <tr>\n",
       "      <th>1</th>\n",
       "      <td>1758182902</td>\n",
       "      <td>Journal , Peer Reviewed Journal , Journal Art...</td>\n",
       "      <td>2015</td>\n",
       "      <td>Changes in mental health in compliers and non-...</td>\n",
       "    </tr>\n",
       "    <tr>\n",
       "      <th>2</th>\n",
       "      <td>1756079990</td>\n",
       "      <td>Journal , Peer Reviewed Journal , Journal Art...</td>\n",
       "      <td>2015</td>\n",
       "      <td>Psychiatric and neurological disorders in late...</td>\n",
       "    </tr>\n",
       "    <tr>\n",
       "      <th>3</th>\n",
       "      <td>1756079575</td>\n",
       "      <td>Journal , Peer Reviewed Journal , Journal Art...</td>\n",
       "      <td>2015</td>\n",
       "      <td>Enthusiasm for homework and improvement of psy...</td>\n",
       "    </tr>\n",
       "    <tr>\n",
       "      <th>4</th>\n",
       "      <td>1753450094</td>\n",
       "      <td>Journal , Peer Reviewed Journal , Journal Art...</td>\n",
       "      <td>2015</td>\n",
       "      <td>Cost-effectiveness of blended vs. Face-to-face...</td>\n",
       "    </tr>\n",
       "  </tbody>\n",
       "</table>\n",
       "</div>"
      ],
      "text/plain": [
       "      StoreId                                       documentType  year  \\\n",
       "0  1758380839   Journal , Peer Reviewed Journal , Journal Art...  2015   \n",
       "1  1758182902   Journal , Peer Reviewed Journal , Journal Art...  2015   \n",
       "2  1756079990   Journal , Peer Reviewed Journal , Journal Art...  2015   \n",
       "3  1756079575   Journal , Peer Reviewed Journal , Journal Art...  2015   \n",
       "4  1753450094   Journal , Peer Reviewed Journal , Journal Art...  2015   \n",
       "\n",
       "                                                Text  \n",
       "0  Anxiety and depression during pregnancy in Cen...  \n",
       "1  Changes in mental health in compliers and non-...  \n",
       "2  Psychiatric and neurological disorders in late...  \n",
       "3  Enthusiasm for homework and improvement of psy...  \n",
       "4  Cost-effectiveness of blended vs. Face-to-face...  "
      ]
     },
     "execution_count": 5,
     "metadata": {},
     "output_type": "execute_result"
    }
   ],
   "source": [
    "df.head()"
   ]
  },
  {
   "cell_type": "code",
   "execution_count": 6,
   "metadata": {},
   "outputs": [],
   "source": [
    "# Convert to list\n",
    "data=df.Text.values.tolist()\n",
    "# Remove new line characters\n",
    "data=[re.sub('\\s+', ' ', sent) for sent in data]\n",
    "# Remove distracting single quotes\n",
    "data=[re.sub(\"\\'\", \"\", sent) for sent in data]"
   ]
  },
  {
   "cell_type": "code",
   "execution_count": 7,
   "metadata": {},
   "outputs": [],
   "source": [
    "#Function to clean up text\n",
    "def sent_to_words(sentences):\n",
    "    for sentence in sentences:\n",
    "        yield(gensim.utils.simple_preprocess(str(sentence), deacc=True)) "
   ]
  },
  {
   "cell_type": "code",
   "execution_count": 8,
   "metadata": {},
   "outputs": [
    {
     "name": "stdout",
     "output_type": "stream",
     "text": [
      "[['anxiety', 'and', 'depression', 'during', 'pregnancy', 'in', 'central', 'america', 'cross', 'sectional', 'study', 'among', 'pregnant', 'women', 'in', 'the', 'developing', 'country', 'around', 'the', 'world', 'maternal', 'psychopathology', 'during', 'pregnancy', 'is', 'associated', 'with', 'range', 'of', 'negative', 'consequences', 'for', 'mother', 'and', 'child', 'nevertheless', 'in', 'central', 'america', 'the', 'magnitude', 'of', 'this', 'public', 'health', 'problem', 'is', 'still', 'unknown', 'the', 'objective', 'of', 'this', 'first', 'explorative', 'study', 'was', 'to', 'investigate', 'the', 'prevalence', 'and', 'severity', 'of', 'anxiety', 'and', 'depression', 'during', 'pregnancy', 'in', 'the', 'central', 'american', 'developing', 'country', 'nicaragua', 'as', 'well', 'as', 'the', 'availability', 'of', 'mental', 'health', 'care', 'and', 'to', 'compare', 'with', 'developed', 'country', 'methods', 'population', 'based', 'cohort', 'of', 'pregnant', 'women', 'in', 'nicaragua', 'was', 'compared', 'with', 'parallel', 'cohort', 'in', 'the', 'netherlands', 'on', 'symptoms', 'of', 'anxiety', 'spielberger', 'state', 'trait', 'anxiety', 'inventory', 'and', 'depression', 'edinburgh', 'postnatal', 'depression', 'scale', 'associations', 'with', 'the', 'women', 'knowledge', 'how', 'to', 'reach', 'professional', 'psychological', 'support', 'were', 'assessed', 'using', 'multivariable', 'linear', 'regression', 'analyses', 'results', 'of', 'the', 'nicaraguan', 'women', 'had', 'symptoms', 'of', 'anxiety', 'and', 'symptoms', 'of', 'depression', 'versus', 'and', 'of', 'the', 'dutch', 'women', 'symptom', 'scores', 'of', 'both', 'anxiety', 'and', 'depression', 'were', 'significantly', 'higher', 'in', 'nicaragua', 'lt', 'however', 'only', 'of', 'the', 'women', 'indicated', 'that', 'professional', 'psychological', 'help', 'was', 'available', 'for', 'the', 'nicaraguan', 'pregnant', 'women', 'which', 'was', 'associated', 'with', 'an', 'increased', 'anxiety', 'score', 'conclusions', 'in', 'nicaragua', 'both', 'prevalence', 'and', 'severity', 'of', 'symptoms', 'of', 'antenatal', 'anxiety', 'and', 'depression', 'are', 'substantially', 'higher', 'than', 'in', 'developed', 'countries', 'however', 'availability', 'of', 'psychological', 'help', 'is', 'very', 'limited', 'for', 'pregnant', 'nicaraguan', 'women', 'these', 'findings', 'indicate', 'that', 'there', 'is', 'need', 'for', 'further', 'research', 'and', 'support', 'for', 'these', 'women', 'to', 'prevent', 'negative', 'consequences', 'for', 'both', 'mother', 'and', 'child', 'psycinfo', 'database', 'record', 'apa', 'all', 'rights', 'reserved', 'source', 'journal', 'abstract']]\n"
     ]
    }
   ],
   "source": [
    "#Clean up text\n",
    "data_words=list(sent_to_words(data))\n",
    "print(data_words[:1])"
   ]
  },
  {
   "cell_type": "code",
   "execution_count": 9,
   "metadata": {},
   "outputs": [],
   "source": [
    "# Build the bigram and trigram models\n",
    "bigram=gensim.models.Phrases(data_words, min_count=5, threshold=100) # higher threshold fewer phrases.\n",
    "trigram=gensim.models.Phrases(bigram[data_words], threshold=100)"
   ]
  },
  {
   "cell_type": "code",
   "execution_count": 10,
   "metadata": {},
   "outputs": [],
   "source": [
    "# Faster way to get a sentence clubbed as a trigram/bigram\n",
    "bigram_mod=gensim.models.phrases.Phraser(bigram)\n",
    "trigram_mod=gensim.models.phrases.Phraser(trigram)"
   ]
  },
  {
   "cell_type": "code",
   "execution_count": 11,
   "metadata": {},
   "outputs": [
    {
     "name": "stdout",
     "output_type": "stream",
     "text": [
      "['anxiety', 'and', 'depression', 'during', 'pregnancy', 'in', 'central', 'america', 'cross_sectional', 'study', 'among', 'pregnant', 'women', 'in', 'the', 'developing', 'country', 'around', 'the', 'world', 'maternal', 'psychopathology', 'during', 'pregnancy', 'is', 'associated', 'with', 'range', 'of', 'negative', 'consequences', 'for', 'mother', 'and', 'child', 'nevertheless', 'in', 'central', 'america', 'the', 'magnitude', 'of', 'this', 'public', 'health', 'problem', 'is', 'still', 'unknown', 'the', 'objective', 'of', 'this', 'first', 'explorative', 'study', 'was', 'to', 'investigate', 'the', 'prevalence', 'and', 'severity', 'of', 'anxiety', 'and', 'depression', 'during', 'pregnancy', 'in', 'the', 'central', 'american', 'developing', 'country', 'nicaragua', 'as', 'well', 'as', 'the', 'availability', 'of', 'mental_health', 'care', 'and', 'to', 'compare', 'with', 'developed', 'country', 'methods', 'population', 'based', 'cohort', 'of', 'pregnant', 'women', 'in', 'nicaragua', 'was', 'compared', 'with', 'parallel', 'cohort', 'in', 'the', 'netherlands', 'on', 'symptoms', 'of', 'anxiety', 'spielberger', 'state', 'trait', 'anxiety', 'inventory', 'and', 'depression', 'edinburgh', 'postnatal', 'depression', 'scale', 'associations', 'with', 'the', 'women', 'knowledge', 'how', 'to', 'reach', 'professional', 'psychological', 'support', 'were', 'assessed', 'using', 'multivariable', 'linear', 'regression', 'analyses', 'results', 'of', 'the', 'nicaraguan', 'women', 'had', 'symptoms', 'of', 'anxiety', 'and', 'symptoms', 'of', 'depression', 'versus', 'and', 'of', 'the', 'dutch', 'women', 'symptom', 'scores', 'of', 'both', 'anxiety', 'and', 'depression', 'were', 'significantly', 'higher', 'in', 'nicaragua', 'lt', 'however', 'only', 'of', 'the', 'women', 'indicated', 'that', 'professional', 'psychological', 'help', 'was', 'available', 'for', 'the', 'nicaraguan', 'pregnant', 'women', 'which', 'was', 'associated', 'with', 'an', 'increased', 'anxiety', 'score', 'conclusions', 'in', 'nicaragua', 'both', 'prevalence', 'and', 'severity', 'of', 'symptoms', 'of', 'antenatal', 'anxiety', 'and', 'depression', 'are', 'substantially', 'higher', 'than', 'in', 'developed', 'countries', 'however', 'availability', 'of', 'psychological', 'help', 'is', 'very', 'limited', 'for', 'pregnant', 'nicaraguan', 'women', 'these', 'findings', 'indicate', 'that', 'there', 'is', 'need', 'for', 'further', 'research', 'and', 'support', 'for', 'these', 'women', 'to', 'prevent', 'negative', 'consequences', 'for', 'both', 'mother', 'and', 'child', 'psycinfo_database_record_apa', 'all_rights_reserved_source', 'journal_abstract']\n"
     ]
    }
   ],
   "source": [
    "# See trigram example\n",
    "print(trigram_mod[bigram_mod[data_words[0]]])"
   ]
  },
  {
   "cell_type": "code",
   "execution_count": 12,
   "metadata": {},
   "outputs": [],
   "source": [
    "# Define functions for stopwords, bigrams, trigrams and lemmatization\n",
    "def remove_stopwords(texts):\n",
    "    return [[word for word in simple_preprocess(str(doc)) if word not in stop_words] for doc in texts]\n"
   ]
  },
  {
   "cell_type": "code",
   "execution_count": 13,
   "metadata": {},
   "outputs": [],
   "source": [
    "def make_bigrams(texts):\n",
    "    return [bigram_mod[doc] for doc in texts]\n",
    "\n",
    "def make_trigrams(texts):\n",
    "    return [trigram_mod[bigram_mod[doc]] for doc in texts]\n",
    "\n",
    "def lemmatization(texts, allowed_postags=['NOUN', 'ADJ', 'VERB', 'ADV']):\n",
    "    \"\"\"https://spacy.io/api/annotation\"\"\"\n",
    "    texts_out = []\n",
    "    for sent in texts:\n",
    "        doc = nlp(\" \".join(sent))\n",
    "        texts_out.append([token.lemma_ for token in doc if token.pos_ in allowed_postags])\n",
    "    return texts_out"
   ]
  },
  {
   "cell_type": "code",
   "execution_count": 14,
   "metadata": {},
   "outputs": [
    {
     "name": "stdout",
     "output_type": "stream",
     "text": [
      "[['anxiety', 'pregnancy', 'study', 'pregnant', 'woman', 'develop', 'country', 'maternal', 'psychopathology', 'pregnancy', 'associate', 'mother', 'nevertheless', 'health', 'problem', 'still', 'unknown', 'objective', 'first', 'explorative', 'study', 'investigate', 'prevalence', 'severity', 'anxiety', 'depression', 'pregnancy', 'develop', 'country', 'availability', 'care', 'compare', 'develop', 'country', 'method', 'population', 'base', 'cohort', 'pregnant', 'woman', 'compare', 'symptom', 'anxiety', 'state', 'trait', 'anxiety', 'depression', 'depression', 'scale', 'association', 'woman', 'knowledge', 'reach', 'professional', 'psychological', 'support', 'assess', 'use', 'multivariable', 'linear', 'regression', 'analyse', 'result', 'nicaraguan', 'woman', 'symptom', 'anxiety', 'symptom', 'depression', 'dutch', 'woman', 'symptom', 'score', 'anxiety', 'depression', 'significantly', 'high', 'however', 'woman', 'indicate', 'professional', 'psychological', 'help', 'available', 'nicaraguan', 'pregnant', 'woman', 'associate', 'increase', 'conclusion', 'prevalence', 'severity', 'symptom', 'antenatal', 'anxiety', 'depression', 'substantially', 'higher', 'developed', 'country', 'however', 'availability', 'psychological', 'help', 'limit', 'pregnant', 'nicaraguan', 'woman', 'finding', 'indicate', 'need', 'research', 'support', 'woman', 'prevent', 'negative', 'consequence', 'mother', 'child', 'rights_reserved', 'source_journal', 'abstract']]\n"
     ]
    }
   ],
   "source": [
    "data_words_nostops = remove_stopwords(data_words)\n",
    "\n",
    "# Form Bigrams\n",
    "data_words_bigrams = make_bigrams(data_words_nostops)\n",
    "\n",
    "# Initialize spacy 'en' model, keeping only tagger component (for efficiency)\n",
    "# python3 -m spacy download en\n",
    "nlp = spacy.load('en', disable=['parser', 'ner'])\n",
    "\n",
    "# Do lemmatization keeping only noun, adj, vb, adv\n",
    "data_lemmatized = lemmatization(data_words_bigrams, allowed_postags=['NOUN', 'ADJ', 'VERB', 'ADV'])\n",
    "print(data_lemmatized[:1])\n",
    "\n",
    "# Create Dictionary needed for topic modelling\n",
    "id2word = corpora.Dictionary(data_lemmatized)\n",
    "\n",
    "# Create Corpus\n",
    "texts = data_lemmatized\n",
    "\n",
    "# Term Document Frequency\n",
    "corpus = [id2word.doc2bow(text) for text in texts]\n",
    "\n",
    "# View\n",
    "[[(id2word[id], freq) for id, freq in cp] for cp in corpus[:1]]\n",
    "\n",
    "# Build LDA model\n",
    "lda_model = gensim.models.ldamodel.LdaModel(corpus=corpus,\n",
    "                                           id2word=id2word,\n",
    "                                           num_topics=80,\n",
    "                                           random_state=100,\n",
    "                                           update_every=1,\n",
    "                                           chunksize=100,\n",
    "                                           passes=10,\n",
    "                                           alpha='auto',\n",
    "                                           per_word_topics=True)"
   ]
  },
  {
   "cell_type": "code",
   "execution_count": 15,
   "metadata": {},
   "outputs": [
    {
     "name": "stdout",
     "output_type": "stream",
     "text": [
      "[(29,\n",
      "  '0.000*\"risk\" + 0.000*\"disorder\" + 0.000*\"analyse\" + 0.000*\"conscription\" + '\n",
      "  '0.000*\"psychiatric\" + 0.000*\"conviction\" + 0.000*\"personality\" + '\n",
      "  '0.000*\"factor\" + 0.000*\"neurological\" + 0.000*\"early\"'),\n",
      " (17,\n",
      "  '0.000*\"patient\" + 0.000*\"depression\" + 0.000*\"antidepressant\" + '\n",
      "  '0.000*\"moderate\" + 0.000*\"primary\" + 0.000*\"care\" + 0.000*\"major\" + '\n",
      "  '0.000*\"treat\" + 0.000*\"study\" + 0.000*\"mild\"'),\n",
      " (26,\n",
      "  '0.000*\"group\" + 0.000*\"control\" + 0.000*\"study\" + 0.000*\"cost_effective\" + '\n",
      "  '0.000*\"psychotic\" + 0.000*\"appear\" + 0.000*\"therapy\" + 0.000*\"clinical\" + '\n",
      "  '0.000*\"people\" + 0.000*\"disorder\"'),\n",
      " (49,\n",
      "  '0.000*\"disorder\" + 0.000*\"eat\" + 0.000*\"treatment\" + 0.000*\"evidence\" + '\n",
      "  '0.000*\"clinical\" + 0.000*\"therapy\" + 0.000*\"cbt\" + 0.000*\"patient\" + '\n",
      "  '0.000*\"setting\" + 0.000*\"routine\"'),\n",
      " (32,\n",
      "  '0.000*\"treatment\" + 0.000*\"cbt\" + 0.000*\"adolescent\" + 0.000*\"depression\" + '\n",
      "  '0.000*\"strategy\" + 0.000*\"improvement\" + 0.000*\"significantly\" + '\n",
      "  '0.000*\"intervention\" + 0.000*\"maladaptive\" + 0.000*\"access\"'),\n",
      " (24,\n",
      "  '0.000*\"bias\" + 0.000*\"judgmental\" + 0.000*\"outcome\" + 0.000*\"study\" + '\n",
      "  '0.000*\"mechanism\" + 0.000*\"cost\" + 0.000*\"sad\" + 0.000*\"treatment\" + '\n",
      "  '0.000*\"probability\" + 0.000*\"anxiety\"'),\n",
      " (79,\n",
      "  '0.000*\"support\" + 0.000*\"depression\" + 0.000*\"symptom\" + 0.000*\"anxiety\" + '\n",
      "  '0.000*\"base\" + 0.000*\"intervention\" + 0.000*\"internet\" + 0.000*\"weekly\" + '\n",
      "  '0.000*\"complier\" + 0.000*\"treatment\"'),\n",
      " (0,\n",
      "  '0.000*\"intervention\" + 0.000*\"disorder\" + 0.000*\"anxiety\" + 0.000*\"woman\" + '\n",
      "  '0.000*\"cocaine\" + 0.000*\"concentration\" + 0.000*\"depression\" + '\n",
      "  '0.000*\"psychiatric\" + 0.000*\"risk\" + 0.000*\"increase\"'),\n",
      " (53,\n",
      "  '0.000*\"anxiety\" + 0.000*\"ceta\" + 0.000*\"symptom\" + 0.000*\"effect\" + '\n",
      "  '0.000*\"provide\" + 0.000*\"exposure\" + 0.000*\"affect_labele\" + '\n",
      "  '0.000*\"violence\" + 0.000*\"survivor\" + 0.000*\"systematic\"'),\n",
      " (71,\n",
      "  '0.000*\"treatment\" + 0.000*\"strategy\" + 0.000*\"maladaptive\" + '\n",
      "  '0.000*\"psychopathology\" + 0.000*\"disorder\" + 0.000*\"adaptive\" + '\n",
      "  '0.000*\"high\" + 0.000*\"significantly\" + 0.000*\"patient\" + 0.000*\"pre\"'),\n",
      " (69,\n",
      "  '0.075*\"anxiety\" + 0.057*\"child\" + 0.045*\"disorder\" + 0.039*\"clinical\" + '\n",
      "  '0.028*\"correlate\" + 0.022*\"asd\" + 0.019*\"administer\" + 0.015*\"symptom\" + '\n",
      "  '0.015*\"decrease\" + 0.013*\"hyperactivity\"'),\n",
      " (22,\n",
      "  '0.115*\"change\" + 0.068*\"cbt\" + 0.053*\"anxiety\" + 0.050*\"disorder\" + '\n",
      "  '0.039*\"symptom\" + 0.038*\"family\" + 0.037*\"therapy\" + 0.034*\"group\" + '\n",
      "  '0.031*\"reveal\" + 0.031*\"reduction\"'),\n",
      " (14,\n",
      "  '0.047*\"patient\" + 0.039*\"scale\" + 0.038*\"depression\" + 0.037*\"use\" + '\n",
      "  '0.028*\"item\" + 0.025*\"utility\" + 0.023*\"clinical\" + 0.022*\"caregiver\" + '\n",
      "  '0.021*\"score\" + 0.020*\"disorder\"'),\n",
      " (1,\n",
      "  '0.124*\"risk\" + 0.087*\"disorder\" + 0.042*\"history\" + 0.039*\"psychiatric\" + '\n",
      "  '0.033*\"age\" + 0.026*\"study\" + 0.024*\"increase\" + 0.023*\"individual\" + '\n",
      "  '0.022*\"relative\" + 0.022*\"psychosis\"'),\n",
      " (52,\n",
      "  '0.112*\"anxiety\" + 0.080*\"disorder\" + 0.030*\"perceive\" + 0.029*\"specific\" + '\n",
      "  '0.028*\"relationship\" + 0.022*\"source_journal\" + 0.021*\"support\" + '\n",
      "  '0.020*\"rights_reserved\" + 0.020*\"abstract\" + 0.020*\"sensitivity\"'),\n",
      " (42,\n",
      "  '0.039*\"symptom\" + 0.032*\"self\" + 0.031*\"panic\" + 0.029*\"patient\" + '\n",
      "  '0.027*\"clinical\" + 0.023*\"sample\" + 0.020*\"disorder\" + 0.018*\"prior\" + '\n",
      "  '0.017*\"examine\" + 0.016*\"find\"'),\n",
      " (33,\n",
      "  '0.102*\"treatment\" + 0.031*\"effect\" + 0.026*\"trial\" + 0.026*\"significant\" + '\n",
      "  '0.025*\"depression\" + 0.024*\"outcome\" + 0.023*\"intervention\" + '\n",
      "  '0.023*\"therapy\" + 0.022*\"randomized_controlle\" + 0.018*\"condition\"'),\n",
      " (11,\n",
      "  '0.052*\"anxiety\" + 0.036*\"youth\" + 0.033*\"treatment\" + 0.021*\"cognitive\" + '\n",
      "  '0.018*\"exposure\" + 0.017*\"well\" + 0.017*\"therapy\" + 0.016*\"evaluation\" + '\n",
      "  '0.014*\"great\" + 0.014*\"show\"'),\n",
      " (45,\n",
      "  '0.074*\"symptom\" + 0.055*\"anxiety\" + 0.044*\"effect\" + 0.024*\"study\" + '\n",
      "  '0.023*\"association\" + 0.019*\"depression\" + 0.017*\"result\" + '\n",
      "  '0.016*\"evidence\" + 0.015*\"problem\" + 0.015*\"influence\"'),\n",
      " (7,\n",
      "  '0.043*\"anxiety\" + 0.038*\"disorder\" + 0.034*\"child\" + 0.018*\"symptom\" + '\n",
      "  '0.018*\"age\" + 0.018*\"study\" + 0.017*\"year\" + 0.015*\"depression\" + '\n",
      "  '0.014*\"depressive\" + 0.014*\"childhood\"')]\n"
     ]
    }
   ],
   "source": [
    "# Print the Keyword in the topics\n",
    "pprint(lda_model.print_topics())\n",
    "doc_lda = lda_model[corpus]"
   ]
  },
  {
   "cell_type": "code",
   "execution_count": 16,
   "metadata": {},
   "outputs": [
    {
     "name": "stdout",
     "output_type": "stream",
     "text": [
      "\n",
      "Perplexity:  -12.828547516936805\n"
     ]
    }
   ],
   "source": [
    "# Compute Perplexity\n",
    "print('\\nPerplexity: ', lda_model.log_perplexity(corpus))  # a measure of how good the model is. lower the better."
   ]
  },
  {
   "cell_type": "code",
   "execution_count": 17,
   "metadata": {},
   "outputs": [
    {
     "name": "stdout",
     "output_type": "stream",
     "text": [
      "\n",
      "Coherence Score:  0.43074179611953534\n"
     ]
    }
   ],
   "source": [
    "# Compute Coherence Score\n",
    "coherence_model_lda = CoherenceModel(model=lda_model, texts=data_lemmatized, dictionary=id2word, coherence='c_v')\n",
    "coherence_lda = coherence_model_lda.get_coherence()\n",
    "print('\\nCoherence Score: ', coherence_lda)"
   ]
  },
  {
   "cell_type": "code",
   "execution_count": 18,
   "metadata": {},
   "outputs": [],
   "source": [
    "num_topics = 80\n",
    "topic_words = []\n",
    "for i in range(num_topics):\n",
    "    tt = lda_model.get_topic_terms(i,10)\n",
    "    topic_words.append([id2word[pair[0]] for pair in tt])"
   ]
  },
  {
   "cell_type": "code",
   "execution_count": 19,
   "metadata": {},
   "outputs": [
    {
     "name": "stdout",
     "output_type": "stream",
     "text": [
      "['intervention', 'disorder', 'anxiety', 'woman', 'cocaine', 'concentration', 'depression', 'psychiatric', 'risk', 'increase']\n",
      "['risk', 'disorder', 'history', 'psychiatric', 'age', 'study', 'increase', 'individual', 'relative', 'psychosis']\n",
      "['role', 'point', 'emerge', 'anxiety', 'model', 'vulnerability', 'individual', 'dysregulation', 'investigate', 'tendency']\n",
      "['trauma', 'event', 'negative', 'worry', 'mediate', 'predict', 'ptsd', 'reaction', 'traumatic', 'rumination']\n",
      "['stress', 'response', 'environmental', 'cancer', 'adolescent', 'function', 'boy', 'several', 'lead', 'pituitary']\n",
      "['avoidance', 'frequent', 'theory', 'understand', 'behavior', 'impact', 'chronic', 'poorly', 'way', 'research']\n",
      "['child', 'parent', 'tool', 'diagnostic', 'cut', 'screening', 'score', 'pediatric', 'clinical', 'sensitivity']\n",
      "['anxiety', 'disorder', 'child', 'symptom', 'age', 'study', 'year', 'depression', 'depressive', 'childhood']\n",
      "['session', 'depressed', 'enhance', 'best', 'homework', 'total', 'patient', 'able', 'case', 'report']\n",
      "['patient', 'anxiety', 'follow', 'care', 'study', 'small', 'give', 'prospective', 'determine', 'depression']\n",
      "['survivor', 'dysfunction', 'ceta', 'violence', 'worker', 'southern', 'site', 'torture', 'cmhw', 'health']\n",
      "['anxiety', 'youth', 'treatment', 'cognitive', 'exposure', 'well', 'therapy', 'evaluation', 'great', 'show']\n",
      "['survey', 'mental', 'onset', 'key', 'composite', 'live', 'disorder', 'nationally', 'representative', 'international']\n",
      "['statistical', 'day', 'suicidal', 'patient', 'depression', 'anxiety', 'deanxit', 'report', 'treatment', 'manage']\n",
      "['patient', 'scale', 'depression', 'use', 'item', 'utility', 'clinical', 'caregiver', 'score', 'disorder']\n",
      "['style', 'treatment', 'subsample', 'anxiety', 'laboratory', 'decision', 'parent', 'avoidance', 'investigate', 'avoidant']\n",
      "['high', 'function', 'low', 'predict', 'disorder', 'anxiety', 'alcohol', 'level', 'relationship', 'time']\n",
      "['patient', 'depression', 'antidepressant', 'moderate', 'primary', 'care', 'major', 'treat', 'study', 'mild']\n",
      "['survivor', 'therapy', 'symptom', 'systematic', 'ceta', 'intervention', 'violence', 'trauma', 'southern', 'effect']\n",
      "['attention', 'threat', 'child', 'task', 'css', 'response', 'unclear', 'orienting', 'therapie', 'condition']\n",
      "['personality', 'prospective', 'cocaine', 'predict', 'recovery', 'maladaptive', 'concentration', 'affect', 'catastrophic', 'prospectively']\n",
      "['score', 'regression', 'medication', 'attribution', 'follow', 'year', 'predict', 'factor', 'differ', 'difference']\n",
      "['change', 'cbt', 'anxiety', 'disorder', 'symptom', 'family', 'therapy', 'group', 'reveal', 'reduction']\n",
      "['emotional', 'task', 'person', 'modify', 'attentional', 'reactivity', 'potential', 'measure', 'need', 'participant']\n",
      "['bias', 'judgmental', 'outcome', 'study', 'mechanism', 'cost', 'sad', 'treatment', 'probability', 'anxiety']\n",
      "['group', 'control', 'study', 'clinical', 'compare', 'health', 'people', 'include', 'analysis', 'cost_effective']\n",
      "['group', 'control', 'study', 'cost_effective', 'psychotic', 'appear', 'therapy', 'clinical', 'people', 'disorder']\n",
      "['woman', 'independent', 'depression', 'interview', 'warrant', 'frequency', 'early', 'associate', 'cause', 'adjust']\n",
      "['psychotic', 'severe', 'mental', 'care', 'disorder', 'outcome', 'non', 'particularly', 'patient', 'year']\n",
      "['risk', 'disorder', 'analyse', 'conscription', 'psychiatric', 'conviction', 'personality', 'factor', 'neurological', 'early']\n",
      "['state', 'induce', 'motivational', 'regulatory', 'dysfunctional', 'complementary', 'goal', 'system', 'fit', 'focus']\n",
      "['stress', 'predictor', 'theoretical', 'trauma', 'treatment', 'remain', 'view', 'model', 'information', 'approach']\n",
      "['treatment', 'cbt', 'adolescent', 'depression', 'strategy', 'improvement', 'significantly', 'intervention', 'maladaptive', 'access']\n",
      "['treatment', 'effect', 'trial', 'significant', 'depression', 'outcome', 'intervention', 'therapy', 'randomized_controlle', 'condition']\n",
      "['major', 'depression', 'dependence', 'criterion', 'side', 'patient', 'efficient', 'inventory', 'antidepressant', 'recommend']\n",
      "['intervention', 'base', 'depression', 'change', 'group', 'guide', 'participant', 'community', 'result', 'self']\n",
      "['fear', 'startle', 'distress', 'response', 'positive', 'relate', 'affect', 'negative', 'stimulus', 'image']\n",
      "['maternal', 'mechanism', 'anxiety', 'depression', 'change', 'woman', 'symptom', 'depressive', 'country', 'nicaraguan']\n",
      "['avoidance', 'anxious', 'reward', 'avoidant', 'vigilance', 'task', 'threat', 'elevate', 'angry', 'compare']\n",
      "['death', 'share', 'largely', 'propose', 'respiratory', 'system', 'policy', 'shape', 'disease', 'information']\n",
      "['factor', 'disorder', 'drug', 'treatment', 'discuss', 'increase', 'underlie', 'aspect', 'review', 'use']\n",
      "['psychopathology', 'maltreatment', 'informant', 'childhood', 'marker', 'cohort', 'resilience', 'pathway', 'already', 'interplay']\n",
      "['symptom', 'self', 'panic', 'patient', 'clinical', 'sample', 'disorder', 'prior', 'examine', 'find']\n",
      "['genetic', 'additional', 'event', 'moreover', 'also', 'cognition', 'experience', 'future', 'unique', 'positive']\n",
      "['deficit', 'participant', 'fall', 'adjustment', 'use', 'month', 'study', 'potential', 'independent', 'associate']\n",
      "['symptom', 'anxiety', 'effect', 'study', 'association', 'depression', 'result', 'evidence', 'problem', 'influence']\n",
      "['database', 'patient', 'suicidal', 'receive', 'growth', 'suicidal_ideation', 'risk', 'identify', 'care', 'acute']\n",
      "['abstinence', 'term', 'treatment', 'underlie', 'adolescence', 'abuse', 'impulsivity', 'adverse', 'increase', 'use']\n",
      "['training', 'bias', 'anxious', 'train', 'child', 'neutral', 'threat', 'interpretation', 'positive', 'clinically']\n",
      "['disorder', 'eat', 'treatment', 'evidence', 'clinical', 'therapy', 'cbt', 'patient', 'setting', 'routine']\n",
      "['anxiety', 'response', 'function', 'high', 'contribute', 'stress', 'behavioral', 'avoidance', 'acute', 'organism']\n",
      "['internet', 'intervention', 'mediation', 'validate', 'support', 'anxiety', 'base', 'depression', 'detect', 'generalize']\n",
      "['anxiety', 'disorder', 'perceive', 'specific', 'relationship', 'source_journal', 'support', 'rights_reserved', 'abstract', 'sensitivity']\n",
      "['anxiety', 'ceta', 'symptom', 'effect', 'provide', 'exposure', 'affect_labele', 'violence', 'survivor', 'systematic']\n",
      "['mood', 'week', 'prenatal', 'postpartum', 'empirical', 'word', 'questionnaire', 'gestation', 'proportion', 'screening']\n",
      "['effect', 'weight', 'expression', 'phenotype', 'adhd', 'relapse', 'unique', 'processing', 'brain', 'index']\n",
      "['factor', 'year', 'class', 'adversity', 'risk', 'first', 'cohort', 'use', 'substance', 'latent']\n",
      "['undergo', 'strategy', 'emotion_regulation', 'pattern', 'patient', 'adaptive', 'sectionally', 'denial', 'conjunction', 'treatment']\n",
      "['patient', 'behavior', 'disorder', 'outcome', 'treatment', 'predictor', 'characteristic', 'high', 'health', 'anxiety']\n",
      "['mdd', 'factor', 'major_depressive', 'period', 'psychosocial', 'region', 'risk', 'illness', 'public', 'persist']\n",
      "['mother', 'pregnancy', 'symptom', 'depression', 'high', 'associate', 'psychological', 'pregnant', 'first', 'woman']\n",
      "['network', 'hypothesize', 'executive', 'factor', 'emerge', 'immune', 'remission', 'methamphetamine', 'affect', 'dependence']\n",
      "['primary', 'measure', 'treatment', 'outcome', 'secondary', 'trial', 'end', 'effectiveness', 'co_morbid', 'intervention']\n",
      "['sad', 'social', 'participant', 'concern', 'individual', 'cost', 'mechanism', 'bias', 'limitation', 'mediator']\n",
      "['dependence', 'remission', 'factor', 'immune', 'active', 'problem', 'depression', 'adult', 'objective', 'group']\n",
      "['intervention', 'cardiac', 'timing', 'inclusion', 'surgery', 'depression', 'psychological', 'meet', 'procedure', 'criterion']\n",
      "['hypothesise', 'treatment', 'outcome', 'patient', 'iapt', 'additional', 'personality', 'depression', 'anxiety', 'intervention']\n",
      "['outcome', 'treatment', 'therapy', 'face', 'clinical', 'anxiety', 'effect', 'effective', 'psychological', 'disorder']\n",
      "['understanding', 'interactive', 'would', 'programme', 'patient', 'experience', 'relationship', 'expect', 'little', 'comprise']\n",
      "['anxiety', 'child', 'disorder', 'clinical', 'correlate', 'asd', 'administer', 'symptom', 'decrease', 'hyperactivity']\n",
      "['dimensional', 'dropout', 'contrast', 'predictor', 'subject', 'help', 'predict', 'internalize', 'aggression', 'self']\n",
      "['treatment', 'strategy', 'maladaptive', 'psychopathology', 'disorder', 'adaptive', 'high', 'significantly', 'patient', 'pre']\n",
      "['economic', 'burden', 'face', 'therapy', 'calculate', 'intensive', 'prevalent', 'possibly', 'quality', 'power']\n",
      "['write', 'depression', 'patient', 'antidepressant', 'treatment', 'study', 'moderate', 'primary', 'group', 'month']\n",
      "['subjective', 'visual', 'skin', 'extinction_learning', 'away', 'geometric', 'attention', 'extinction', 'task', 'threat']\n",
      "['health', 'stroke', 'sleep', 'caregiver', 'important', 'match', 'quality', 'compare', 'agree', 'provide']\n",
      "['immediately', 'act', 'heart', 'wave', 'hold', 'mental', 'movement', 'perform', 'beneficial', 'pm']\n",
      "['emotion', 'mind', 'situation', 'training', 'people', 'anxiety', 'demonstrate', 'id', 'participant', 'significant']\n",
      "['degree', 'day', 'control', 'anxiety', 'patient', 'task', 'somatic', 'may', 'military', 'third']\n",
      "['support', 'depression', 'symptom', 'anxiety', 'base', 'intervention', 'internet', 'weekly', 'complier', 'treatment']\n"
     ]
    }
   ],
   "source": [
    "for i in range(0,80):\n",
    "    print(topic_words[i])"
   ]
  },
  {
   "cell_type": "code",
   "execution_count": 20,
   "metadata": {},
   "outputs": [
    {
     "data": {
      "text/html": [
       "<div>\n",
       "<style scoped>\n",
       "    .dataframe tbody tr th:only-of-type {\n",
       "        vertical-align: middle;\n",
       "    }\n",
       "\n",
       "    .dataframe tbody tr th {\n",
       "        vertical-align: top;\n",
       "    }\n",
       "\n",
       "    .dataframe thead th {\n",
       "        text-align: right;\n",
       "    }\n",
       "</style>\n",
       "<table border=\"1\" class=\"dataframe\">\n",
       "  <thead>\n",
       "    <tr style=\"text-align: right;\">\n",
       "      <th></th>\n",
       "      <th>Most_freq_words</th>\n",
       "      <th>Source</th>\n",
       "      <th>Topic_ID</th>\n",
       "      <th>Year</th>\n",
       "    </tr>\n",
       "  </thead>\n",
       "  <tbody>\n",
       "  </tbody>\n",
       "</table>\n",
       "</div>"
      ],
      "text/plain": [
       "Empty DataFrame\n",
       "Columns: [Most_freq_words, Source, Topic_ID, Year]\n",
       "Index: []"
      ]
     },
     "execution_count": 20,
     "metadata": {},
     "output_type": "execute_result"
    }
   ],
   "source": [
    "df=pd.DataFrame({'Year':[],'Source':[],'Topic_ID':[],'Most_freq_words':[]})\n",
    "df.head()"
   ]
  },
  {
   "cell_type": "code",
   "execution_count": 21,
   "metadata": {},
   "outputs": [],
   "source": [
    "df['Most_freq_words']=topic_words"
   ]
  },
  {
   "cell_type": "code",
   "execution_count": 22,
   "metadata": {},
   "outputs": [
    {
     "data": {
      "text/plain": [
       "(80, 4)"
      ]
     },
     "execution_count": 22,
     "metadata": {},
     "output_type": "execute_result"
    }
   ],
   "source": [
    "df = df.assign(Year='2015')\n",
    "df = df.assign(Source='Academic')\n",
    "df.shape"
   ]
  },
  {
   "cell_type": "code",
   "execution_count": 23,
   "metadata": {},
   "outputs": [],
   "source": [
    "ls=[]\n",
    "for i in range(0,80):\n",
    "    ls.append(i)\n",
    "df['Topic_ID']=ls"
   ]
  },
  {
   "cell_type": "code",
   "execution_count": 24,
   "metadata": {},
   "outputs": [
    {
     "data": {
      "text/html": [
       "<div>\n",
       "<style scoped>\n",
       "    .dataframe tbody tr th:only-of-type {\n",
       "        vertical-align: middle;\n",
       "    }\n",
       "\n",
       "    .dataframe tbody tr th {\n",
       "        vertical-align: top;\n",
       "    }\n",
       "\n",
       "    .dataframe thead th {\n",
       "        text-align: right;\n",
       "    }\n",
       "</style>\n",
       "<table border=\"1\" class=\"dataframe\">\n",
       "  <thead>\n",
       "    <tr style=\"text-align: right;\">\n",
       "      <th></th>\n",
       "      <th>Most_freq_words</th>\n",
       "      <th>Source</th>\n",
       "      <th>Topic_ID</th>\n",
       "      <th>Year</th>\n",
       "    </tr>\n",
       "  </thead>\n",
       "  <tbody>\n",
       "    <tr>\n",
       "      <th>0</th>\n",
       "      <td>[intervention, disorder, anxiety, woman, cocai...</td>\n",
       "      <td>Academic</td>\n",
       "      <td>0</td>\n",
       "      <td>2015</td>\n",
       "    </tr>\n",
       "    <tr>\n",
       "      <th>1</th>\n",
       "      <td>[risk, disorder, history, psychiatric, age, st...</td>\n",
       "      <td>Academic</td>\n",
       "      <td>1</td>\n",
       "      <td>2015</td>\n",
       "    </tr>\n",
       "    <tr>\n",
       "      <th>2</th>\n",
       "      <td>[role, point, emerge, anxiety, model, vulnerab...</td>\n",
       "      <td>Academic</td>\n",
       "      <td>2</td>\n",
       "      <td>2015</td>\n",
       "    </tr>\n",
       "    <tr>\n",
       "      <th>3</th>\n",
       "      <td>[trauma, event, negative, worry, mediate, pred...</td>\n",
       "      <td>Academic</td>\n",
       "      <td>3</td>\n",
       "      <td>2015</td>\n",
       "    </tr>\n",
       "    <tr>\n",
       "      <th>4</th>\n",
       "      <td>[stress, response, environmental, cancer, adol...</td>\n",
       "      <td>Academic</td>\n",
       "      <td>4</td>\n",
       "      <td>2015</td>\n",
       "    </tr>\n",
       "  </tbody>\n",
       "</table>\n",
       "</div>"
      ],
      "text/plain": [
       "                                     Most_freq_words    Source  Topic_ID  Year\n",
       "0  [intervention, disorder, anxiety, woman, cocai...  Academic         0  2015\n",
       "1  [risk, disorder, history, psychiatric, age, st...  Academic         1  2015\n",
       "2  [role, point, emerge, anxiety, model, vulnerab...  Academic         2  2015\n",
       "3  [trauma, event, negative, worry, mediate, pred...  Academic         3  2015\n",
       "4  [stress, response, environmental, cancer, adol...  Academic         4  2015"
      ]
     },
     "execution_count": 24,
     "metadata": {},
     "output_type": "execute_result"
    }
   ],
   "source": [
    "df.head()"
   ]
  },
  {
   "cell_type": "code",
   "execution_count": 25,
   "metadata": {},
   "outputs": [],
   "source": [
    "df.to_csv(\"topic_words_j2015.csv\")"
   ]
  },
  {
   "cell_type": "code",
   "execution_count": null,
   "metadata": {},
   "outputs": [],
   "source": []
  }
 ],
 "metadata": {
  "kernelspec": {
   "display_name": "Python 3",
   "language": "python",
   "name": "python3"
  },
  "language_info": {
   "codemirror_mode": {
    "name": "ipython",
    "version": 3
   },
   "file_extension": ".py",
   "mimetype": "text/x-python",
   "name": "python",
   "nbconvert_exporter": "python",
   "pygments_lexer": "ipython3",
   "version": "3.5.2"
  }
 },
 "nbformat": 4,
 "nbformat_minor": 2
}
