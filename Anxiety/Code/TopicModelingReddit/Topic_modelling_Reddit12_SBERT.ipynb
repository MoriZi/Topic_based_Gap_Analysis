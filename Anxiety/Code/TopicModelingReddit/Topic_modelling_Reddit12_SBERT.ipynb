{
 "cells": [
  {
   "cell_type": "markdown",
   "metadata": {},
   "source": [
    "### Obtained Perplexity= -7.47, Coherence= 0.491, Best Number of Topics = 10"
   ]
  },
  {
   "cell_type": "code",
   "execution_count": 1,
   "metadata": {},
   "outputs": [],
   "source": [
    "#Basic Libraries\n",
    "import re\n",
    "import numpy as np\n",
    "import pandas as pd\n",
    "from pprint import pprint\n",
    "import sys\n",
    "# Gensim\n",
    "import gensim\n",
    "import gensim.corpora as corpora\n",
    "from gensim.utils import simple_preprocess\n",
    "from gensim.models import CoherenceModel\n",
    "# spacy for lemmatization\n",
    "import spacy\n",
    "# Plotting tools\n",
    "import pyLDAvis\n",
    "import pyLDAvis.gensim  # don't skip this\n",
    "import matplotlib.pyplot as plt\n",
    "# Enable logging for gensim - optional\n",
    "import logging\n",
    "logging.basicConfig(format='%(asctime)s : %(levelname)s : %(message)s', level=logging.ERROR)\n",
    "import warnings\n",
    "warnings.filterwarnings(\"ignore\",category=DeprecationWarning)"
   ]
  },
  {
   "cell_type": "code",
   "execution_count": 2,
   "metadata": {},
   "outputs": [],
   "source": [
    "# NLTK Stop words\n",
    "from nltk.corpus import stopwords\n",
    "stop_words = stopwords.words('english')\n",
    "stop_words.extend(['from', 'subject', 're', 'edu', 'use'])"
   ]
  },
  {
   "cell_type": "code",
   "execution_count": 3,
   "metadata": {},
   "outputs": [
    {
     "name": "stderr",
     "output_type": "stream",
     "text": [
      "/home/smriti/.local/lib/python3.5/site-packages/pandas/core/computation/check.py:17: UserWarning: The installed version of numexpr 2.4.3 is not supported in pandas and will be not be used\n",
      "The minimum supported version is 2.4.6\n",
      "\n",
      "  ver=ver, min_ver=_MIN_NUMEXPR_VERSION), UserWarning)\n"
     ]
    }
   ],
   "source": [
    "#Load Dataset\n",
    "df=pd.read_csv('/home/smriti/Desktop/NLP/MITACS/Anxiety/Data/CSV/Reddit/rAnxiety12.csv')\n",
    "#getting rid of NaN\n",
    "df=df.replace(np.nan, '', regex=True)\n",
    "#getting rid of deleted values\n",
    "df['Text']=df['Text'].replace('[deleted]','')\n",
    "#Combining title and text\n",
    "df[\"Post\"] = df[\"Title\"] + df[\"Text\"]\n",
    "#Now that we don't need Title or Text, we drop those columns before saving the file\n",
    "df=df.drop(['Title', 'Text'], axis = 1)"
   ]
  },
  {
   "cell_type": "code",
   "execution_count": 4,
   "metadata": {},
   "outputs": [],
   "source": [
    "df=df.loc[:, ~df.columns.str.contains('^Unnamed')]"
   ]
  },
  {
   "cell_type": "code",
   "execution_count": 5,
   "metadata": {},
   "outputs": [
    {
     "data": {
      "text/html": [
       "<div>\n",
       "<style scoped>\n",
       "    .dataframe tbody tr th:only-of-type {\n",
       "        vertical-align: middle;\n",
       "    }\n",
       "\n",
       "    .dataframe tbody tr th {\n",
       "        vertical-align: top;\n",
       "    }\n",
       "\n",
       "    .dataframe thead th {\n",
       "        text-align: right;\n",
       "    }\n",
       "</style>\n",
       "<table border=\"1\" class=\"dataframe\">\n",
       "  <thead>\n",
       "    <tr style=\"text-align: right;\">\n",
       "      <th></th>\n",
       "      <th>Number of Comments</th>\n",
       "      <th>Date Posted</th>\n",
       "      <th>Post</th>\n",
       "    </tr>\n",
       "  </thead>\n",
       "  <tbody>\n",
       "    <tr>\n",
       "      <th>0</th>\n",
       "      <td>7</td>\n",
       "      <td>2012-07-14 14:06:22 EDT-0400</td>\n",
       "      <td>The logical side of my mind in response to my ...</td>\n",
       "    </tr>\n",
       "    <tr>\n",
       "      <th>1</th>\n",
       "      <td>26</td>\n",
       "      <td>2012-07-10 02:14:54 EDT-0400</td>\n",
       "      <td>No matter what you're going through....</td>\n",
       "    </tr>\n",
       "    <tr>\n",
       "      <th>2</th>\n",
       "      <td>1</td>\n",
       "      <td>2012-07-13 23:27:10 EDT-0400</td>\n",
       "      <td>An amazing art photo you folks can probably re...</td>\n",
       "    </tr>\n",
       "    <tr>\n",
       "      <th>3</th>\n",
       "      <td>28</td>\n",
       "      <td>2012-07-09 01:15:00 EDT-0400</td>\n",
       "      <td>Does anyone else have the sensation that they ...</td>\n",
       "    </tr>\n",
       "    <tr>\n",
       "      <th>4</th>\n",
       "      <td>3</td>\n",
       "      <td>2012-07-11 04:44:15 EDT-0400</td>\n",
       "      <td>Not sure if anxious..</td>\n",
       "    </tr>\n",
       "  </tbody>\n",
       "</table>\n",
       "</div>"
      ],
      "text/plain": [
       "   Number of Comments                   Date Posted  \\\n",
       "0                   7  2012-07-14 14:06:22 EDT-0400   \n",
       "1                  26  2012-07-10 02:14:54 EDT-0400   \n",
       "2                   1  2012-07-13 23:27:10 EDT-0400   \n",
       "3                  28  2012-07-09 01:15:00 EDT-0400   \n",
       "4                   3  2012-07-11 04:44:15 EDT-0400   \n",
       "\n",
       "                                                Post  \n",
       "0  The logical side of my mind in response to my ...  \n",
       "1            No matter what you're going through....  \n",
       "2  An amazing art photo you folks can probably re...  \n",
       "3  Does anyone else have the sensation that they ...  \n",
       "4                              Not sure if anxious..  "
      ]
     },
     "execution_count": 5,
     "metadata": {},
     "output_type": "execute_result"
    }
   ],
   "source": [
    "df.head()"
   ]
  },
  {
   "cell_type": "code",
   "execution_count": 6,
   "metadata": {},
   "outputs": [],
   "source": [
    "# Convert to list\n",
    "data=df.Post.values.tolist()\n",
    "# Remove new line characters\n",
    "data=[re.sub('\\s+', ' ', sent) for sent in data]\n",
    "# Remove distracting single quotes\n",
    "data=[re.sub(\"\\'\", \"\", sent) for sent in data]"
   ]
  },
  {
   "cell_type": "code",
   "execution_count": 7,
   "metadata": {},
   "outputs": [],
   "source": [
    "#Function to clean up text\n",
    "def sent_to_words(sentences):\n",
    "    for sentence in sentences:\n",
    "        yield(gensim.utils.simple_preprocess(str(sentence), deacc=True)) "
   ]
  },
  {
   "cell_type": "code",
   "execution_count": 8,
   "metadata": {},
   "outputs": [
    {
     "name": "stdout",
     "output_type": "stream",
     "text": [
      "[['the', 'logical', 'side', 'of', 'my', 'mind', 'in', 'response', 'to', 'my', 'emotional', 'side', 'of', 'my', 'brain', 'when', 'it', 'starts', 'being', 'anxious']]\n"
     ]
    }
   ],
   "source": [
    "#Clean up text\n",
    "data_words=list(sent_to_words(data))\n",
    "print(data_words[:1])"
   ]
  },
  {
   "cell_type": "code",
   "execution_count": 9,
   "metadata": {},
   "outputs": [],
   "source": [
    "# Build the bigram and trigram models\n",
    "bigram=gensim.models.Phrases(data_words, min_count=5, threshold=100) # higher threshold fewer phrases.\n",
    "trigram=gensim.models.Phrases(bigram[data_words], threshold=100)"
   ]
  },
  {
   "cell_type": "code",
   "execution_count": 10,
   "metadata": {},
   "outputs": [],
   "source": [
    "# Faster way to get a sentence clubbed as a trigram/bigram\n",
    "bigram_mod=gensim.models.phrases.Phraser(bigram)\n",
    "trigram_mod=gensim.models.phrases.Phraser(trigram)"
   ]
  },
  {
   "cell_type": "code",
   "execution_count": 11,
   "metadata": {},
   "outputs": [
    {
     "name": "stdout",
     "output_type": "stream",
     "text": [
      "['the', 'logical', 'side', 'of', 'my', 'mind', 'in', 'response', 'to', 'my', 'emotional', 'side', 'of', 'my', 'brain', 'when', 'it', 'starts', 'being', 'anxious']\n"
     ]
    }
   ],
   "source": [
    "# See trigram example\n",
    "print(trigram_mod[bigram_mod[data_words[0]]])"
   ]
  },
  {
   "cell_type": "code",
   "execution_count": 12,
   "metadata": {},
   "outputs": [],
   "source": [
    "# Define functions for stopwords, bigrams, trigrams and lemmatization\n",
    "def remove_stopwords(texts):\n",
    "    return [[word for word in simple_preprocess(str(doc)) if word not in stop_words] for doc in texts]\n"
   ]
  },
  {
   "cell_type": "code",
   "execution_count": 13,
   "metadata": {},
   "outputs": [],
   "source": [
    "def make_bigrams(texts):\n",
    "    return [bigram_mod[doc] for doc in texts]\n",
    "\n",
    "def make_trigrams(texts):\n",
    "    return [trigram_mod[bigram_mod[doc]] for doc in texts]\n",
    "\n",
    "def lemmatization(texts, allowed_postags=['NOUN', 'ADJ', 'VERB', 'ADV']):\n",
    "    \"\"\"https://spacy.io/api/annotation\"\"\"\n",
    "    texts_out = []\n",
    "    for sent in texts:\n",
    "        doc = nlp(\" \".join(sent))\n",
    "        texts_out.append([token.lemma_ for token in doc if token.pos_ in allowed_postags])\n",
    "    return texts_out"
   ]
  },
  {
   "cell_type": "code",
   "execution_count": 14,
   "metadata": {},
   "outputs": [
    {
     "name": "stdout",
     "output_type": "stream",
     "text": [
      "[['logical', 'side', 'mind', 'response', 'emotional', 'side', 'brain', 'start', 'anxious']]\n"
     ]
    }
   ],
   "source": [
    "data_words_nostops = remove_stopwords(data_words)\n",
    "\n",
    "# Form Bigrams\n",
    "data_words_bigrams = make_bigrams(data_words_nostops)\n",
    "\n",
    "# Initialize spacy 'en' model, keeping only tagger component (for efficiency)\n",
    "# python3 -m spacy download en\n",
    "nlp = spacy.load('en', disable=['parser', 'ner'])\n",
    "\n",
    "# Do lemmatization keeping only noun, adj, vb, adv\n",
    "data_lemmatized = lemmatization(data_words_bigrams, allowed_postags=['NOUN', 'ADJ', 'VERB', 'ADV'])\n",
    "print(data_lemmatized[:1])\n",
    "\n",
    "# Create Dictionary needed for topic modelling\n",
    "id2word = corpora.Dictionary(data_lemmatized)\n",
    "\n",
    "# Create Corpus\n",
    "texts = data_lemmatized\n",
    "\n",
    "# Term Document Frequency\n",
    "corpus = [id2word.doc2bow(text) for text in texts]\n",
    "\n",
    "# View\n",
    "[[(id2word[id], freq) for id, freq in cp] for cp in corpus[:1]]\n",
    "\n",
    "# Build LDA model\n",
    "lda_model = gensim.models.ldamodel.LdaModel(corpus=corpus,\n",
    "                                           id2word=id2word,\n",
    "                                           num_topics=10,\n",
    "                                           random_state=100,\n",
    "                                           update_every=1,\n",
    "                                           chunksize=100,\n",
    "                                           passes=10,\n",
    "                                           alpha='auto',\n",
    "                                           per_word_topics=True)"
   ]
  },
  {
   "cell_type": "code",
   "execution_count": 15,
   "metadata": {},
   "outputs": [
    {
     "name": "stdout",
     "output_type": "stream",
     "text": [
      "[(0,\n",
      "  '0.030*\"round\" + 0.023*\"willing\" + 0.015*\"connect\" + 0.009*\"please\" + '\n",
      "  '0.008*\"regard\" + 0.008*\"lurk\" + 0.007*\"solid\" + 0.006*\"negatively\" + '\n",
      "  '0.004*\"fearful\" + 0.004*\"tourist\"'),\n",
      " (1,\n",
      "  '0.018*\"acceptance\" + 0.015*\"cognitive_behavioral\" + 0.015*\"key\" + '\n",
      "  '0.013*\"forum\" + 0.010*\"gut\" + 0.008*\"recovery\" + 0.008*\"mindfulness\" + '\n",
      "  '0.007*\"relation\" + 0.007*\"claim\" + 0.007*\"available\"'),\n",
      " (2,\n",
      "  '0.037*\"anxiety\" + 0.027*\"feel\" + 0.024*\"go\" + 0.021*\"be\" + 0.016*\"get\" + '\n",
      "  '0.014*\"have\" + 0.013*\"help\" + 0.011*\"really\" + 0.011*\"start\" + '\n",
      "  '0.010*\"would\"'),\n",
      " (3,\n",
      "  '0.040*\"drive\" + 0.038*\"cop\" + 0.011*\"mile\" + 0.010*\"gas\" + 0.008*\"driving\" '\n",
      "  '+ 0.008*\"unstable\" + 0.007*\"crappy\" + 0.005*\"highway\" + 0.005*\"nicely\" + '\n",
      "  '0.005*\"abandon\"'),\n",
      " (4,\n",
      "  '0.026*\"be\" + 0.021*\"people\" + 0.020*\"want\" + 0.014*\"know\" + 0.013*\"think\" + '\n",
      "  '0.012*\"say\" + 0.011*\"friend\" + 0.011*\"go\" + 0.011*\"even\" + 0.011*\"talk\"'),\n",
      " (5,\n",
      "  '0.051*\"relax\" + 0.019*\"silly\" + 0.017*\"large\" + 0.016*\"male\" + '\n",
      "  '0.015*\"psychologist\" + 0.014*\"rush\" + 0.014*\"flight\" + 0.012*\"routine\" + '\n",
      "  '0.012*\"touch\" + 0.011*\"adult\"'),\n",
      " (6,\n",
      "  '0.046*\"breath\" + 0.027*\"breathe\" + 0.026*\"breathing\" + 0.023*\"absolutely\" + '\n",
      "  '0.022*\"around\" + 0.021*\"leg\" + 0.018*\"exist\" + 0.016*\"sensation\" + '\n",
      "  '0.016*\"major\" + 0.016*\"middle\"'),\n",
      " (7,\n",
      "  '0.018*\"create\" + 0.017*\"goal\" + 0.016*\"amount\" + 0.014*\"coffee\" + '\n",
      "  '0.014*\"quit\" + 0.013*\"subreddit\" + 0.013*\"comfortable\" + 0.012*\"note\" + '\n",
      "  '0.012*\"least\" + 0.011*\"cbt\"'),\n",
      " (8,\n",
      "  '0.046*\"sound\" + 0.027*\"roll\" + 0.017*\"chat\" + 0.016*\"window\" + '\n",
      "  '0.016*\"interested\" + 0.013*\"scream\" + 0.013*\"coyote\" + 0.012*\"anyone_else\" '\n",
      "  '+ 0.009*\"friendly\" + 0.009*\"primal\"'),\n",
      " (9,\n",
      "  '0.027*\"visit\" + 0.027*\"event\" + 0.023*\"reward\" + 0.018*\"roommate\" + '\n",
      "  '0.017*\"coworker\" + 0.016*\"luck\" + 0.015*\"clear\" + 0.014*\"cold\" + '\n",
      "  '0.013*\"baby\" + 0.012*\"piss\"')]\n"
     ]
    }
   ],
   "source": [
    "# Print the Keyword in the topics\n",
    "pprint(lda_model.print_topics())\n",
    "doc_lda = lda_model[corpus]"
   ]
  },
  {
   "cell_type": "code",
   "execution_count": 16,
   "metadata": {},
   "outputs": [
    {
     "name": "stdout",
     "output_type": "stream",
     "text": [
      "\n",
      "Perplexity:  -7.471369644043558\n"
     ]
    }
   ],
   "source": [
    "# Compute Perplexity\n",
    "print('\\nPerplexity: ', lda_model.log_perplexity(corpus))  # a measure of how good the model is. lower the better."
   ]
  },
  {
   "cell_type": "code",
   "execution_count": 17,
   "metadata": {},
   "outputs": [
    {
     "name": "stdout",
     "output_type": "stream",
     "text": [
      "\n",
      "Coherence Score:  0.49935489349787876\n"
     ]
    }
   ],
   "source": [
    "# Compute Coherence Score\n",
    "coherence_model_lda = CoherenceModel(model=lda_model, texts=data_lemmatized, dictionary=id2word, coherence='c_v')\n",
    "coherence_lda = coherence_model_lda.get_coherence()\n",
    "print('\\nCoherence Score: ', coherence_lda)"
   ]
  },
  {
   "cell_type": "code",
   "execution_count": 18,
   "metadata": {},
   "outputs": [
    {
     "data": {
      "text/html": [
       "\n",
       "<link rel=\"stylesheet\" type=\"text/css\" href=\"https://cdn.jsdelivr.net/gh/bmabey/pyLDAvis@3.2.2/pyLDAvis/js/ldavis.v1.0.0.css\">\n",
       "\n",
       "\n",
       "<div id=\"ldavis_el131121399332019812569618303225\"></div>\n",
       "<script type=\"text/javascript\">\n",
       "\n",
       "var ldavis_el131121399332019812569618303225_data = {\"lambda.step\": 0.01, \"topic.order\": [3, 5, 8, 7, 6, 10, 2, 9, 4, 1], \"R\": 30, \"token.table\": {\"Term\": [\"abandon\", \"absolutely\", \"acceptance\", \"addict\", \"admit\", \"adrenaline\", \"adult\", \"air\", \"alone\", \"always\", \"always\", \"amount\", \"announce\", \"anticipate\", \"anxiety\", \"anxiety\", \"anxious\", \"anxious\", \"anyone_else\", \"around\", \"ask\", \"ask\", \"attack\", \"available\", \"baby\", \"back\", \"back\", \"bad\", \"bad\", \"battle\", \"be\", \"be\", \"belly\", \"belong\", \"better\", \"bf\", \"big\", \"bit\", \"body\", \"brain\", \"break\", \"breath\", \"breathe\", \"breathe\", \"breathing\", \"bully\", \"burn\", \"button\", \"caffeine\", \"call\", \"can\", \"can\", \"case\", \"catch\", \"cause\", \"cbt\", \"cbt\", \"chair\", \"chat\", \"chill\", \"christian\", \"claim\", \"clear\", \"close\", \"cloud\", \"coffee\", \"cognitive_behavioral\", \"cold\", \"come\", \"come\", \"comfort\", \"comfortable\", \"connect\", \"control\", \"cool\", \"cop\", \"copy\", \"couch\", \"couple\", \"coworker\", \"coyote\", \"crappy\", \"create\", \"creep\", \"cry\", \"day\", \"day\", \"decent\", \"deep\", \"deep\", \"deeply\", \"depression\", \"depression\", \"diet\", \"discomfort\", \"downstairs\", \"drive\", \"drive\", \"drive\", \"driving\", \"driving\", \"ear\", \"easily\", \"easily\", \"eat\", \"embarrassment\", \"empty\", \"even\", \"even\", \"event\", \"exhausted\", \"exist\", \"experience\", \"extreme\", \"family\", \"family\", \"favorite\", \"fear\", \"fear\", \"feedback\", \"feel\", \"feel\", \"feeling\", \"find\", \"find\", \"find\", \"finger\", \"first\", \"first\", \"fish_oil\", \"flight\", \"fly\", \"fly\", \"forum\", \"friend\", \"friendly\", \"friendship\", \"gas\", \"get\", \"get\", \"girl\", \"give\", \"give\", \"go\", \"go\", \"goal\", \"good\", \"good\", \"group\", \"guilt\", \"gut\", \"habit\", \"happen\", \"happen\", \"happy\", \"hate\", \"have\", \"have\", \"head\", \"head\", \"heart\", \"help\", \"help\", \"helpless\", \"highway\", \"hold\", \"home\", \"home\", \"honest\", \"hour\", \"house\", \"http_www\", \"http_www\", \"inner\", \"interested\", \"jittery\", \"key\", \"kill\", \"know\", \"know\", \"knowing\", \"large\", \"last\", \"last\", \"learn\", \"least\", \"least\", \"leave\", \"leave\", \"leg\", \"lexapro\", \"life\", \"life\", \"little\", \"little\", \"live\", \"lock\", \"lose\", \"lose\", \"lot\", \"lot\", \"love\", \"love\", \"lovely\", \"luck\", \"lurk\", \"major\", \"make\", \"make\", \"male\", \"med\", \"medication\", \"meditation\", \"mere\", \"merely\", \"middle\", \"mile\", \"mind\", \"mind\", \"mindfulness\", \"modality\", \"money\", \"much\", \"much\", \"muscle\", \"neat\", \"necessary\", \"need\", \"need\", \"negatively\", \"next\", \"nicely\", \"normal\", \"note\", \"ocd\", \"pain\", \"panic_attack\", \"panicky\", \"parent\", \"particular\", \"people\", \"people\", \"perceive\", \"perfectly\", \"person\", \"person\", \"personally\", \"phone\", \"pin\", \"piss\", \"place\", \"place\", \"play\", \"please\", \"pot\", \"pretty\", \"primal\", \"promise\", \"psychiatrist\", \"psychiatrist\", \"psychologist\", \"quit\", \"rant\", \"rate\", \"really\", \"really\", \"recovery\", \"refill\", \"regard\", \"relation\", \"relax\", \"release\", \"repeat\", \"reveal\", \"reward\", \"rid\", \"roll\", \"rolling\", \"room\", \"roommate\", \"round\", \"routine\", \"rush\", \"s\", \"s\", \"say\", \"say\", \"scream\", \"seat\", \"see\", \"see\", \"send\", \"sensation\", \"sensation\", \"shallow\", \"shape\", \"share\", \"shit\", \"shy\", \"silly\", \"site\", \"situation\", \"slow\", \"slow\", \"slowly\", \"slowly\", \"solid\", \"somehow\", \"sometimes\", \"sometimes\", \"sound\", \"sound\", \"start\", \"start\", \"stay\", \"steal\", \"still\", \"still\", \"stimulus\", \"stress\", \"subreddit\", \"sufferer\", \"suggestion\", \"super\", \"sure\", \"suspect\", \"symptom\", \"take\", \"take\", \"talk\", \"technique\", \"tell\", \"tell\", \"tension\", \"theory\", \"therapist\", \"therapist\", \"therapist\", \"therapy\", \"thing\", \"thing\", \"think\", \"think\", \"thought\", \"time\", \"time\", \"title\", \"today\", \"today\", \"tonight\", \"tooth\", \"touch\", \"track\", \"traumatic\", \"tremble\", \"trigger\", \"try\", \"try\", \"twitch\", \"understand\", \"unstable\", \"useless\", \"vision\", \"visit\", \"want\", \"want\", \"watch\", \"water\", \"wave\", \"website\", \"weed\", \"week\", \"well\", \"well\", \"willing\", \"window\", \"woman\", \"wordpress\", \"work\", \"work\", \"would\", \"would\", \"year\", \"year\"], \"Topic\": [9, 4, 7, 6, 6, 6, 5, 4, 2, 1, 2, 3, 8, 7, 1, 2, 1, 2, 8, 4, 1, 2, 1, 7, 6, 1, 2, 1, 2, 3, 1, 2, 4, 5, 1, 8, 1, 1, 1, 1, 2, 4, 1, 4, 4, 3, 3, 4, 3, 2, 1, 2, 2, 2, 1, 3, 7, 5, 8, 6, 7, 7, 6, 2, 5, 3, 7, 6, 1, 2, 3, 3, 10, 1, 4, 9, 5, 6, 1, 6, 8, 9, 3, 5, 2, 1, 2, 7, 2, 4, 4, 1, 2, 3, 4, 6, 1, 2, 9, 1, 9, 6, 3, 5, 2, 8, 4, 1, 2, 6, 5, 4, 1, 3, 1, 2, 4, 1, 2, 6, 1, 2, 1, 1, 2, 3, 3, 1, 2, 7, 5, 2, 6, 7, 2, 8, 4, 9, 1, 2, 2, 1, 2, 1, 2, 3, 1, 2, 2, 6, 7, 5, 1, 2, 2, 2, 1, 2, 1, 2, 1, 1, 2, 4, 9, 2, 1, 2, 3, 1, 2, 2, 7, 4, 8, 6, 7, 2, 1, 2, 6, 5, 1, 2, 1, 2, 3, 1, 2, 4, 4, 1, 2, 1, 2, 2, 5, 1, 2, 1, 2, 1, 2, 7, 6, 10, 4, 1, 2, 5, 1, 1, 3, 7, 7, 4, 9, 1, 2, 7, 7, 2, 1, 2, 3, 7, 5, 1, 2, 10, 1, 9, 1, 3, 5, 1, 1, 5, 2, 5, 1, 2, 7, 3, 1, 2, 3, 2, 9, 6, 1, 2, 2, 10, 4, 1, 8, 6, 1, 5, 5, 3, 2, 4, 1, 2, 7, 6, 10, 7, 5, 6, 4, 7, 6, 3, 8, 6, 2, 6, 10, 5, 5, 1, 2, 1, 2, 8, 5, 1, 2, 2, 1, 4, 4, 4, 1, 2, 5, 5, 5, 1, 1, 4, 1, 4, 10, 3, 1, 2, 4, 8, 1, 2, 2, 5, 1, 2, 7, 1, 3, 3, 4, 3, 1, 5, 1, 1, 2, 2, 3, 1, 2, 6, 7, 1, 2, 3, 1, 1, 2, 1, 2, 1, 1, 2, 5, 1, 2, 2, 6, 5, 5, 6, 6, 1, 1, 2, 3, 2, 9, 5, 4, 6, 1, 2, 2, 4, 4, 3, 3, 1, 1, 2, 10, 8, 4, 6, 1, 2, 1, 2, 1, 2], \"Freq\": [0.8522130153866718, 0.9578413939844115, 0.9162949046448601, 0.7863132910079276, 0.8981706256642576, 0.9282065979909849, 0.9620626198693651, 0.9725469503728371, 0.9996967445153669, 0.28876394126272303, 0.7091702675128639, 0.9778942273063542, 0.9097956966764832, 0.8960803968532531, 0.9798750364435378, 0.019692981853006546, 0.9820944132541128, 0.01811982312276961, 0.72556074792135, 0.9898584577492577, 0.09989322085389257, 0.8990389876850332, 0.9991717132633935, 0.5178419723725592, 0.867978602490366, 0.981363528580199, 0.015393937703218808, 0.9585136683600628, 0.04144923971286758, 0.9216850601605735, 0.5743080550814574, 0.4256418453342703, 0.9544187873999139, 0.9160316883840686, 0.9976595896153624, 0.8678510579735085, 0.9913844587290482, 0.992380651624556, 0.9969243120618518, 0.9946340967405204, 0.9887839041574652, 0.9987454289467537, 0.5092849477178064, 0.4889135498090942, 0.9833997957778056, 0.972259051888028, 0.9519711939166692, 0.8698795461959119, 0.9475028069082582, 0.9998025792926103, 0.4379926238684554, 0.5614049101518324, 0.9842679139982036, 1.0001612184299191, 0.9949433801386274, 0.9468599361844188, 0.04508856838973423, 0.9566708312340851, 0.8359743972949601, 0.9654938726844202, 0.8339875033510854, 0.9719612877304192, 0.9738678255479727, 0.9917549645483636, 0.9392042951478926, 0.99853233498041, 0.7913362887354083, 0.9049151486294288, 0.8939615839406391, 0.1058158609562389, 0.977004156136403, 0.9646275813260592, 0.9096089473487812, 0.9972462171038833, 0.8726071354229405, 0.9232573767028012, 0.9804730618977833, 0.9743576454289636, 0.9906400004303615, 0.9727368413879979, 0.7179232463986297, 0.7310663745193541, 0.9765719287208943, 0.8619265081714717, 0.9914572204151045, 0.6242578161747927, 0.3741271158581806, 0.5441182041427527, 0.7846440705552085, 0.19616101763880212, 0.8817961797530222, 0.18026622565230965, 0.8185061056645412, 0.9677258369211643, 0.9505459992574611, 0.9781382267737514, 0.8281385515388077, 0.10647495662641812, 0.0591527536813434, 0.6580806123935915, 0.21936020413119714, 0.8633900330426518, 0.633767591350775, 0.3168837956753875, 0.9925284090640671, 0.8679924994947578, 0.8692065026440109, 0.3414811483396915, 0.6577522790167213, 0.9959011035373353, 0.9023044061546844, 0.9463464837055471, 0.996408626375857, 0.9350559617132055, 0.037881413873640885, 0.9659760537778425, 0.926615473120728, 0.9343865978208666, 0.06500080680492985, 0.6703066339189009, 0.8531705097395228, 0.1465479957205643, 0.9987626281714269, 0.7463927843002419, 0.23346883300386712, 0.017687032803323267, 0.9922956656213741, 0.9412441436614108, 0.05962632584280431, 0.6656053044645147, 0.962936763853812, 0.7603909383483982, 0.19009773458709955, 0.9295628287475627, 0.996945104269724, 0.9140734700166333, 0.8801534234622514, 0.5574543202904146, 0.7816629350396918, 0.21780424073948979, 0.9918536984556318, 0.295225050160735, 0.7057723855405071, 0.7810247213537289, 0.21900600357365474, 0.9725062276406717, 0.15405106593966728, 0.8416448480606211, 0.9912617536354761, 0.8470384457190435, 0.7493188263189414, 0.8774545803936077, 0.9758157320104285, 0.02579248630864569, 0.9907180621203459, 0.9915821571429434, 0.819566083279924, 0.17923732372232062, 0.9699654913598553, 0.02873971826251423, 0.9935717669659658, 0.8185626668094598, 0.182064650091072, 0.877813447874914, 0.8325397459166058, 0.9897568657213035, 0.1847532890985646, 0.8100721137398602, 0.9185667053879499, 0.9898576731149088, 0.9864630746907171, 0.9840409623913401, 0.035144320085405, 0.9263204275312034, 0.8592044803208623, 0.6653701847636911, 0.8009668211577821, 0.9932778863078322, 0.5005180569098422, 0.4978627887034239, 0.9254432954106273, 0.9481489020539131, 0.909429907513464, 0.09139999070487076, 0.996061402985588, 0.5393255385142207, 0.4430174066366813, 0.24401191623851942, 0.7538225269511404, 0.9566724136426488, 0.8051049038261767, 0.7055550369656903, 0.29398126540237096, 0.9751855543819018, 0.02468824188308612, 0.9952890839502803, 0.8577105103690998, 0.12880880916870843, 0.8658814394118733, 0.21301500110764646, 0.7837344380375671, 0.03174819712957504, 0.963028646263776, 0.7962487484594913, 0.9126383941215432, 0.694190914462108, 0.9602863768628983, 0.6308551099973658, 0.36885263972003757, 0.9602488672502031, 0.9996501269316488, 0.9924800943171234, 0.9614493428376979, 0.6357972215649479, 0.7777697285251904, 0.9640596957929424, 0.5041765475336601, 0.9730471186188386, 0.023878456898621808, 0.8798273192756407, 0.929710070163775, 0.9917519270376298, 0.796641734244723, 0.20352161093843288, 0.9272453208510869, 0.5948502932876587, 0.9435899166172864, 0.2598744672431524, 0.7379151539003093, 0.8181833368275013, 0.9930392885990499, 0.8698319383406309, 0.99542067337721, 0.9713686175965978, 0.9681579816700296, 0.9912465736621137, 0.9971645488044654, 0.8878019955894216, 1.0002820818386575, 0.8878403719632952, 0.054621937982973795, 0.9451250481296375, 0.7792338755703387, 0.9622818726573417, 0.15847456560020376, 0.8399151976810799, 0.9612682738955698, 1.000359032119372, 0.9081229461389843, 0.9127257195232115, 0.03440725253619788, 0.9634030710135406, 0.9986629016856454, 0.6635407649557119, 0.8798126632655537, 0.9980778352195353, 0.9538717710968097, 0.7634730935119209, 0.9420242938783904, 0.04095757799471263, 0.9377235579860826, 0.9726150886239467, 0.9979737313482939, 0.8469455122306757, 0.8848404889790982, 0.11557100264216792, 0.8774596314716606, 0.8630097899736311, 0.6813472307311709, 0.946725662994548, 0.9855228466944894, 0.9694958689093581, 0.9222128367994643, 0.7797215475787916, 0.9738287580962298, 0.9593493479864426, 0.9360907839844524, 0.6649141434675512, 0.9907357402528744, 0.9292392511505613, 0.7818262342098833, 0.9924573449681432, 0.9464647835651665, 0.0886532885887032, 0.9107110555021328, 0.1290339538401917, 0.8690041789237399, 0.7059475787357249, 0.9964967069021351, 0.7096719161459051, 0.29059841393905594, 0.9891766116395073, 0.515112838159854, 0.4807719822825304, 0.8971042569474903, 0.9196246448181989, 0.9923072442305034, 0.9980771937374172, 0.8864594736300135, 0.9595105748471746, 0.9711774305829026, 0.9978749177121032, 0.2805790157564659, 0.6546843700984204, 0.7647151976929217, 0.22201408965278374, 0.7353214967784695, 0.9695717608226582, 0.21341419281971202, 0.7889858037577233, 0.3651303354551291, 0.5842085367282065, 0.9327513130012539, 0.06790908916925617, 0.9831276306370191, 0.8846895583741168, 0.9204956907898106, 0.07969659660517842, 0.8468327072708365, 0.9990692043361749, 1.000158504267974, 0.9563147725272044, 0.9902404537760521, 0.9870185261790996, 0.9965923299887057, 0.9569020091895143, 0.9922147990422752, 0.6771481256249193, 0.3211217915334669, 0.9988019930616908, 0.9292075606102185, 0.41533248243554466, 0.5849265794300587, 0.8162919468467039, 0.724023706208622, 0.7829085766330319, 0.12044747332815875, 0.0860339095201134, 0.9918061278997796, 0.6853210528238404, 0.31436745542378003, 0.5654891702264657, 0.43499166940497364, 0.9977342456203108, 0.6281303777181937, 0.37104161692645515, 0.8637998030281446, 0.9906793580674068, 0.005473366619156944, 0.9806560870892307, 0.974725680550883, 0.9478146334527223, 0.9602025005683479, 0.9062250845626216, 0.757879290555025, 0.9969154003619927, 0.609476435229379, 0.39006491854680253, 0.9314956051036882, 0.9958985924402284, 0.6582569151646446, 0.8902038514409927, 0.9213721507030547, 0.9927336723112895, 0.13690367828904318, 0.8626581174116817, 0.9894750697996544, 0.9499059626757327, 0.9627561752549113, 0.9224219347130138, 0.9472060795399065, 0.9967458296946106, 0.9465907384340123, 0.05258837435744513, 0.9628039844293773, 0.8587593100329998, 0.9568225491802786, 0.9605757497544166, 0.7226699423560954, 0.2756576068780982, 0.713618043297713, 0.28669371171785846, 0.599899816791831, 0.39993321119455405]}, \"tinfo\": {\"Category\": [\"Default\", \"Default\", \"Default\", \"Default\", \"Default\", \"Default\", \"Default\", \"Default\", \"Default\", \"Default\", \"Default\", \"Default\", \"Default\", \"Default\", \"Default\", \"Default\", \"Default\", \"Default\", \"Default\", \"Default\", \"Default\", \"Default\", \"Default\", \"Default\", \"Default\", \"Default\", \"Default\", \"Default\", \"Default\", \"Default\", \"Topic1\", \"Topic1\", \"Topic1\", \"Topic1\", \"Topic1\", \"Topic1\", \"Topic1\", \"Topic1\", \"Topic1\", \"Topic1\", \"Topic1\", \"Topic1\", \"Topic1\", \"Topic1\", \"Topic1\", \"Topic1\", \"Topic1\", \"Topic1\", \"Topic1\", \"Topic1\", \"Topic1\", \"Topic1\", \"Topic1\", \"Topic1\", \"Topic1\", \"Topic1\", \"Topic1\", \"Topic1\", \"Topic1\", \"Topic1\", \"Topic1\", \"Topic1\", \"Topic1\", \"Topic1\", \"Topic1\", \"Topic1\", \"Topic1\", \"Topic1\", \"Topic1\", \"Topic1\", \"Topic1\", \"Topic1\", \"Topic1\", \"Topic1\", \"Topic1\", \"Topic1\", \"Topic1\", \"Topic1\", \"Topic1\", \"Topic1\", \"Topic1\", \"Topic1\", \"Topic1\", \"Topic1\", \"Topic1\", \"Topic1\", \"Topic1\", \"Topic1\", \"Topic1\", \"Topic1\", \"Topic1\", \"Topic1\", \"Topic1\", \"Topic1\", \"Topic1\", \"Topic1\", \"Topic1\", \"Topic2\", \"Topic2\", \"Topic2\", \"Topic2\", \"Topic2\", \"Topic2\", \"Topic2\", \"Topic2\", \"Topic2\", \"Topic2\", \"Topic2\", \"Topic2\", \"Topic2\", \"Topic2\", \"Topic2\", \"Topic2\", \"Topic2\", \"Topic2\", \"Topic2\", \"Topic2\", \"Topic2\", \"Topic2\", \"Topic2\", \"Topic2\", \"Topic2\", \"Topic2\", \"Topic2\", \"Topic2\", \"Topic2\", \"Topic2\", \"Topic2\", \"Topic2\", \"Topic2\", \"Topic2\", \"Topic2\", \"Topic2\", \"Topic2\", \"Topic2\", \"Topic2\", \"Topic2\", \"Topic2\", \"Topic2\", \"Topic2\", \"Topic2\", \"Topic2\", \"Topic2\", \"Topic2\", \"Topic2\", \"Topic2\", \"Topic2\", \"Topic2\", \"Topic2\", \"Topic2\", \"Topic2\", \"Topic2\", \"Topic2\", \"Topic2\", \"Topic2\", \"Topic2\", \"Topic2\", \"Topic2\", \"Topic2\", \"Topic2\", \"Topic2\", \"Topic2\", \"Topic2\", \"Topic3\", \"Topic3\", \"Topic3\", \"Topic3\", \"Topic3\", \"Topic3\", \"Topic3\", \"Topic3\", \"Topic3\", \"Topic3\", \"Topic3\", \"Topic3\", \"Topic3\", \"Topic3\", \"Topic3\", \"Topic3\", \"Topic3\", \"Topic3\", \"Topic3\", \"Topic3\", \"Topic3\", \"Topic3\", \"Topic3\", \"Topic3\", \"Topic3\", \"Topic3\", \"Topic3\", \"Topic3\", \"Topic3\", \"Topic3\", \"Topic3\", \"Topic3\", \"Topic3\", \"Topic4\", \"Topic4\", \"Topic4\", \"Topic4\", \"Topic4\", \"Topic4\", \"Topic4\", \"Topic4\", \"Topic4\", \"Topic4\", \"Topic4\", \"Topic4\", \"Topic4\", \"Topic4\", \"Topic4\", \"Topic4\", \"Topic4\", \"Topic4\", \"Topic4\", \"Topic4\", \"Topic4\", \"Topic4\", \"Topic4\", \"Topic4\", \"Topic4\", \"Topic4\", \"Topic4\", \"Topic4\", \"Topic4\", \"Topic4\", \"Topic4\", \"Topic4\", \"Topic4\", \"Topic4\", \"Topic4\", \"Topic4\", \"Topic5\", \"Topic5\", \"Topic5\", \"Topic5\", \"Topic5\", \"Topic5\", \"Topic5\", \"Topic5\", \"Topic5\", \"Topic5\", \"Topic5\", \"Topic5\", \"Topic5\", \"Topic5\", \"Topic5\", \"Topic5\", \"Topic5\", \"Topic5\", \"Topic5\", \"Topic5\", \"Topic5\", \"Topic5\", \"Topic5\", \"Topic5\", \"Topic5\", \"Topic5\", \"Topic5\", \"Topic5\", \"Topic5\", \"Topic5\", \"Topic5\", \"Topic6\", \"Topic6\", \"Topic6\", \"Topic6\", \"Topic6\", \"Topic6\", \"Topic6\", \"Topic6\", \"Topic6\", \"Topic6\", \"Topic6\", \"Topic6\", \"Topic6\", \"Topic6\", \"Topic6\", \"Topic6\", \"Topic6\", \"Topic6\", \"Topic6\", \"Topic6\", \"Topic6\", \"Topic6\", \"Topic6\", \"Topic6\", \"Topic6\", \"Topic6\", \"Topic6\", \"Topic6\", \"Topic6\", \"Topic6\", \"Topic6\", \"Topic7\", \"Topic7\", \"Topic7\", \"Topic7\", \"Topic7\", \"Topic7\", \"Topic7\", \"Topic7\", \"Topic7\", \"Topic7\", \"Topic7\", \"Topic7\", \"Topic7\", \"Topic7\", \"Topic7\", \"Topic7\", \"Topic7\", \"Topic7\", \"Topic7\", \"Topic7\", \"Topic7\", \"Topic7\", \"Topic7\", \"Topic7\", \"Topic7\", \"Topic7\", \"Topic7\", \"Topic7\", \"Topic7\", \"Topic7\", \"Topic7\", \"Topic7\", \"Topic8\", \"Topic8\", \"Topic8\", \"Topic8\", \"Topic8\", \"Topic8\", \"Topic8\", \"Topic8\", \"Topic8\", \"Topic8\", \"Topic8\", \"Topic8\", \"Topic8\", \"Topic8\", \"Topic8\", \"Topic8\", \"Topic8\", \"Topic8\", \"Topic8\", \"Topic8\", \"Topic8\", \"Topic8\", \"Topic8\", \"Topic8\", \"Topic8\", \"Topic8\", \"Topic8\", \"Topic8\", \"Topic8\", \"Topic8\", \"Topic9\", \"Topic9\", \"Topic9\", \"Topic9\", \"Topic9\", \"Topic9\", \"Topic9\", \"Topic9\", \"Topic9\", \"Topic9\", \"Topic9\", \"Topic9\", \"Topic9\", \"Topic9\", \"Topic9\", \"Topic9\", \"Topic9\", \"Topic9\", \"Topic9\", \"Topic9\", \"Topic9\", \"Topic9\", \"Topic9\", \"Topic9\", \"Topic9\", \"Topic9\", \"Topic9\", \"Topic9\", \"Topic9\", \"Topic9\", \"Topic9\", \"Topic10\", \"Topic10\", \"Topic10\", \"Topic10\", \"Topic10\", \"Topic10\", \"Topic10\", \"Topic10\", \"Topic10\", \"Topic10\", \"Topic10\", \"Topic10\", \"Topic10\", \"Topic10\", \"Topic10\", \"Topic10\", \"Topic10\", \"Topic10\", \"Topic10\", \"Topic10\", \"Topic10\", \"Topic10\", \"Topic10\", \"Topic10\", \"Topic10\", \"Topic10\", \"Topic10\", \"Topic10\", \"Topic10\", \"Topic10\", \"Topic10\", \"Topic10\", \"Topic10\", \"Topic10\", \"Topic10\", \"Topic10\", \"Topic10\"], \"Freq\": [1675.0, 604.0, 84.0, 606.0, 302.0, 282.0, 379.0, 116.0, 49.0, 44.0, 248.0, 41.0, 266.0, 1621.0, 51.0, 40.0, 436.0, 146.0, 311.0, 282.0, 248.0, 233.0, 127.0, 1378.0, 221.0, 205.0, 386.0, 160.0, 275.0, 48.0, 233.07472596082866, 221.26524652801493, 208.27856488844543, 168.75549150959716, 149.9728973236831, 141.84851159781567, 139.6432297092765, 131.80058361337927, 116.82083409143712, 131.13771324284062, 112.42516719868104, 110.37908935792933, 102.86414398077086, 102.26133243822177, 100.64047150945427, 100.19333957988738, 97.38933408335524, 91.57855538903851, 89.96014312282468, 88.22858010664206, 87.81581141642641, 86.25405648879708, 140.72625573949182, 82.99313465793344, 82.17594731926462, 79.86268863301441, 77.22633968053232, 76.26444560584767, 108.64300809828998, 126.4837073279492, 1642.1202375492062, 181.07578858927275, 270.8538188380758, 255.1362534787332, 226.751746483898, 369.903202696507, 163.21445502328277, 466.66250307662256, 157.5261504384487, 1175.6259647618347, 233.50155140846528, 220.93243332971855, 489.9173386487069, 230.14434283835803, 135.09034638603592, 1076.798271950834, 230.52379332512396, 599.402553474603, 561.5076665212831, 707.1881710883642, 244.86977980002086, 198.65792339689634, 457.85006366407885, 931.1646095812229, 388.11428518966864, 436.1058582240476, 273.57769467003845, 388.42029629072505, 452.103554677708, 431.1650924086785, 441.69352175338156, 276.151331222977, 377.4579106651748, 299.9621258946906, 292.3147580760846, 245.76144131485077, 231.90213420657975, 302.47185994062636, 281.88078047559327, 146.23700399416296, 126.56968549205148, 109.36694575415456, 105.43782325655978, 99.95510052712432, 98.5755380035104, 96.51908796153027, 88.30443145101034, 82.31469704604667, 67.46564369472429, 66.63612764788758, 66.29510204799152, 66.08851150260784, 63.66973799386839, 63.10180106156406, 63.19742502071237, 60.67030077872338, 59.95248722002582, 58.52523330580519, 58.02861701767453, 55.490330566136116, 55.13144543096098, 52.98720662069078, 52.11536075426082, 58.03330452728033, 49.32960409737948, 48.53849409065727, 47.473523446873486, 570.6551436793217, 111.80317683494832, 101.51240500468252, 523.0766985547084, 225.7518725784365, 90.8847818080087, 330.24370939776963, 143.83377100209813, 224.36051088816313, 121.4551054200601, 167.7396865805807, 195.48632985150599, 229.9101759546471, 287.0652403081988, 172.96341512822153, 106.20427436545468, 689.5697178378342, 167.47009912180093, 114.47925009588876, 375.4147782170781, 152.90138110748376, 232.3520097843892, 339.5837516247565, 121.62390523826564, 168.990855866153, 267.14537758803783, 251.6876777058162, 301.8124670986121, 191.916735630246, 199.74540850019156, 175.09380785141076, 184.22412421986073, 163.96014387499778, 183.60296117254705, 196.94686632073768, 202.41514929432947, 33.31328477326629, 31.397998923927563, 30.199731591587792, 26.56128592662137, 25.22547496616927, 24.51766335043645, 23.364978438623893, 23.19957241468749, 19.784537121029878, 19.28345391045907, 18.284330374532896, 17.463518173439674, 15.021841002495481, 14.0856121651808, 13.960979933735452, 13.851175247247033, 13.246198372067735, 12.622510361000836, 12.435852826719833, 11.076582960048277, 10.83525781938254, 10.371190872759616, 10.362662100198639, 10.306260918636884, 10.257055725911744, 9.97847523745977, 9.913601794062467, 21.155678587020507, 9.319445418709256, 9.146655616448655, 23.1433955372359, 10.03230996269125, 10.27169808956842, 40.555743845820224, 22.892468129977566, 20.38435956396683, 19.709047601432925, 18.319376774780636, 16.41121660845823, 14.083077348416394, 14.026130918509429, 13.189784387561359, 11.442873769206143, 10.61254666574272, 10.347594288774896, 8.852281682922595, 8.140488517085098, 7.460443697006946, 6.8200382125507435, 6.407045127460131, 6.192382255855467, 5.979292455787827, 5.234165469987437, 5.18503106629956, 4.941087152728707, 4.764325589744242, 4.74305046901708, 4.645360039323401, 4.47246232038231, 4.2271119444280245, 4.102518477362367, 4.060460208346691, 4.040443544849148, 24.082646199868712, 7.264615514780414, 14.139736036460082, 8.902280965889172, 5.4261153383929885, 5.024506247479387, 44.14962834579839, 16.178433687693285, 14.268771658571385, 14.082749096292565, 13.366621208905649, 12.181919996904904, 11.965052181001392, 10.586838359090558, 10.053690026125397, 9.89759788406738, 9.085763296101293, 9.04129370296213, 8.910932759018616, 8.770413704499882, 8.534831631656246, 7.7664809983774665, 7.480813204726149, 6.8185703726527525, 6.642685001275889, 6.498628912769932, 6.271744194085731, 6.261490738076595, 6.26116085092128, 6.2433308524779605, 6.152864932352784, 6.053161367275995, 5.751561230927231, 5.304245512760716, 5.291666352306616, 5.154956287527533, 5.331557755412273, 13.592116156383367, 13.547383400774763, 11.812035404238102, 9.174993332674278, 8.741841163405194, 8.255381553570864, 7.704330777933157, 7.225348705934829, 6.402295335690979, 6.063406981260286, 5.6477240057309395, 5.28081936797, 5.056533447424324, 4.876333538151801, 4.211929344756067, 3.8116932449987266, 3.448114585788063, 3.4191364654176013, 3.3050639171622174, 3.1647513852162743, 2.965529528064327, 2.800197641824655, 2.612835997089147, 2.5966536684499424, 2.584206323831385, 2.5674725829588456, 2.5568214086910874, 2.4976596781427536, 2.4955394259559744, 2.473243778420984, 3.208532475696306, 3.833740412481365, 3.2594651844785747, 3.2137873163358313, 2.694805547437309, 2.137559986574637, 1.7475361036231825, 1.7417563354061971, 1.580983789154509, 1.5261513217024043, 1.3995364057821882, 1.306212372736639, 1.1489652198068616, 1.0413135226569343, 0.9708977159645937, 0.8497078907673322, 0.7542612371511724, 0.7517868097667788, 0.7509677255009803, 0.7239585839307193, 0.6676101498354854, 0.6489763168763567, 0.5836043943678939, 0.5442029716194449, 0.38834032797525453, 0.37386663038690526, 0.357952296764681, 0.3463242599606663, 0.31826368225526175, 0.28351115293697704, 0.2643182055051555, 0.5733159753497336, 0.5045632824104511, 4.804732498383569, 3.0520927448959587, 2.9568577972201764, 2.9550975574788243, 2.2965201048206003, 2.249299027221181, 2.2200443503208214, 1.6514578603908456, 1.560107395483306, 8.197142267316552, 0.6157836067626634, 0.6155692539104569, 0.562617545686576, 0.4328143080114917, 0.3912233844415464, 0.37398060724647897, 0.18902845068953114, 0.17999094205164295, 0.16149030809016113, 0.06882247062671672, 0.06874726971858625, 0.06867294020593577, 0.06860383384822831, 0.06859709227361656, 0.06818446825105608, 0.06816347649048095, 0.06808747202005154, 0.06765267698315258, 0.03496342871495532, 0.03241663975828728, 4.873288435956916, 1.4409787243372005, 1.2515329603996785, 0.9768586475610436, 0.8253534744428269, 0.6588850356692564, 0.6066977849322872, 0.6065731706681329, 0.5585799300567361, 0.22134812134306944, 0.15466052954444226, 0.15466052954444226, 0.9874410111821146, 0.1539985641833442, 0.07226584937079888, 0.06859120295430123, 0.052547086956911224, 0.057775924775968227, 0.05743563141063294, 0.042019765479907135, 5.122112631376282, 0.02643818520952853, 0.02643818520952853, 0.02643818520952853, 0.02643818520952853, 0.02643818520952853, 0.02643818520952853, 0.02643818520952853, 0.02643818520952853, 0.02600830506916157, 0.026366536062173943, 3.2930668318101723, 2.5715980127021165, 1.6545138482525363, 0.9629241701372743, 0.9234814349458814, 0.8962570354953211, 0.8154795215063357, 0.6778706736660691, 0.47489946465199834, 0.4183957916937518, 0.3735261453641931, 0.35631113035457435, 0.3210553896901075, 0.25167933192662073, 0.23310523199999575, 0.21237797273529024, 0.16035272159052127, 0.01945327949195878, 0.01945327949195878, 0.018731847607752816, 0.01857885639916058, 0.01780535818606888, 0.01780535818606888, 0.01780535818606888, 0.01749492773654734, 0.01749492773654734, 0.01749492773654734, 0.01749492773654734, 0.01749492773654734, 0.01749492773654734, 0.018021936776647655, 0.018021936776647655, 0.018021936776647655, 0.018021936776647655, 0.018021936776647655, 0.01779939555001995, 0.01800694171288943], \"Total\": [1675.0, 604.0, 84.0, 606.0, 302.0, 282.0, 379.0, 116.0, 49.0, 44.0, 248.0, 41.0, 266.0, 1621.0, 51.0, 40.0, 436.0, 146.0, 311.0, 282.0, 248.0, 233.0, 127.0, 1378.0, 221.0, 205.0, 386.0, 160.0, 275.0, 48.0, 233.5291196255766, 221.72151958509966, 208.7496981600197, 169.20937491364862, 150.42652707603787, 142.3024043189433, 140.11605627099487, 132.2542143929742, 117.27447038834977, 131.66578381751484, 112.87878401743939, 110.83345714423177, 103.31777322891651, 102.71496925755933, 101.09409794800833, 100.64698225611461, 97.84297014737723, 92.03219958805698, 90.41403539937825, 88.68221058714597, 88.27228465729999, 86.71049470334606, 141.48212439242627, 83.44777267539521, 82.6295835834401, 80.3163336720091, 77.67996585907696, 76.71808120708178, 109.30099120009542, 127.29102720747727, 1675.7238820570924, 182.70290838913854, 275.9408834249013, 259.8425482236177, 232.62588678737765, 386.01431801493163, 167.51501225486928, 500.6693568700152, 162.02044758563363, 1378.38800869833, 247.20292571963753, 234.79561757517743, 553.7721274094803, 246.15079083582256, 139.1802091956231, 1378.957631626903, 250.95174514265855, 730.8745593799916, 686.5693034725454, 904.4819298795325, 274.06099367270855, 218.81840299721375, 641.7999156573005, 1621.0812154949679, 536.897935363158, 636.1981704829844, 343.9438184339826, 572.9913224553736, 719.5958292002662, 683.1996652952524, 781.6241641249981, 391.1813898841478, 753.2195787851639, 492.22575748493665, 467.75545685476806, 410.0684699581489, 326.91162595238154, 302.9254055279394, 282.3382431742728, 146.69104921811183, 127.02507738063272, 109.82053410721477, 105.89137697126142, 100.41182983798802, 99.03003140016548, 96.97264577777952, 88.75824209859105, 82.76824975261144, 67.91942011717602, 67.08970553217762, 66.74865936075089, 66.54207178212418, 64.12329667642689, 63.555362414565074, 63.6519959415362, 61.12385334791035, 60.406056378672936, 58.97882470756716, 58.482187710966166, 55.94390624985554, 55.58502854562694, 53.44078348132015, 52.56897442592459, 58.54235155097578, 49.783193481291754, 48.992101570306396, 47.927097602080586, 604.1528590634487, 116.25455987198721, 105.59267965400124, 606.2656682223179, 248.15774293570186, 94.49355463417322, 379.74500929179004, 160.17102925735247, 266.1455131771518, 139.74199525767176, 205.25198142975563, 248.80876804172405, 311.6889506663696, 436.33448207741435, 229.4969887669769, 126.20321705412067, 1621.0812154949679, 235.48646587467192, 140.72821180536158, 753.2195787851639, 216.78377212623136, 413.2489684446391, 781.6241641249981, 154.6288911903705, 288.92515051148877, 719.5958292002662, 683.1996652952524, 1378.957631626903, 492.22575748493665, 636.1981704829844, 467.75545685476806, 572.9913224553736, 410.0684699581489, 641.7999156573005, 904.4819298795325, 1378.38800869833, 33.7916737410455, 31.87640255549509, 30.678164531798195, 27.039685200108924, 25.703898996025174, 24.996038021291188, 23.843398680745, 23.6779319234212, 20.263044177522254, 19.76183159470669, 18.762716666019326, 17.941899354864944, 15.50025784960206, 14.56409243931932, 14.439364434584336, 14.329519390545366, 13.72457407190058, 13.100933976023587, 12.914229832696904, 11.554971484738944, 11.31385712340669, 10.849693059208128, 10.841025807903435, 10.784632475493476, 10.735423704856732, 10.45680803776931, 10.391965477209913, 22.178570660222608, 9.79787308554681, 9.625092367210021, 51.91669594793666, 15.778654725285948, 116.23323937943509, 41.05150202613427, 23.38824972178125, 20.88028365197745, 20.204908937663717, 18.815217981945114, 16.907126803440793, 14.578984287724415, 14.521922305324622, 13.685565214667236, 11.938715525107233, 11.108413070839566, 10.843483847725388, 9.348161280416662, 8.636320394359993, 7.95623919985247, 7.3158810962356435, 6.90284757620749, 6.688185853019751, 6.47517786400947, 5.729955437021002, 5.680827758791809, 5.437000876578783, 5.260134705638501, 5.238790419896601, 5.1411399707573935, 4.968296654250172, 4.722853999739422, 4.5983378014720335, 4.556776852397902, 4.536195655917153, 49.08843293332997, 10.69217522169908, 29.119833342893852, 40.53796772121734, 25.489264177894245, 13.693740329100788, 44.646352083646754, 16.67516796523935, 14.7656132593443, 14.579553777648092, 13.86336078398165, 12.67876016981647, 12.461877508938663, 11.083599769573057, 10.550586208583587, 10.394333792282525, 9.582579686332043, 9.538041729255081, 9.407624551895442, 9.26710168151064, 9.031640483769186, 8.263114234931322, 7.977620900742175, 7.315273594136274, 7.139410833430697, 6.9953672334247265, 6.7684989314065955, 6.758263700473587, 6.757971578530617, 6.740029253173492, 6.649640585897132, 6.549991748194145, 6.248681914959162, 5.800958611433377, 5.788378259027096, 5.651700025926614, 15.778654725285948, 14.102473191430187, 14.057620731891431, 12.322494997435893, 9.685342056802293, 9.252245434806296, 8.765793825385103, 8.214667114090751, 7.735531901087187, 6.912612802648665, 6.573716365891686, 6.1579031356176035, 5.791125457378309, 5.566870989910368, 5.386731801758386, 4.722335828103334, 4.322252935254304, 3.9584140078599868, 3.92941156079282, 3.8152731669516626, 3.6751556983856744, 3.476206220200195, 3.310435841055882, 3.1231269379504822, 3.1072180620462366, 3.0943917310084808, 3.0777890229633615, 3.067051177311687, 3.0079071405669433, 3.005845536511841, 2.98370909490652, 15.781355872105099, 4.365406791769, 3.7910557656772417, 3.7454734962224254, 3.227323540940229, 2.669090819224548, 2.279307136495423, 2.273173333202013, 2.1125444024342643, 2.0576951214488237, 1.9310910535474213, 1.8378359562063906, 1.6810952457855113, 1.5728285152593233, 1.5023918729201065, 1.3811702454282035, 1.2857275917593287, 1.2833117647356869, 1.2825091253476602, 1.25588894417066, 1.1990587340719756, 1.1808707805143586, 1.115971293995136, 1.075604139496782, 0.919770628627506, 0.9053157534941485, 0.8894026998152977, 0.8777910007695158, 0.8497186544277756, 0.8149634590619499, 0.7957207016706471, 22.178570660222608, 28.45410005286423, 5.341362275481012, 3.588626648982766, 3.493411908261837, 3.4916019046824296, 2.8330715484310915, 2.7858131214342823, 2.756488696128857, 2.188007928907078, 2.096717882425957, 13.693740329100788, 1.1522714535084722, 1.152083688029656, 1.0991478676509863, 0.9704610388917885, 0.9276277491754381, 0.9104445813887377, 0.7254993741847049, 0.7428517234209437, 0.6979865424955358, 0.6052675030813637, 0.6051985798527757, 0.6051304622624223, 0.6050671360864612, 0.6050609458473386, 0.6046828721046467, 0.6046636364765077, 0.6045940053059589, 0.6041957041112451, 0.5988753715910865, 0.5855111943724023, 5.415607961732552, 1.9834322022549797, 1.793868956794584, 1.5191636836050222, 1.3678648544839156, 1.2011438551789795, 1.1496473697064853, 1.1734155451102484, 1.1011724835845678, 0.763844854555571, 0.7063644926852002, 0.7063644926852002, 4.558712023270684, 0.7233005101540617, 0.6146207806274149, 0.611709108610535, 0.5953496766107506, 0.6549760378960637, 0.7656830989093345, 0.5980172719168423, 84.52691867795471, 0.5942217930132132, 0.5942217930132132, 0.5942217930132132, 0.5942217930132132, 0.5942217930132132, 0.5942217930132132, 0.5942217930132132, 0.5942217930132132, 0.5912078518878673, 0.6218373051959541, 3.8371697811238223, 3.1158990287914134, 2.198747061393096, 1.5070664122146966, 1.4676804350211783, 1.4405259117729123, 1.3599493614441007, 1.2222199536322644, 1.0193196819885482, 0.9627287046231163, 0.917704119281195, 0.9005133290867198, 0.8651404553924316, 0.7957477490537826, 0.7772385902429142, 0.7565212320062368, 0.7044964367229879, 0.5888194829180552, 0.5888194829180552, 0.5726927070477069, 0.5924307320727534, 0.5829693698572138, 0.5829693698572138, 0.5829693698572138, 0.5734516556994543, 0.5734516556994543, 0.5734516556994543, 0.5734516556994543, 0.5734516556994543, 0.5734516556994543, 0.5975854736051303, 0.5975854736051303, 0.5975854736051303, 0.5975854736051303, 0.5975854736051303, 0.5954437885076838, 0.6434449780892022], \"logprob\": [30.0, 29.0, 28.0, 27.0, 26.0, 25.0, 24.0, 23.0, 22.0, 21.0, 20.0, 19.0, 18.0, 17.0, 16.0, 15.0, 14.0, 13.0, 12.0, 11.0, 10.0, 9.0, 8.0, 7.0, 6.0, 5.0, 4.0, 3.0, 2.0, 1.0, -5.2407, -5.2927, -5.3532, -5.5636, -5.6816, -5.7373, -5.7529, -5.8107, -5.9314, -5.8158, -5.9697, -5.9881, -6.0586, -6.0645, -6.0805, -6.0849, -6.1133, -6.1748, -6.1927, -6.2121, -6.2168, -6.2347, -5.7452, -6.2733, -6.2832, -6.3117, -6.3453, -6.3578, -6.004, -5.8519, -3.2883, -5.4931, -5.0905, -5.1502, -5.2682, -4.7788, -5.597, -4.5464, -5.6324, -3.6225, -5.2388, -5.2942, -4.4978, -5.2533, -5.7861, -3.7103, -5.2517, -4.2961, -4.3614, -4.1307, -5.1913, -5.4004, -4.5655, -3.8556, -4.7307, -4.6141, -5.0804, -4.7299, -4.5781, -4.6255, -4.6014, -5.0711, -4.7586, -4.9884, -5.0142, -5.1877, -5.2457, -4.4752, -4.5457, -5.2019, -5.3464, -5.4925, -5.5291, -5.5825, -5.5963, -5.6174, -5.7064, -5.7766, -5.9756, -5.9879, -5.9931, -5.9962, -6.0335, -6.0424, -6.0409, -6.0817, -6.0936, -6.1177, -6.1262, -6.171, -6.1775, -6.2171, -6.2337, -6.1262, -6.2886, -6.3048, -6.327, -3.8404, -5.4704, -5.567, -3.9274, -4.7677, -5.6776, -4.3873, -5.2185, -4.7739, -5.3876, -5.0648, -4.9117, -4.7495, -4.5275, -5.0341, -5.5218, -3.6511, -5.0664, -5.4468, -4.2591, -5.1574, -4.7389, -4.3595, -5.3862, -5.0573, -4.5994, -4.659, -4.4774, -4.9301, -4.8901, -5.0219, -4.971, -5.0875, -4.9744, -4.9042, -4.8769, -4.0261, -4.0854, -4.1243, -4.2526, -4.3042, -4.3327, -4.3809, -4.388, -4.5472, -4.5728, -4.6261, -4.672, -4.8226, -4.8869, -4.8958, -4.9037, -4.9484, -4.9966, -5.0115, -5.1273, -5.1493, -5.1931, -5.1939, -5.1993, -5.2041, -5.2317, -5.2382, -4.4802, -5.3, -5.3187, -4.3904, -5.2263, -5.2027, -3.0861, -3.658, -3.774, -3.8077, -3.8808, -3.9908, -4.1438, -4.1478, -4.2093, -4.3514, -4.4267, -4.452, -4.6081, -4.6919, -4.7792, -4.8689, -4.9314, -4.9654, -5.0005, -5.1336, -5.143, -5.1912, -5.2276, -5.2321, -5.2529, -5.2908, -5.3472, -5.3772, -5.3875, -5.3924, -3.6073, -4.8058, -4.1398, -4.6025, -5.0975, -5.1744, -2.9739, -3.9778, -4.1034, -4.1165, -4.1687, -4.2615, -4.2795, -4.4019, -4.4536, -4.4692, -4.5548, -4.5597, -4.5742, -4.5901, -4.6173, -4.7117, -4.7492, -4.8418, -4.868, -4.8899, -4.9254, -4.9271, -4.9271, -4.93, -4.9446, -4.9609, -5.012, -5.093, -5.0954, -5.1215, -5.0879, -3.621, -3.6243, -3.7614, -4.014, -4.0624, -4.1196, -4.1887, -4.2529, -4.3738, -4.4282, -4.4992, -4.5664, -4.6098, -4.6461, -4.7926, -4.8924, -4.9927, -5.0011, -5.035, -5.0784, -5.1434, -5.2008, -5.27, -5.2763, -5.2811, -5.2876, -5.2917, -5.3151, -5.316, -5.325, -5.0647, -4.0155, -4.1777, -4.1919, -4.368, -4.5996, -4.8011, -4.8044, -4.9013, -4.9366, -5.0232, -5.0922, -5.2204, -5.3188, -5.3888, -5.5222, -5.6413, -5.6446, -5.6457, -5.6823, -5.7634, -5.7917, -5.8978, -5.9677, -6.3052, -6.3432, -6.3867, -6.4197, -6.5042, -6.6198, -6.6899, -5.9156, -6.0434, -3.6194, -4.0732, -4.1049, -4.1055, -4.3576, -4.3784, -4.3915, -4.6873, -4.7442, -3.0852, -5.6738, -5.6742, -5.7641, -6.0264, -6.1275, -6.1725, -6.8548, -6.9038, -7.0123, -7.8652, -7.8663, -7.8674, -7.8684, -7.8685, -7.8745, -7.8748, -7.8759, -7.8824, -8.5424, -8.6181, -3.2576, -4.4761, -4.617, -4.8648, -5.0334, -5.2586, -5.3411, -5.3413, -5.4238, -6.3494, -6.7079, -6.7079, -4.854, -6.7122, -7.4688, -7.521, -7.7875, -7.6926, -7.6985, -8.011, -3.2078, -8.4744, -8.4744, -8.4744, -8.4744, -8.4744, -8.4744, -8.4744, -8.4744, -8.4908, -8.4771, -3.5227, -3.77, -4.211, -4.7523, -4.7941, -4.8241, -4.9185, -5.1033, -5.4592, -5.5859, -5.6993, -5.7465, -5.8507, -6.0941, -6.1708, -6.2639, -6.5449, -8.6543, -8.6543, -8.6921, -8.7003, -8.7428, -8.7428, -8.7428, -8.7604, -8.7604, -8.7604, -8.7604, -8.7604, -8.7604, -8.7307, -8.7307, -8.7307, -8.7307, -8.7307, -8.7431, -8.7315], \"Term\": [\"anxiety\", \"people\", \"drive\", \"want\", \"friend\", \"talk\", \"say\", \"therapist\", \"breathe\", \"relax\", \"s\", \"breath\", \"good\", \"be\", \"least\", \"slowly\", \"even\", \"live\", \"need\", \"find\", \"lot\", \"thought\", \"call\", \"feel\", \"week\", \"depression\", \"bad\", \"ask\", \"anxious\", \"psychiatrist\", \"thought\", \"week\", \"experience\", \"feeling\", \"panic_attack\", \"situation\", \"attack\", \"pretty\", \"better\", \"cause\", \"symptom\", \"medication\", \"body\", \"next\", \"stress\", \"heart\", \"big\", \"med\", \"normal\", \"share\", \"trigger\", \"therapy\", \"sure\", \"brain\", \"bit\", \"learn\", \"pain\", \"couple\", \"control\", \"hour\", \"anxiety\", \"today\", \"anxious\", \"back\", \"happen\", \"bad\", \"mind\", \"start\", \"little\", \"feel\", \"well\", \"first\", \"really\", \"fear\", \"head\", \"go\", \"still\", \"have\", \"help\", \"get\", \"come\", \"last\", \"would\", \"be\", \"work\", \"thing\", \"much\", \"take\", \"time\", \"make\", \"think\", \"life\", \"know\", \"try\", \"day\", \"year\", \"see\", \"friend\", \"talk\", \"live\", \"call\", \"eat\", \"hate\", \"understand\", \"alone\", \"parent\", \"cry\", \"happy\", \"house\", \"play\", \"break\", \"girl\", \"shit\", \"group\", \"hold\", \"rant\", \"kill\", \"phone\", \"close\", \"stay\", \"watch\", \"money\", \"send\", \"room\", \"case\", \"catch\", \"tonight\", \"people\", \"place\", \"family\", \"want\", \"s\", \"love\", \"say\", \"ask\", \"good\", \"lose\", \"depression\", \"lot\", \"need\", \"even\", \"leave\", \"person\", \"be\", \"always\", \"home\", \"know\", \"give\", \"can\", \"think\", \"sometimes\", \"tell\", \"time\", \"make\", \"go\", \"try\", \"thing\", \"day\", \"take\", \"year\", \"would\", \"get\", \"feel\", \"create\", \"goal\", \"amount\", \"coffee\", \"quit\", \"subreddit\", \"comfortable\", \"note\", \"super\", \"meditation\", \"rid\", \"caffeine\", \"diet\", \"personally\", \"somehow\", \"comfort\", \"weed\", \"finger\", \"technique\", \"burn\", \"bully\", \"battle\", \"website\", \"muscle\", \"twitch\", \"sufferer\", \"perfectly\", \"cbt\", \"honest\", \"extreme\", \"least\", \"easily\", \"therapist\", \"breath\", \"breathing\", \"absolutely\", \"around\", \"leg\", \"exist\", \"major\", \"middle\", \"water\", \"vision\", \"suggestion\", \"repeat\", \"wave\", \"inner\", \"pot\", \"woman\", \"empty\", \"shallow\", \"favorite\", \"cool\", \"friendship\", \"shape\", \"discomfort\", \"belly\", \"air\", \"lexapro\", \"rate\", \"button\", \"helpless\", \"deeply\", \"breathe\", \"slow\", \"sensation\", \"slowly\", \"deep\", \"sound\", \"relax\", \"silly\", \"large\", \"male\", \"psychologist\", \"rush\", \"flight\", \"routine\", \"touch\", \"adult\", \"cloud\", \"necessary\", \"chair\", \"site\", \"seat\", \"ocd\", \"habit\", \"suspect\", \"copy\", \"lock\", \"shy\", \"panicky\", \"particular\", \"useless\", \"exhausted\", \"belong\", \"track\", \"creep\", \"title\", \"steal\", \"easily\", \"visit\", \"event\", \"reward\", \"roommate\", \"coworker\", \"luck\", \"clear\", \"cold\", \"baby\", \"piss\", \"couch\", \"ear\", \"admit\", \"adrenaline\", \"guilt\", \"knowing\", \"tremble\", \"promise\", \"addict\", \"tension\", \"refill\", \"traumatic\", \"wordpress\", \"chill\", \"release\", \"tooth\", \"downstairs\", \"rolling\", \"jittery\", \"feedback\", \"fly\", \"acceptance\", \"cognitive_behavioral\", \"key\", \"forum\", \"gut\", \"recovery\", \"mindfulness\", \"relation\", \"claim\", \"available\", \"decent\", \"neat\", \"mere\", \"fish_oil\", \"theory\", \"merely\", \"perceive\", \"reveal\", \"lovely\", \"christian\", \"stimulus\", \"anticipate\", \"modality\", \"nih_gov\", \"psychotherapy\", \"discourse\", \"oppose\", \"portion\", \"literal\", \"ncbi_nlm\", \"cbt\", \"http_www\", \"roll\", \"chat\", \"window\", \"interested\", \"scream\", \"coyote\", \"anyone_else\", \"friendly\", \"primal\", \"sound\", \"bf\", \"embarrassment\", \"announce\", \"calmly\", \"comic_strip\", \"unexpectedly\", \"noticed\", \"folly\", \"atmosphere\", \"concussion\", \"filling\", \"rend\", \"bury\", \"shout\", \"explosion\", \"obscenity\", \"erupt\", \"fragile\", \"flirt\", \"innocence\", \"cop\", \"mile\", \"gas\", \"unstable\", \"crappy\", \"highway\", \"nicely\", \"abandon\", \"pin\", \"humiliating\", \"keyhole\", \"familys\", \"driving\", \"apple\", \"deviate\", \"rural\", \"unkown\", \"backfire\", \"flashback\", \"plead\", \"drive\", \"speeddial\", \"likelyhood\", \"legitly\", \"dail\", \"unclear\", \"procaution\", \"unfortunate\", \"tramtic\", \"correlation\", \"messy\", \"round\", \"willing\", \"connect\", \"please\", \"regard\", \"lurk\", \"solid\", \"negatively\", \"fearful\", \"tourist\", \"shortly\", \"bounced\", \"liar\", \"avoidant\", \"accompany\", \"herbal\", \"confrontation\", \"zine\", \"artwork\", \"disclosure\", \"pleasing\", \"opposed\", \"monument\", \"accost\", \"participant\", \"layout\", \"spruce\", \"informal\", \"contributor\", \"poetry\", \"neuron\", \"radioactive\", \"ackowledge\", \"glow\", \"screaming\", \"horrendously\", \"definetly\"], \"loglift\": [30.0, 29.0, 28.0, 27.0, 26.0, 25.0, 24.0, 23.0, 22.0, 21.0, 20.0, 19.0, 18.0, 17.0, 16.0, 15.0, 14.0, 13.0, 12.0, 11.0, 10.0, 9.0, 8.0, 7.0, 6.0, 5.0, 4.0, 3.0, 2.0, 1.0, 0.5355, 0.5354, 0.5352, 0.5348, 0.5345, 0.5343, 0.5341, 0.534, 0.5336, 0.5335, 0.5335, 0.5334, 0.5331, 0.5331, 0.533, 0.533, 0.5328, 0.5325, 0.5324, 0.5324, 0.5323, 0.5322, 0.5321, 0.532, 0.532, 0.5318, 0.5316, 0.5316, 0.5314, 0.5311, 0.5172, 0.5285, 0.5189, 0.5192, 0.5119, 0.4948, 0.5115, 0.4671, 0.5094, 0.3784, 0.4805, 0.4766, 0.415, 0.4702, 0.5077, 0.2901, 0.4526, 0.3392, 0.3364, 0.2914, 0.4249, 0.4408, 0.1997, -0.0169, 0.213, 0.1599, 0.3086, 0.1487, 0.0727, 0.0772, -0.0333, 0.1893, -0.1534, 0.0422, 0.0674, 0.0255, 0.1941, 1.0408, 1.0407, 1.0392, 1.0388, 1.0382, 1.038, 1.0378, 1.0377, 1.0377, 1.0372, 1.0368, 1.0356, 1.0356, 1.0355, 1.0355, 1.0352, 1.0352, 1.0352, 1.0349, 1.0348, 1.0346, 1.0346, 1.0342, 1.0341, 1.0338, 1.0337, 1.0336, 1.0332, 1.033, 1.0328, 0.9853, 1.0033, 1.0029, 0.8948, 0.9477, 1.0034, 0.9027, 0.9348, 0.8716, 0.9021, 0.8405, 0.8011, 0.738, 0.6236, 0.7595, 0.8698, 0.1876, 0.7015, 0.8359, 0.346, 0.6932, 0.4665, 0.2087, 0.8022, 0.506, 0.0514, 0.0437, -0.4769, 0.1005, -0.1161, 0.0597, -0.0924, 0.1256, -0.2092, -0.4821, -0.876, 3.6832, 3.6823, 3.6817, 3.6796, 3.6786, 3.6781, 3.6771, 3.677, 3.6735, 3.6729, 3.6716, 3.6704, 3.6661, 3.664, 3.6637, 3.6635, 3.6619, 3.6602, 3.6597, 3.6551, 3.6542, 3.6523, 3.6523, 3.652, 3.6518, 3.6506, 3.6503, 3.6502, 3.6474, 3.6464, 2.8895, 3.2446, 1.2712, 4.4286, 4.4193, 4.4167, 4.4159, 4.414, 4.411, 4.4061, 4.406, 4.4038, 4.3983, 4.3951, 4.3939, 4.3862, 4.3816, 4.3764, 4.3706, 4.3662, 4.3637, 4.3611, 4.3502, 4.3494, 4.3451, 4.3417, 4.3413, 4.3393, 4.3356, 4.3299, 4.3267, 4.3254, 4.325, 3.7286, 4.0543, 3.7183, 2.9248, 2.8937, 3.4381, 4.4568, 4.4378, 4.4338, 4.4333, 4.4315, 4.428, 4.4273, 4.4222, 4.4198, 4.419, 4.4148, 4.4145, 4.4138, 4.4129, 4.4114, 4.406, 4.4037, 4.3977, 4.3959, 4.3944, 4.3918, 4.3917, 4.3917, 4.3915, 4.3904, 4.3891, 4.3851, 4.3785, 4.3783, 4.376, 3.383, 4.9622, 4.9621, 4.9567, 4.9449, 4.9423, 4.939, 4.9349, 4.9308, 4.9223, 4.9182, 4.9125, 4.9068, 4.9029, 4.8995, 4.8846, 4.8733, 4.861, 4.8599, 4.8555, 4.8495, 4.8401, 4.8316, 4.8206, 4.8195, 4.8189, 4.8177, 4.8171, 4.8131, 4.813, 4.8114, 3.406, 5.7403, 5.7191, 5.7171, 5.6899, 5.6481, 5.6045, 5.6039, 5.5804, 5.5714, 5.5483, 5.5288, 5.4896, 5.4578, 5.4336, 5.3844, 5.3369, 5.3355, 5.335, 5.3193, 5.2846, 5.2716, 5.222, 5.1889, 5.008, 4.9858, 4.9601, 4.9402, 4.8882, 4.8143, 4.7681, 2.2148, 1.8379, 5.9346, 5.8786, 5.8738, 5.8737, 5.8306, 5.8266, 5.8241, 5.7592, 5.7449, 5.5274, 5.4139, 5.4137, 5.3708, 5.2331, 5.1772, 5.1508, 4.6956, 4.6229, 4.5768, 3.8664, 3.8654, 3.8644, 3.8635, 3.8634, 3.858, 3.8578, 3.8568, 3.851, 3.1998, 3.1467, 6.2826, 6.0686, 6.0281, 5.9465, 5.8829, 5.7876, 5.7489, 5.7283, 5.7094, 5.1495, 4.8692, 4.8692, 4.8584, 4.8412, 4.2474, 4.2, 3.9607, 3.9601, 3.798, 3.7326, 3.5846, 3.2757, 3.2757, 3.2757, 3.2757, 3.2757, 3.2757, 3.2757, 3.2757, 3.2644, 3.2275, 6.3621, 6.323, 6.2306, 6.067, 6.0517, 6.0404, 6.0036, 5.9255, 5.7512, 5.6816, 5.6161, 5.5878, 5.5237, 5.3639, 5.3107, 5.2446, 5.0349, 3.1049, 3.1049, 3.0949, 3.0528, 3.0263, 3.0263, 3.0263, 3.0252, 3.0252, 3.0252, 3.0252, 3.0252, 3.0252, 3.0137, 3.0137, 3.0137, 3.0137, 3.0137, 3.0048, 2.9389]}, \"plot.opts\": {\"xlab\": \"PC1\", \"ylab\": \"PC2\"}, \"mdsDat\": {\"y\": [-0.0018586623572902836, -0.007279952184304423, -0.28572900425384934, 0.08835345197925251, 0.06740779610144715, 0.04377767151422229, 0.02210671473942586, 0.028268411763478038, 0.022963640549626754, 0.021989932147991338], \"x\": [0.36340702391841345, 0.35512931495793815, -0.10781354444289731, -0.10114565396979242, -0.10471752845259184, -0.09444067166694758, -0.07977322170749566, -0.0807701695346138, -0.0743771951517275, -0.07549835395028547], \"cluster\": [1, 1, 1, 1, 1, 1, 1, 1, 1, 1], \"Freq\": [58.421785505782374, 35.26279660169211, 2.478741951789471, 1.1787117242021, 1.1470050893579344, 0.6744471359138144, 0.2822283355496801, 0.23803049829343076, 0.16814426209045302, 0.14810889532862506], \"topics\": [1, 2, 3, 4, 5, 6, 7, 8, 9, 10]}};\n",
       "\n",
       "function LDAvis_load_lib(url, callback){\n",
       "  var s = document.createElement('script');\n",
       "  s.src = url;\n",
       "  s.async = true;\n",
       "  s.onreadystatechange = s.onload = callback;\n",
       "  s.onerror = function(){console.warn(\"failed to load library \" + url);};\n",
       "  document.getElementsByTagName(\"head\")[0].appendChild(s);\n",
       "}\n",
       "\n",
       "if(typeof(LDAvis) !== \"undefined\"){\n",
       "   // already loaded: just create the visualization\n",
       "   !function(LDAvis){\n",
       "       new LDAvis(\"#\" + \"ldavis_el131121399332019812569618303225\", ldavis_el131121399332019812569618303225_data);\n",
       "   }(LDAvis);\n",
       "}else if(typeof define === \"function\" && define.amd){\n",
       "   // require.js is available: use it to load d3/LDAvis\n",
       "   require.config({paths: {d3: \"https://d3js.org/d3.v5\"}});\n",
       "   require([\"d3\"], function(d3){\n",
       "      window.d3 = d3;\n",
       "      LDAvis_load_lib(\"https://cdn.jsdelivr.net/gh/bmabey/pyLDAvis@3.2.2/pyLDAvis/js/ldavis.v3.0.0.js\", function(){\n",
       "        new LDAvis(\"#\" + \"ldavis_el131121399332019812569618303225\", ldavis_el131121399332019812569618303225_data);\n",
       "      });\n",
       "    });\n",
       "}else{\n",
       "    // require.js not available: dynamically load d3 & LDAvis\n",
       "    LDAvis_load_lib(\"https://d3js.org/d3.v5.js\", function(){\n",
       "         LDAvis_load_lib(\"https://cdn.jsdelivr.net/gh/bmabey/pyLDAvis@3.2.2/pyLDAvis/js/ldavis.v3.0.0.js\", function(){\n",
       "                 new LDAvis(\"#\" + \"ldavis_el131121399332019812569618303225\", ldavis_el131121399332019812569618303225_data);\n",
       "            })\n",
       "         });\n",
       "}\n",
       "</script>"
      ],
      "text/plain": [
       "PreparedData(topic_coordinates=            Freq  cluster  topics         x         y\n",
       "topic                                                \n",
       "2      58.421786        1       1  0.363407 -0.001859\n",
       "4      35.262797        1       2  0.355129 -0.007280\n",
       "7       2.478742        1       3 -0.107814 -0.285729\n",
       "6       1.178712        1       4 -0.101146  0.088353\n",
       "5       1.147005        1       5 -0.104718  0.067408\n",
       "9       0.674447        1       6 -0.094441  0.043778\n",
       "1       0.282228        1       7 -0.079773  0.022107\n",
       "8       0.238030        1       8 -0.080770  0.028268\n",
       "3       0.168144        1       9 -0.074377  0.022964\n",
       "0       0.148109        1      10 -0.075498  0.021990, topic_info=               Term         Freq        Total Category  logprob  loglift\n",
       "term                                                                    \n",
       "5736        anxiety  1675.000000  1675.000000  Default  30.0000  30.0000\n",
       "1646         people   604.000000   604.000000  Default  29.0000  29.0000\n",
       "3483          drive    84.000000    84.000000  Default  28.0000  28.0000\n",
       "4065           want   606.000000   606.000000  Default  27.0000  27.0000\n",
       "5751         friend   302.000000   302.000000  Default  26.0000  26.0000\n",
       "4305           talk   282.000000   282.000000  Default  25.0000  25.0000\n",
       "4330            say   379.000000   379.000000  Default  24.0000  24.0000\n",
       "2649      therapist   116.000000   116.000000  Default  23.0000  23.0000\n",
       "2606        breathe    49.000000    49.000000  Default  22.0000  22.0000\n",
       "4793          relax    44.000000    44.000000  Default  21.0000  21.0000\n",
       "98                s   248.000000   248.000000  Default  20.0000  20.0000\n",
       "2485         breath    41.000000    41.000000  Default  19.0000  19.0000\n",
       "3072           good   266.000000   266.000000  Default  18.0000  18.0000\n",
       "4741             be  1621.000000  1621.000000  Default  17.0000  17.0000\n",
       "1351          least    51.000000    51.000000  Default  16.0000  16.0000\n",
       "637          slowly    40.000000    40.000000  Default  15.0000  15.0000\n",
       "4903           even   436.000000   436.000000  Default  14.0000  14.0000\n",
       "2653           live   146.000000   146.000000  Default  13.0000  13.0000\n",
       "3867           need   311.000000   311.000000  Default  12.0000  12.0000\n",
       "2252           find   282.000000   282.000000  Default  11.0000  11.0000\n",
       "4405            lot   248.000000   248.000000  Default  10.0000  10.0000\n",
       "1645        thought   233.000000   233.000000  Default   9.0000   9.0000\n",
       "5511           call   127.000000   127.000000  Default   8.0000   8.0000\n",
       "1697           feel  1378.000000  1378.000000  Default   7.0000   7.0000\n",
       "3255           week   221.000000   221.000000  Default   6.0000   6.0000\n",
       "4315     depression   205.000000   205.000000  Default   5.0000   5.0000\n",
       "2724            bad   386.000000   386.000000  Default   4.0000   4.0000\n",
       "5348            ask   160.000000   160.000000  Default   3.0000   3.0000\n",
       "755         anxious   275.000000   275.000000  Default   2.0000   2.0000\n",
       "5747   psychiatrist    48.000000    48.000000  Default   1.0000   1.0000\n",
       "...             ...          ...          ...      ...      ...      ...\n",
       "5012     negatively     0.677871     1.222220  Topic10  -5.1033   5.9255\n",
       "4813        fearful     0.474899     1.019320  Topic10  -5.4592   5.7512\n",
       "4958        tourist     0.418396     0.962729  Topic10  -5.5859   5.6816\n",
       "5343        shortly     0.373526     0.917704  Topic10  -5.6993   5.6161\n",
       "632         bounced     0.356311     0.900513  Topic10  -5.7465   5.5878\n",
       "4995           liar     0.321055     0.865140  Topic10  -5.8507   5.5237\n",
       "1297       avoidant     0.251679     0.795748  Topic10  -6.0941   5.3639\n",
       "5597      accompany     0.233105     0.777239  Topic10  -6.1708   5.3107\n",
       "4076         herbal     0.212378     0.756521  Topic10  -6.2639   5.2446\n",
       "4861  confrontation     0.160353     0.704496  Topic10  -6.5449   5.0349\n",
       "2283           zine     0.019453     0.588819  Topic10  -8.6543   3.1049\n",
       "5233        artwork     0.019453     0.588819  Topic10  -8.6543   3.1049\n",
       "1730     disclosure     0.018732     0.572693  Topic10  -8.6921   3.0949\n",
       "1261       pleasing     0.018579     0.592431  Topic10  -8.7003   3.0528\n",
       "319         opposed     0.017805     0.582969  Topic10  -8.7428   3.0263\n",
       "1387       monument     0.017805     0.582969  Topic10  -8.7428   3.0263\n",
       "1768         accost     0.017805     0.582969  Topic10  -8.7428   3.0263\n",
       "926     participant     0.017495     0.573452  Topic10  -8.7604   3.0252\n",
       "1010         layout     0.017495     0.573452  Topic10  -8.7604   3.0252\n",
       "2911         spruce     0.017495     0.573452  Topic10  -8.7604   3.0252\n",
       "3637       informal     0.017495     0.573452  Topic10  -8.7604   3.0252\n",
       "4262    contributor     0.017495     0.573452  Topic10  -8.7604   3.0252\n",
       "4906         poetry     0.017495     0.573452  Topic10  -8.7604   3.0252\n",
       "1665         neuron     0.018022     0.597585  Topic10  -8.7307   3.0137\n",
       "1860    radioactive     0.018022     0.597585  Topic10  -8.7307   3.0137\n",
       "2179     ackowledge     0.018022     0.597585  Topic10  -8.7307   3.0137\n",
       "2687           glow     0.018022     0.597585  Topic10  -8.7307   3.0137\n",
       "2780      screaming     0.018022     0.597585  Topic10  -8.7307   3.0137\n",
       "3371   horrendously     0.017799     0.595444  Topic10  -8.7431   3.0048\n",
       "4974      definetly     0.018007     0.643445  Topic10  -8.7315   2.9389\n",
       "\n",
       "[424 rows x 6 columns], token_table=      Topic      Freq         Term\n",
       "term                              \n",
       "5869      9  0.852213      abandon\n",
       "3952      4  0.957841   absolutely\n",
       "1405      7  0.916295   acceptance\n",
       "1978      6  0.786313       addict\n",
       "501       6  0.898171        admit\n",
       "3877      6  0.928207   adrenaline\n",
       "83        5  0.962063        adult\n",
       "610       4  0.972547          air\n",
       "5056      2  0.999697        alone\n",
       "3461      1  0.288764       always\n",
       "3461      2  0.709170       always\n",
       "2624      3  0.977894       amount\n",
       "197       8  0.909796     announce\n",
       "2406      7  0.896080   anticipate\n",
       "5736      1  0.979875      anxiety\n",
       "5736      2  0.019693      anxiety\n",
       "755       1  0.982094      anxious\n",
       "755       2  0.018120      anxious\n",
       "4112      8  0.725561  anyone_else\n",
       "2561      4  0.989858       around\n",
       "5348      1  0.099893          ask\n",
       "5348      2  0.899039          ask\n",
       "1418      1  0.999172       attack\n",
       "1691      7  0.517842    available\n",
       "322       6  0.867979         baby\n",
       "3094      1  0.981364         back\n",
       "3094      2  0.015394         back\n",
       "2724      1  0.958514          bad\n",
       "2724      2  0.041449          bad\n",
       "4309      3  0.921685       battle\n",
       "...     ...       ...          ...\n",
       "5784      6  0.757879      tremble\n",
       "4845      1  0.996915      trigger\n",
       "4953      1  0.609476          try\n",
       "4953      2  0.390065          try\n",
       "4024      3  0.931496       twitch\n",
       "5418      2  0.995899   understand\n",
       "2461      9  0.658257     unstable\n",
       "4795      5  0.890204      useless\n",
       "1413      4  0.921372       vision\n",
       "5078      6  0.992734        visit\n",
       "4065      1  0.136904         want\n",
       "4065      2  0.862658         want\n",
       "4234      2  0.989475        watch\n",
       "3166      4  0.949906        water\n",
       "3644      4  0.962756         wave\n",
       "4665      3  0.922422      website\n",
       "1561      3  0.947206         weed\n",
       "3255      1  0.996746         week\n",
       "1123      1  0.946591         well\n",
       "1123      2  0.052588         well\n",
       "1109     10  0.962804      willing\n",
       "3102      8  0.858759       window\n",
       "4622      4  0.956823        woman\n",
       "3454      6  0.960576    wordpress\n",
       "209       1  0.722670         work\n",
       "209       2  0.275658         work\n",
       "1324      1  0.713618        would\n",
       "1324      2  0.286694        would\n",
       "2447      1  0.599900         year\n",
       "2447      2  0.399933         year\n",
       "\n",
       "[384 rows x 3 columns], R=30, lambda_step=0.01, plot_opts={'xlab': 'PC1', 'ylab': 'PC2'}, topic_order=[3, 5, 8, 7, 6, 10, 2, 9, 4, 1])"
      ]
     },
     "execution_count": 18,
     "metadata": {},
     "output_type": "execute_result"
    }
   ],
   "source": [
    "# Visualize the topics\n",
    "pyLDAvis.enable_notebook()\n",
    "vis = pyLDAvis.gensim.prepare(lda_model, corpus, id2word)\n",
    "vis"
   ]
  },
  {
   "cell_type": "code",
   "execution_count": 21,
   "metadata": {},
   "outputs": [],
   "source": [
    "num_topics = 10\n",
    "topic_words = []\n",
    "for i in range(num_topics):\n",
    "    tt = lda_model.get_topic_terms(i,10)\n",
    "    topic_words.append([id2word[pair[0]] for pair in tt])"
   ]
  },
  {
   "cell_type": "code",
   "execution_count": 22,
   "metadata": {},
   "outputs": [
    {
     "name": "stdout",
     "output_type": "stream",
     "text": [
      "['round', 'willing', 'connect', 'please', 'regard', 'lurk', 'solid', 'negatively', 'fearful', 'tourist']\n",
      "['acceptance', 'cognitive_behavioral', 'key', 'forum', 'gut', 'recovery', 'mindfulness', 'relation', 'claim', 'available']\n",
      "['anxiety', 'feel', 'go', 'be', 'get', 'have', 'help', 'really', 'start', 'would']\n",
      "['drive', 'cop', 'mile', 'gas', 'driving', 'unstable', 'crappy', 'highway', 'nicely', 'abandon']\n",
      "['be', 'people', 'want', 'know', 'think', 'say', 'friend', 'go', 'even', 'talk']\n",
      "['relax', 'silly', 'large', 'male', 'psychologist', 'rush', 'flight', 'routine', 'touch', 'adult']\n",
      "['breath', 'breathe', 'breathing', 'absolutely', 'around', 'leg', 'exist', 'sensation', 'major', 'middle']\n",
      "['create', 'goal', 'amount', 'coffee', 'quit', 'subreddit', 'comfortable', 'note', 'least', 'cbt']\n",
      "['sound', 'roll', 'chat', 'window', 'interested', 'scream', 'coyote', 'anyone_else', 'friendly', 'primal']\n",
      "['visit', 'event', 'reward', 'roommate', 'coworker', 'luck', 'clear', 'cold', 'baby', 'piss']\n"
     ]
    }
   ],
   "source": [
    "for i in range(0,10):\n",
    "    print(topic_words[i])"
   ]
  },
  {
   "cell_type": "code",
   "execution_count": 25,
   "metadata": {},
   "outputs": [],
   "source": [
    "df=pd.DataFrame({'Year':[],'Source':[],'Topic_ID':[],'Most_freq_words':[]})"
   ]
  },
  {
   "cell_type": "code",
   "execution_count": 26,
   "metadata": {},
   "outputs": [],
   "source": [
    "df['Most_freq_words']=topic_words"
   ]
  },
  {
   "cell_type": "code",
   "execution_count": 28,
   "metadata": {},
   "outputs": [],
   "source": [
    "df = df.assign(Year='2012')\n",
    "df = df.assign(Source='Reddit')"
   ]
  },
  {
   "cell_type": "code",
   "execution_count": 29,
   "metadata": {},
   "outputs": [],
   "source": [
    "df['Topic_ID']=[0,1,2,3,4,5,6,7,8,9]"
   ]
  },
  {
   "cell_type": "code",
   "execution_count": 30,
   "metadata": {},
   "outputs": [
    {
     "data": {
      "text/html": [
       "<div>\n",
       "<style scoped>\n",
       "    .dataframe tbody tr th:only-of-type {\n",
       "        vertical-align: middle;\n",
       "    }\n",
       "\n",
       "    .dataframe tbody tr th {\n",
       "        vertical-align: top;\n",
       "    }\n",
       "\n",
       "    .dataframe thead th {\n",
       "        text-align: right;\n",
       "    }\n",
       "</style>\n",
       "<table border=\"1\" class=\"dataframe\">\n",
       "  <thead>\n",
       "    <tr style=\"text-align: right;\">\n",
       "      <th></th>\n",
       "      <th>Most_freq_words</th>\n",
       "      <th>Source</th>\n",
       "      <th>Topic_ID</th>\n",
       "      <th>Year</th>\n",
       "    </tr>\n",
       "  </thead>\n",
       "  <tbody>\n",
       "    <tr>\n",
       "      <th>0</th>\n",
       "      <td>[round, willing, connect, please, regard, lurk...</td>\n",
       "      <td>Reddit</td>\n",
       "      <td>0</td>\n",
       "      <td>2012</td>\n",
       "    </tr>\n",
       "    <tr>\n",
       "      <th>1</th>\n",
       "      <td>[acceptance, cognitive_behavioral, key, forum,...</td>\n",
       "      <td>Reddit</td>\n",
       "      <td>1</td>\n",
       "      <td>2012</td>\n",
       "    </tr>\n",
       "    <tr>\n",
       "      <th>2</th>\n",
       "      <td>[anxiety, feel, go, be, get, have, help, reall...</td>\n",
       "      <td>Reddit</td>\n",
       "      <td>2</td>\n",
       "      <td>2012</td>\n",
       "    </tr>\n",
       "    <tr>\n",
       "      <th>3</th>\n",
       "      <td>[drive, cop, mile, gas, driving, unstable, cra...</td>\n",
       "      <td>Reddit</td>\n",
       "      <td>3</td>\n",
       "      <td>2012</td>\n",
       "    </tr>\n",
       "    <tr>\n",
       "      <th>4</th>\n",
       "      <td>[be, people, want, know, think, say, friend, g...</td>\n",
       "      <td>Reddit</td>\n",
       "      <td>4</td>\n",
       "      <td>2012</td>\n",
       "    </tr>\n",
       "  </tbody>\n",
       "</table>\n",
       "</div>"
      ],
      "text/plain": [
       "                                     Most_freq_words  Source  Topic_ID  Year\n",
       "0  [round, willing, connect, please, regard, lurk...  Reddit         0  2012\n",
       "1  [acceptance, cognitive_behavioral, key, forum,...  Reddit         1  2012\n",
       "2  [anxiety, feel, go, be, get, have, help, reall...  Reddit         2  2012\n",
       "3  [drive, cop, mile, gas, driving, unstable, cra...  Reddit         3  2012\n",
       "4  [be, people, want, know, think, say, friend, g...  Reddit         4  2012"
      ]
     },
     "execution_count": 30,
     "metadata": {},
     "output_type": "execute_result"
    }
   ],
   "source": [
    "df.head()"
   ]
  },
  {
   "cell_type": "code",
   "execution_count": 31,
   "metadata": {},
   "outputs": [],
   "source": [
    "df.to_csv(\"topic_words_r2012.csv\")"
   ]
  }
 ],
 "metadata": {
  "kernelspec": {
   "display_name": "Python 3",
   "language": "python",
   "name": "python3"
  },
  "language_info": {
   "codemirror_mode": {
    "name": "ipython",
    "version": 3
   },
   "file_extension": ".py",
   "mimetype": "text/x-python",
   "name": "python",
   "nbconvert_exporter": "python",
   "pygments_lexer": "ipython3",
   "version": "3.5.2"
  }
 },
 "nbformat": 4,
 "nbformat_minor": 2
}
